{
 "cells": [
  {
   "cell_type": "code",
   "execution_count": 1,
   "metadata": {},
   "outputs": [],
   "source": [
    "import crossrefexp as exp"
   ]
  },
  {
   "cell_type": "code",
   "execution_count": 2,
   "metadata": {},
   "outputs": [
    {
     "name": "stdout",
     "output_type": "stream",
     "text": [
      "442 metadata loaded from `data/cachemetadata.pickle`\n"
     ]
    }
   ],
   "source": [
    "store = exp.MetaDataStore('data/cachemetadata.pickle')"
   ]
  },
  {
   "cell_type": "code",
   "execution_count": 33,
   "metadata": {},
   "outputs": [
    {
     "name": "stdout",
     "output_type": "stream",
     "text": [
      "[{'key': 'PhysRevLett.5.309Cc1R1', 'year': '1957', 'author': 'W. Kohn', 'volume-title': 'Solid-State Physics'}]\n",
      "[{'key': 'PhysRevB.13.1622Cc3R1', 'year': '1965', 'journal-title': 'Fiz. Tverd. Tela', 'volume': '7', 'first-page': '1821', 'author': 'Yu. I. Ravich'}, {'key': 'PhysRevB.13.1622Cc5R1', 'year': '1955', 'journal-title': 'Adv. Electr.', 'volume': '7', 'first-page': '121', 'author': 'H. Brooks'}, {'key': 'PhysRevB.13.1622Cc6R1', 'year': '1975', 'author': 'J. A. Van Vechten', 'volume-title': 'Lattice Defects in Semiconductors, International Physics Conference, Series No. 23, 1974'}, {'key': 'PhysRevB.13.1622Cc11R1', 'year': '1963', 'author': 'R. W. G. Wyckoff', 'volume-title': 'Crystal Structures'}, {'key': 'PhysRevB.13.1622Cc12R1', 'year': '1969', 'author': 'C. Kittel', 'volume-title': 'Thermal Physics'}, {'journal-title': 'Physica (Utr.)', 'key': 'PhysRevB.13.1622Cc13R1', 'year': '1967', 'first-page': '34', 'author': 'Y. P. Varshni'}, {'key': 'PhysRevB.13.1622Cc17R1', 'year': '1963', 'author': 'G. Dolling', 'volume-title': 'Inelastic Scattering of Neutrons in Solids and Liquids'}, {'key': 'PhysRevB.13.1622Cc19R2', 'year': '1970', 'journal-title': 'Solid State Phys.', 'volume': '24', 'first-page': '134', 'author': 'M. L. Cohen'}, {'key': 'PhysRevB.13.1622Cc30R1', 'year': '1967', 'author': 'C. R. Pidgeon', 'volume-title': 'Proceedings of the International Conference on II-VI Compounds'}, {'key': 'PhysRevB.13.1622Cc34R1', 'year': '1974', 'author': 'C. H. Henry', 'volume-title': 'Proceedings of the Twelfth International Conference on the Physics of Semiconductors'}]\n",
      "[{'ISSN': 'http://id.crossref.org/issn/0001-4036', 'key': 'r3', 'year': '1964', 'volume': '258', 'journal-title': 'Compt. Rend.', 'issn-type': 'print', 'first-page': '2039', 'author': 'Mayer G.'}, {'ISSN': 'http://id.crossref.org/issn/0044-4510', 'key': 'r6', 'year': '1968', 'volume': '54', 'journal-title': 'Zh. Eksperim. i Teor. Fiz.', 'issn-type': 'print', 'first-page': '1374', 'author': 'Veduta A. P.'}, {'ISSN': 'http://id.crossref.org/issn/0038-5646', 'key': 'r6', 'year': '1968', 'volume': '27', 'journal-title': 'Soviet Phys.—JETP', 'issn-type': 'print', 'first-page': '736', 'author': 'Veduta A. P.'}, {'key': 'r8', 'year': '1966', 'journal-title': 'Compt. Rend.', 'volume': '262', 'first-page': '264', 'author': 'Paillette M.'}, {'ISSN': 'http://id.crossref.org/issn/0376-0138', 'key': 'r11', 'year': '1966', 'volume': '4', 'journal-title': 'Zh. Eksperim. i. Teor. Fiz. Pis’ma Redaktsiyu', 'issn-type': 'print', 'first-page': '262', 'author': 'Starunov V. S.'}, {'key': 'r11', 'year': '1966', 'journal-title': 'Soviet Phys.—JETP Letters', 'volume': '4', 'first-page': '176', 'author': 'Starunov V. S.'}]\n",
      "[{'key': 'PhysRevB.31.2254Cc3R1', 'year': '1982', 'volume-title': 'Ia. G. Sinai, in .ul 2 Proceedings of the Berlin Conference on Mathematical Problems in Theoretical Physics'}, {'key': 'PhysRevB.31.2254Cc5R1', 'year': '1979', 'author': 'A. van der Ziel', 'volume-title': 'Advances in Electronics and Electron Physics'}, {'key': 'PhysRevB.31.2254Cc14R1', 'year': '1977', 'author': 'A. B. Glaser', 'volume-title': 'Integrated Circuit Engineering'}, {'key': 'PhysRevB.31.2254Cc15R1', 'year': '1983', 'author': 'L. Loreck', 'volume-title': 'Noise in Physical Systems and 1/f Noise'}, {'key': 'PhysRevB.31.2254Cc16R1', 'year': '1983', 'author': 'K. Kandiah', 'volume-title': 'Noise in Physical Systems and 1/f Noise'}]\n",
      "[{'key': 'PhysRevA.52.R2493Cc2R1', 'year': '1993', 'author': 'A. Yao', 'volume-title': 'Proceedings of the 34th Annual Symposium on Foundations of Computer Science'}, {'key': 'PhysRevA.52.R2493Cc5R1', 'year': '1993', 'author': 'E. Bernstein', 'volume-title': 'Proceedings of the 25th Annual ACM Symposium on the Theory of Computing'}, {'key': 'PhysRevA.52.R2493Cc6R1', 'year': '1994', 'author': 'D. Simon', 'volume-title': 'Proceedings of the 35th Annual Symposium on Foundations of Computer Science'}, {'key': 'PhysRevA.52.R2493Cc7R1', 'author': 'P. W. Shor', 'volume-title': 'Proceedings of the 35th Annual Symposium on Foundations of Computer Science'}, {'key': 'PhysRevA.52.R2493Cc10R1', 'year': '1994', 'author': 'A. Berthiaume', 'volume-title': 'Proceedings of the Workshop on Physics and Computation, PhysComp 94'}]\n",
      "[{'key': 'RevModPhys.68.733Cc9R1', 'year': '1993', 'author': 'Bernstein, E.', 'volume-title': 'Proceedings of the 25th ACM Symposium on the Theory of Computation'}, {'key': 'RevModPhys.68.733Cc11R1', 'year': '1994', 'author': 'Berthiaume, A.', 'volume-title': \"Proceedings of the Workshop on Physics and Computation—PhysComp '94\"}, {'key': 'RevModPhys.68.733Cc14R1', 'year': '1995', 'author': 'Chuang, I.', 'volume-title': 'A simple quantum computer'}, {'key': 'RevModPhys.68.733Cc16R1', 'year': '1994', 'author': 'Cleve, R.', 'volume-title': 'A note on computing Fourier transformation by quantum programs'}, {'key': 'RevModPhys.68.733Cc26R1', 'year': '1988', 'author': 'Dunne, P. E.', 'volume-title': 'The Complexity of Boolean Networks'}, {'key': 'RevModPhys.68.733Cc29R1', 'year': '1965', 'author': 'Hardy, G. H.', 'volume-title': 'An Introduction to the Theory of Numbers'}, {'key': 'RevModPhys.68.733Cc30R1', 'year': '1992', 'author': 'Hecht, J.', 'volume-title': 'The Laser Guidebook'}, {'key': 'RevModPhys.68.733Cc32R1', 'year': '1992', 'author': 'Jozsa, R.', 'volume-title': \"Proceedings of Workshop on Physics and Computation—PhysComp '92\"}, {'key': 'RevModPhys.68.733Cc33R1', 'year': '1981', 'author': 'Knuth, D. E.', 'volume-title': 'The Art of Computer Programming, Volume 2: Seminumerical Algorithms'}, {'key': 'RevModPhys.68.733Cc37R1', 'year': '1963', 'journal-title': 'C. R. Acad. Sci. Ser. A', 'volume': '257', 'first-page': '2597', 'author': 'Lecerf, Y.'}, {'key': 'RevModPhys.68.733Cc38R1', 'year': '1990', 'author': 'Lenstra, A. K.', 'volume-title': 'Proceedings of the 22nd ACM Symposium on the Theory of Computing'}, {'key': 'RevModPhys.68.733Cc45R1', 'year': '1991', 'author': 'Margolus, N.', 'volume-title': 'Complexity, Entropy, and the Physics of Information'}, {'key': 'RevModPhys.68.733Cc49R1', 'year': '1994', 'author': 'Papadimitriou, C. H.', 'volume-title': 'Computational Complexity'}, {'key': 'RevModPhys.68.733Cc51R1', 'year': '1989', 'author': 'Penrose, R.', 'volume-title': \"The Emperor's New Mind\"}, {'key': 'RevModPhys.68.733Cc53R1', 'year': '1989', 'author': 'Raimond, J. M.', 'volume-title': 'Laser Spectroscopy IX'}, {'key': 'RevModPhys.68.733Cc56R1', 'year': '1990', 'author': 'Schroeder, M. R.', 'volume-title': 'Number Theory in Science and Communication'}, {'key': 'RevModPhys.68.733Cc58R1', 'year': '1994', 'author': 'Shor, P. W.', 'volume-title': 'Proceedings of the 35th Annual Symposium on the Foundations of Computer Science'}, {'key': 'RevModPhys.68.733Cc61R1', 'year': '1994', 'author': 'Simon, D. S.', 'volume-title': 'Proceedings of the 35th Annual Symposium on the Foundations of Computer Science'}, {'key': 'RevModPhys.68.733Cc67R1', 'year': '1988', 'author': 'Welsh, D.', 'volume-title': 'Codes and Cryptography'}, {'key': 'RevModPhys.68.733Cc68R1', 'year': '1993', 'author': 'Yao, A.', 'volume-title': 'Proceedings of the 34th Annual Symposium on the Foundations of Computer Science'}]\n",
      "[{'key': 'PhysRevLett.75.4714Cc4R1', 'year': '1994', 'author': 'P. Shor', 'volume-title': 'Proceedings of the 35th Annual Symposium on the Foundations of Computer Science'}, {'key': 'PhysRevLett.75.4714Cc9R1', 'author': 'R. Landauer', 'volume-title': 'Proceedings of the Drexel-4 Symposium on Quantum Nonintegrability-Quantum Classical Correspondence'}, {'key': 'PhysRevLett.75.4714Cc13R2', 'author': 'M. Brune', 'volume-title': 'Laser Spectroscopy XII'}, {'key': 'PhysRevLett.75.4714Cc14R1', 'author': 'H.J. Kimble', 'volume-title': 'Laser Spectroscopy XIII'}, {'journal-title': 'Rev. Mod. Phys.', 'key': 'PhysRevLett.75.4714Cc19R1', 'author': 'A. Ekert'}, {'key': 'PhysRevLett.75.4714Cc20R1', 'year': '1956', 'author': 'N.F. Ramsey', 'volume-title': 'Molecular Beams'}]\n",
      "[{'key': 'PhysRevB.54.7421Cc12R1', 'year': '1991', 'author': 'D.V. Averin', 'volume-title': 'Mesoscopic Phenomena in Solids'}, {'key': 'PhysRevB.54.7421Cc14R1', 'year': '1996', 'journal-title': 'Supercond. Rev.', 'volume': '1', 'first-page': '261', 'author': 'C. Bruder'}, {'key': 'PhysRevB.54.7421Cc16R1', 'year': '1996', 'author': 'M. Tinkham', 'volume-title': 'Introduction to Superconductivity, 2nd ed.'}]\n",
      "[{'key': '10.1002/pssb.2220530209-BIB1', 'year': '1968', 'journal-title': 'Solid State Phys.', 'volume': '22', 'first-page': '28', 'author': 'Alexander'}, {'unstructured': 'and , Annual Review of Materials Science, in the press.', 'key': '10.1002/pssb.2220530209-BIB2', 'author': 'Alexander'}, {'key': '10.1002/pssb.2220530209-BIB4', 'year': '1965', 'journal-title': 'phys. stat. sol.', 'volume': '10', 'first-page': '645', 'author': 'Labusch'}, {'key': '10.1002/pssb.2220530209-BIB6', 'year': '1970', 'journal-title': 'J. appl. Phys.', 'volume': '41', 'first-page': '2814', 'author': 'Patel'}, {'unstructured': 'Thesis, Göttingen 1971;', 'key': '10.1002/pssb.2220530209-BIB7.1', 'year': '1971', 'author': 'Schaumburg'}, {'journal-title': 'Phil. Mag.', 'first-page': '1429', 'year': '1972', 'volume': '25', 'key': '10.1002/pssb.2220530209-BIB7.2'}, {'key': '10.1002/pssb.2220530209-BIB8', 'year': '1963', 'journal-title': 'Phys. Rev.', 'volume': '131', 'first-page': '58', 'author': 'Celli'}, {'key': '10.1002/pssb.2220530209-BIB9.1', 'year': '1970', 'journal-title': 'Soviet Phys. – Solid State', 'volume': '11', 'first-page': '2635', 'author': 'v. Rybin'}, {'journal-title': 'Soviet Phys. – Solid State', 'first-page': '3022', 'year': '1970', 'volume': '11', 'key': '10.1002/pssb.2220530209-BIB9.2'}, {'key': '10.1002/pssb.2220530209-BIB10', 'year': '1969', 'journal-title': 'phys. stat. sol.', 'volume': '35', 'first-page': '79', 'author': 'Erofeev'}, {'key': '10.1002/pssb.2220530209-BIB11', 'year': '1971', 'journal-title': 'Soviet Phys. – Solid State', 'volume': '13', 'first-page': '116', 'author': 'Erofeev'}, {'key': '10.1002/pssb.2220530209-BIB12', 'year': '1971', 'journal-title': 'Soviet Phys. – J. exper. theor. Phys.', 'volume': '60', 'first-page': '1780', 'author': 'Erofeev'}, {'key': '10.1002/pssb.2220530209-BIB13.1', 'year': '1970', 'journal-title': 'Phil. Mag', 'volume': '22', 'first-page': '853', 'author': 'Ray'}, {'journal-title': 'Proc. Roy. Soc.', 'first-page': '543', 'year': '1971', 'volume': 'A 325', 'key': '10.1002/pssb.2220530209-BIB13.2'}, {'key': '10.1002/pssb.2220530209-BIB14', 'year': '1958', 'journal-title': 'J. Phys. Chem. Solids', 'volume': '5', 'first-page': '129', 'author': 'Hornstra'}, {'unstructured': ', and , private communication.', 'key': '10.1002/pssb.2220530209-BIB15', 'author': 'Ray'}, {'unstructured': 'private communication.', 'key': '10.1002/pssb.2220530209-BIB16', 'author': 'Labusch'}, {'key': '10.1002/pssb.2220530209-BIB17', 'year': '1967', 'journal-title': 'phys. stat. sol.', 'volume': '19', 'first-page': '297', 'author': 'Schäfer'}, {'unstructured': 'Thèse de Docteur Ingénieur, Nancy 1972.', 'key': '10.1002/pssb.2220530209-BIB18', 'year': '1972', 'author': 'George'}, {'unstructured': 'to be published.', 'key': '10.1002/pssb.2220530209-BIB19', 'author': 'George'}, {'key': '10.1002/pssb.2220530209-BIB20', 'year': '1962', 'journal-title': 'J. appl. Phys.', 'volume': '33', 'first-page': '2736', 'author': 'Chaudhuri'}, {'key': '10.1002/pssb.2220530209-BIB21', 'year': '1965', 'journal-title': 'Acta Phys. Sinica', 'volume': '21', 'first-page': '1968', 'author': 'Huang'}, {'key': '10.1002/pssb.2220530209-BIB22', 'year': '1966', 'journal-title': 'Acta metall.', 'volume': '14', 'first-page': '913', 'author': 'Suzuki'}, {'unstructured': 'private communication.', 'key': '10.1002/pssb.2220530209-BIB23', 'author': 'Steinhardt'}, {'unstructured': 'and , Theory of Dislocations, McGraham-Hill Book Co., New York 1968.', 'key': '10.1002/pssb.2220530209-BIB24', 'year': '1968', 'author': 'Hirth', 'volume-title': 'Theory of Dislocations'}, {'key': '10.1002/pssb.2220530209-BIB25', 'year': '1967', 'journal-title': 'phys. stat. sol.', 'volume': '21', 'first-page': '805', 'author': 'Khiznichenko'}, {'unstructured': 'Diploma Thesis, Göttingen 1972.', 'key': '10.1002/pssb.2220530209-BIB26', 'year': '1972', 'author': 'Möller'}, {'key': '10.1002/pssb.2220530209-BIB27', 'year': '1971', 'journal-title': 'Soviet Phys. – Solid State', 'volume': '13', 'first-page': '1204', 'author': 'v. Petukhov'}]\n",
      "[{'key': 'PhysRev.140.A586Cc5R1', 'year': '1956', 'author': 'K. Hauffe', 'volume-title': 'Semiconductor Surface Physics'}, {'key': 'PhysRev.140.A586Cc6R1', 'year': '1964', 'author': 'N. F. Mott', 'volume-title': 'Electronic Processes in Ionic Crystals'}, {'key': 'PhysRev.140.A586Cc9R1', 'year': '1935', 'author': 'L. Pauling', 'volume-title': 'Introduction to Quantum Mechanics'}, {'key': 'PhysRev.140.A586Cc10R1', 'year': '1955', 'author': 'L. I. Schiff', 'volume-title': 'Quantum Mechanics'}]\n",
      "[{'key': 'PhysRevLett.69.1997Cc1R1', 'year': '1991', 'author': 'D. V. Averin', 'volume-title': 'Mesoscopic Phenomena in Solids'}]\n",
      "[{'ISSN': 'http://id.crossref.org/issn/0003-0503', 'key': 'r18', 'year': '1984', 'volume': '29', 'journal-title': 'Bull. Am. Phys. Soc.', 'issn-type': 'print', 'first-page': '339', 'author': 'Johnson N. M.'}]\n",
      "[{'ISSN': 'http://id.crossref.org/issn/0003-6900', 'key': 'r8', 'year': '1968', 'issn-type': 'print', 'journal-title': 'Appl. Mech. Rev.', 'volume': '21', 'first-page': '767', 'author': 'Gilman J. J.'}, {'ISSN': 'http://id.crossref.org/issn/0004-0800', 'key': 'r9', 'year': '1968', 'issn-type': 'print', 'journal-title': 'Arch. Mech. Stosowanej', 'volume': '20', 'first-page': '499', 'author': 'Perzyna P.'}]\n",
      "[{'key': 'PhysRevB.93.075105Cc9R1', 'year': '2015', 'author': 'A. A. Bakulin', 'volume-title': 'Ultrafast Phenomena XIX'}]\n",
      "[{'key': '10.1002/crat.19780131013-BIB1', 'year': '1963', 'journal-title': 'Phys. Rev.', 'volume': '131', 'first-page': '58', 'author': 'Celli'}, {'key': '10.1002/crat.19780131013-BIB2', 'year': '1962', 'journal-title': 'J. appl. Physics', 'volume': '33', 'first-page': '2736', 'author': 'Chaudhuri'}, {'key': '10.1002/crat.19780131013-BIB3', 'year': '1971', 'journal-title': \"Z. eksperimental'noj i teoretičeskoj fiziki\", 'volume': '60', 'first-page': '1780', 'author': 'Erofeev'}, {'key': '10.1002/crat.19780131013-BIB4', 'year': '1975', 'journal-title': 'Exp. Techn. Physik', 'volume': '23', 'first-page': '617', 'author': 'Fischer'}, {'unstructured': ': Dissertation, Library of the State University Minsk (1976)', 'key': '10.1002/crat.19780131013-BIB5', 'year': '1976', 'author': 'Fischer'}, {'key': '10.1002/crat.19780131013-BIB6', 'year': '1972', 'journal-title': 'phys. stat. sol. (b)', 'volume': '53', 'first-page': '483', 'author': 'George'}, {'unstructured': ': Theory of Dislocations, New York 1968', 'key': '10.1002/crat.19780131013-BIB7', 'year': '1968', 'author': 'Hirth'}, {'key': '10.1002/crat.19780131013-BIB8', 'year': '1965', 'journal-title': 'Acta Phys. Sinica', 'volume': '21', 'first-page': '1968', 'author': 'Huang'}, {'key': '10.1002/crat.19780131013-BIB9', 'year': '1965', 'journal-title': 'phys. stat. sol.', 'volume': '10', 'first-page': '645', 'author': 'Labusch'}, {'key': '10.1002/crat.19780131013-BIB10.1', 'year': '1970', 'journal-title': 'Fiz. tverd. tela', 'volume': '11', 'first-page': '2635', 'author': 'Rybin'}, {'journal-title': 'Fiz. tverd. tela', 'first-page': '3022', 'year': '1970', 'volume': '11', 'key': '10.1002/crat.19780131013-BIB10.2'}, {'key': '10.1002/crat.19780131013-BIB11', 'year': '1972', 'journal-title': 'Phil. Mag.', 'volume': '25', 'first-page': '1429', 'author': 'Schaumburg'}]\n",
      "[{'key': 'PhysRev.103.834Cc3R1', 'year': '1953', 'author': 'N. R. Ramsey', 'volume-title': 'Nuclear Moments'}]\n",
      "[{'key': 'PhysRevLett.104.250401Cc7R1', 'year': '2002', 'author': 'H.-P. Breuer', 'volume-title': 'The Theory of Open Quantum Systems'}, {'key': 'PhysRevLett.104.250401Cc22R1', 'year': '2001', 'author': 'M.\\u2009H. Levitt', 'volume-title': 'Spin Dynamics: Basics of Nuclear Magnetic Resonance'}]\n",
      "[{'year': '1976', 'journal-title': 'Crit. Rev. Solid State Sci.', 'volume': '6', 'author': 'Goetzberger A.', 'key': 'r4'}, {'ISSN': 'http://id.crossref.org/issn/0003-0503', 'key': 'r20', 'year': '1978', 'volume': '23', 'journal-title': 'Bull. Am. Phys. Soc.', 'issn-type': 'print', 'first-page': '406', 'author': 'Harrison W. A.'}, {'key': 'r22', 'year': '1978', 'journal-title': 'Phys. Status Solid', 'volume': '68', 'first-page': '405', 'author': 'Cliadi D. J.'}]\n",
      "[{'key': '10.1002/sapm196342127-BIB0001|sapm196342127-cit-0001', 'year': '1960', 'first-page': '407', 'author': 'Drucker', 'volume-title': 'Proc. 1st Symp. Naval Structural Mechanics'}, {'key': '10.1002/sapm196342127-BIB0002|sapm196342127-cit-0002', 'year': '1960', 'first-page': '121', 'author': 'Naghdi', 'volume-title': '2nd Symp. Naval Structural Mechanics'}, {'key': '10.1002/sapm196342127-BIB0003|sapm196342127-cit-0003', 'year': '1957', 'author': 'Prager', 'volume-title': 'Special Lectures Delivered at the Seminar in Applied Mechanics'}, {'key': '10.1002/sapm196342127-BIB0004|sapm196342127-cit-0004', 'year': '1950', 'author': 'Hill', 'volume-title': 'The Mathematical Theory of Plasticity'}, {'key': '10.1002/sapm196342127-BIB0007|sapm196342127-cit-0007', 'year': '1958', 'journal-title': 'Ergeb. Angew. Math', 'volume': '5', 'first-page': '1', 'author': 'Kröner'}, {'unstructured': '', 'key': '10.1002/sapm196342127-BIB0008|sapm196342127-cit-0008'}, {'unstructured': '', 'key': '10.1002/sapm196342127-BIB0009|sapm196342127-cit-0009'}]\n",
      "[{'unstructured': 'Facchi, P. & Ligabò, M. Quantum zeno effect and dynamics. J. Phys. A: Math. Theor. 51, 022103 (2010).', 'key': '1844_CR7', 'year': '2010', 'journal-title': 'J. Phys. A: Math. Theor.', 'volume': '51', 'first-page': '022103', 'author': 'P Facchi'}, {'unstructured': 'Wu, W. & Lin, H.-Q. Quantum Zeno and anti-Zeno effects in quantum dissipative systems. e-print arXiv:1701.02100 (2017).', 'key': '1844_CR38'}]\n",
      "[{'ISSN': 'http://id.crossref.org/issn/0044-2283', 'key': 'r9', 'year': '1964', 'volume': '18', 'journal-title': 'Z. Angew. Phys.', 'issn-type': 'print', 'first-page': '184', 'author': 'Brehm H.'}]\n",
      "[{'key': 'PhysRevLett.77.2814Cc1R1', 'year': '1993', 'author': 'D. D. Awschalom', 'volume-title': 'Optics of Semiconductor Nanostructures,'}, {'key': 'PhysRevLett.77.2814Cc10R1', 'year': '1995', 'author': 'R. W. Martin', 'volume-title': 'II-VI Compounds and Semimagnetic Semiconductors,'}]\n",
      "[{'key': 'RevModPhys.59.1Cc2R1', 'year': '1984', 'author': 'Anderson, P. W.', 'volume-title': 'Basic Notions of Condensed Matter Physics'}, {'key': 'RevModPhys.59.1Cc13R1', 'year': '1982', 'journal-title': 'Phys. Rev. Lett.', 'volume': '49', 'first-page': '1546', 'author': 'Bray, A. J.'}, {'key': 'RevModPhys.59.1Cc14R1', 'year': '1984', 'journal-title': \"Pis'ma Zh. Eksp. Teor. Fiz.\", 'volume': '39', 'first-page': '264', 'author': 'Bulgadaev, S. A.'}, {'journal-title': 'Phys. Rev. B', 'key': 'RevModPhys.59.1Cc23R2', 'volume': '30', 'first-page': '1556', 'author': 'Chang, L-D.'}, {'journal-title': 'J. Stat. Phys.', 'key': 'RevModPhys.59.1Cc25R1', 'year': '1986', 'author': 'Chen, Y-C.'}, {'key': 'RevModPhys.59.1Cc26R1', 'year': '1979', 'author': 'Coleman, S.', 'volume-title': 'The Whys of Subnuclear Physics'}, {'key': 'RevModPhys.59.1Cc27R1', 'year': '1976', 'author': \"d'Espagnat, B.\", 'volume-title': 'Conceptual Foundations of Quantum Mechanics'}, {'key': 'RevModPhys.59.1Cc31R1', 'year': '1975', 'author': 'Davis, P. J.', 'volume-title': 'Methods of Numerical Integration'}, {'key': 'RevModPhys.59.1Cc35R1', 'year': '1955', 'author': 'Erdélyi, A.', 'volume-title': 'Higher Transcendental Functions'}, {'key': 'RevModPhys.59.1Cc36R1', 'year': '1971', 'author': 'Fetter, A. L.', 'volume-title': 'Quantum Theory of Many-Particle Systems'}, {'key': 'RevModPhys.59.1Cc37R1', 'year': '1972', 'author': 'Feynman, R. P.', 'volume-title': 'Statistical Mechanics'}, {'key': 'RevModPhys.59.1Cc38R1', 'year': '1965', 'author': 'Feynman, R. P.', 'volume-title': 'The Feynman Lectures on Physics'}, {'key': 'RevModPhys.59.1Cc51R1', 'year': '1980', 'author': 'Gradshteyn, I. S.', 'volume-title': 'Table of Integrals, Series and Products'}, {'key': 'RevModPhys.59.1Cc69R1', 'year': '1984', 'journal-title': 'Zh. Eksp. Teor. Fiz.', 'volume': '86', 'first-page': '719', 'author': 'Larkin, A. I.'}, {'key': 'RevModPhys.59.1Cc71R1', 'year': '1984', 'author': 'Leggett, A. J.', 'volume-title': 'Physics'}, {'key': 'RevModPhys.59.1Cc74R1', 'year': '1980', 'author': 'Mahan, G. D.', 'volume-title': 'Many-Particle Physics'}, {'key': 'RevModPhys.59.1Cc75R1', 'year': '1980', 'journal-title': 'Zh. Eksp. Teor. Fiz.', 'volume': '79', 'first-page': '1995', 'author': 'Maleev, S. V.'}, {'key': 'RevModPhys.59.1Cc76R1', 'year': '1983', 'author': 'Mandelbrot, B.', 'volume-title': 'The Fractal Geometry of Nature'}, {'key': 'RevModPhys.59.1Cc81R1', 'year': '1972', 'author': 'Perkins, D. H.', 'volume-title': 'Introduction to High Energy Physics'}, {'key': 'RevModPhys.59.1Cc84R1', 'year': '1983', 'author': 'Pfeifer, P.', 'volume-title': 'Symmetries and Properties of Nonrigid Molecules: A Comprehensive Survey'}, {'key': 'RevModPhys.59.1Cc86R1', 'year': '1982', 'journal-title': 'Phys. Rev. B', 'volume': '25', 'first-page': '4805', 'author': 'Schlottmann, P.'}, {'key': 'RevModPhys.59.1Cc98R1', 'year': '1969', 'journal-title': 'C. R. Acad. Sci. Paris', 'volume': '268', 'first-page': '1200', 'author': 'Toulouse, G.'}, {'key': 'RevModPhys.59.1Cc104R1', 'year': '1980', 'journal-title': \"Pis'ma Zh. Eksp. Teor. Fiz.\", 'volume': '31', 'first-page': '392', 'author': 'Wiegmann, P. B.'}]\n",
      "[{'key': 'PhysRevA.95.042132Cc7R1', 'year': '2002', 'author': 'H.-P. Breuer', 'volume-title': 'The Theory of Open Quantum Systems'}, {'key': 'PhysRevA.95.042132Cc8R1', 'year': '2000', 'author': 'M. A. Nielsen', 'volume-title': 'Quantum Computation and Quantum Information'}]\n",
      "[{'unstructured': 'Noll, W.: The foundations of classical mechanics in the light of recent advances in continuum mechanics. In: The Axiomatic Method with Special Reference to Geometry and Physics. Pp. 266?281. Amsterdam; North Holland Co. 1959.', 'key': 'CR1', 'year': '1959', 'first-page': '266', 'author': 'W. Noll', 'volume-title': 'The Axiomatic Method with Special Reference to Geometry and Physics'}, {'unstructured': 'Noll, W.: A mathematical theory of the mechanical behavior of continuous media. Arch. Rational Mech. Anal.2, 197?226 (1958).', 'key': 'CR2', 'year': '1958', 'journal-title': 'Arch. Rational Mech. Anal.', 'volume': '2', 'first-page': '197', 'author': 'W. Noll'}, {'unstructured': \"Noll, W.: La mécanique classique, basée sur un axiome d'objectivité. A paper read at the Colloque Internationale sur la Méthode Axiomatique in Mécanique Classique et Moderne, Paris, 1959 (to be published by Gauthier-Villars, Paris).\", 'key': 'CR3'}, {'unstructured': 'Truesdell, C., & R. A.Toupin: The Classical Field Theories. In: Encyclopedia of Physics, Vol. III/1, edited by S.Flügge. Berlin-Göttingen-Heidelberg: Springer 1960.', 'key': 'CR4', 'year': '1960', 'author': 'C. Truesdell', 'volume-title': 'Encyclopedia of Physics, Vol. III/1'}, {'unstructured': 'Green, A. E., & R. S.Rivlin: The mechanics of non-linear materials with memory. Arch. Rational Mech. Anal.1, 1?34 (1957).', 'key': 'CR5', 'year': '1957', 'journal-title': 'Arch. Rational Mech. Anal.', 'volume': '1', 'first-page': '1', 'author': 'A. E. Green'}, {'unstructured': 'Coleman, B. D., & W.Noll: An approximation theorem for functionals, with applications in continuum mechanics. Arch. Rational Mech. Anal.6, 355?370 (1960).', 'key': 'CR6', 'year': '1960', 'journal-title': 'Arch. Rational Mech. Anal.', 'volume': '6', 'first-page': '355', 'author': 'B. D. Coleman'}, {'unstructured': 'Noll, W.: On the continuity of the solid and fluid states. J. Rational Mech. Anal.4, 3?81 (1955).', 'key': 'CR7', 'year': '1955', 'journal-title': 'J. Rational Mech. Anal.', 'volume': '4', 'first-page': '3', 'author': 'W. Noll'}, {'unstructured': 'Pipkin, A. C., & R. S.Rivlin: The formulation of constitutive equations in continuum physics. Technical Report DA 4531/4 to the Department of the Army, Ordnance Corps (1958).', 'key': 'CR8'}, {'unstructured': 'Green, A. E., & J. E.Adkins: Large Elastic Deformations and Non-Linear Continuum Mechanics. Oxford: Clarendon Press 1960.', 'key': 'CR9', 'year': '1960', 'author': 'A. E. Green', 'volume-title': 'Large Elastic Deformations and Non-Linear Continuum Mechanics'}, {'unstructured': 'Coleman, B. D., & W.Noll: Material symmetry and thermostatic inequalities in finite elastic deformations, forthcoming.', 'key': 'CR10'}]\n",
      "[{'key': 'PhysRevA.54.1034Cc4R3', 'year': '1992', 'author': 'A. Berthiaume', 'volume-title': 'Proceedings of the 7th Annual Structure in Complexity Theory Conference'}, {'key': 'PhysRevA.54.1034Cc4R4', 'year': '1993', 'author': 'E. Bernstein', 'volume-title': 'Proceedings of the 25th Annual ACM Symposium on the Theory of Computing'}, {'key': 'PhysRevA.54.1034Cc15R1', 'year': '1989', 'author': 'D. M. Greenberger', 'volume-title': \"Bell's Theorem, Quantum Theory and Conceptions of the Universe\"}, {'key': 'PhysRevA.54.1034Cc18R1', 'year': '1996', 'author': 'A. Despain', 'volume-title': 'Quantum Computing'}, {'key': 'PhysRevA.54.1034Cc23R1', 'year': '1978', 'journal-title': 'Commun. Assoc. Comput. Mach.', 'volume': '21', 'first-page': '120', 'author': 'R. L. Rivest'}]\n",
      "[{'unstructured': 'D. J. Tannor, “Introduction to quantum mechanics,” in A Time-Dependent Perspective (University Science Books, Sausalito, California, 2007).', 'key': '10.1063/1.4971211_c2'}, {'unstructured': 'A. G. Redfield, “Advances in magnetic and optical resonance,” in Advances in Magnetic Resonance, edited by J. S. Waugh (Academic Press, 1965),Vol. 1, pp. 1–32.', 'key': '10.1063/1.4971211_c12'}, {'unstructured': 'Multidimensional Quantum Dynamics: MCTDH Theory and Applications, edited by H.-D. Meyer, F. Gatti, and G. A. Worth (Wiley-VCH, 2009).', 'key': '10.1063/1.4971211_c36'}, {'unstructured': 'A. Storozhenko, D. Kosov, and A. Vdovin, Yad. Fiz. 62, 63 (1999)', 'key': '10.1063/1.4971211_c46a'}, {'unstructured': 'A. Storozhenko, D. Kosov, and A. Vdovin, [Phys. At. Nucl. 62, 58 (1999)].', 'key': '10.1063/1.4971211_c46b'}, {'unstructured': 'H. Umezawa, H. Matsumoto, and M. Tachiki, Thermo Field Dynamics and Condensed States (North-Holland, 1982).', 'key': '10.1063/1.4971211_c52'}, {'unstructured': 'H. Umezawa, Advanced Field Theory: Micro, Macro, and Thermal Physics (AIP Press, 1993).', 'key': '10.1063/1.4971211_c53'}, {'unstructured': 'S. Mukamel, Principles of Nonlinear Optical Spectroscopy (Oxford University Press, USA, 1995).', 'key': '10.1063/1.4971211_c68'}, {'unstructured': 'M. L. Wall, A. Safavi-Naini, and A. M. Rey, e-print arXiv:1606.08781[cond-mat, physics:quant-ph] (2016).', 'key': '10.1063/1.4971211_c82'}]\n",
      "[{'key': 'PhysRevB.53.1413Cc3R1', 'year': '1991', 'author': 'C. W. J. Beenakker', 'volume-title': 'Solid State Physics'}, {'key': 'PhysRevB.53.1413Cc5R1', 'year': '1992', 'volume-title': 'Single Charge Tunneling'}, {'key': 'PhysRevB.53.1413Cc6R1', 'year': '1991', 'author': 'D. V. Averin', 'volume-title': 'Mesoscopic Phenomena in Solids, edited B. L. Altshuler, P. A. Lee, and R. A. Webb'}, {'key': 'PhysRevB.53.1413Cc8R1', 'year': '1992', 'journal-title': 'Sci.', 'volume': '263', 'first-page': '415', 'author': 'R. J. Haug'}, {'year': '1989', 'journal-title': 'Sov. Phys. JETP', 'volume': '68', 'first-page': '581', 'key': 'PhysRevB.53.1413Cc22R1'}, {'key': 'PhysRevB.53.1413Cc42R1', 'year': '1992', 'author': 'G. Timp', 'volume-title': 'Physics of Nanostructures'}]\n",
      "[{'key': 'PhysRevLett.56.1960Cc2R1', 'year': '1984', 'journal-title': 'Bull. Am. Phys. Soc.', 'volume': '29', 'first-page': '535', 'author': 'G. Blonder'}, {'key': 'PhysRevLett.56.1960Cc7R1', 'year': '1985', 'journal-title': \"Pis'ma Zh. Eksp. Teor. Fiz.\", 'volume': '41', 'first-page': '530', 'author': 'B. L. Altshuler'}, {'key': 'PhysRevLett.56.1960Cc8R1', 'year': '1985', 'journal-title': \"Pis'ma Zh. Eksp. Teor. Fiz.\", 'volume': '42', 'first-page': '291', 'author': 'B. C. Altshuler'}, {'key': 'PhysRevLett.56.1960Cc18R1', 'year': '1985', 'journal-title': \"Pis'ma Zh. Eksp. Teor. Fiz.\", 'volume': '42', 'first-page': '294', 'author': 'B. L. Altshuler'}]\n"
     ]
    }
   ],
   "source": [
    "metadata_iter = iter( store.values() )\n",
    "for i in range(50):\n",
    "    metadata = next(metadata_iter)\n",
    "    \n",
    "    refs_with_doi = [ref for ref in metadata.get('reference', []) \n",
    "                        if \"DOI\" in ref]\n",
    "    \n",
    "    \n",
    "    refs_without_doi = [ref for ref in metadata.get('reference', []) \n",
    "                        if \"DOI\" not in ref]\n",
    "    \n",
    "    if refs_without_doi:\n",
    "        print(refs_without_doi)"
   ]
  },
  {
   "cell_type": "code",
   "execution_count": 32,
   "metadata": {
    "scrolled": true
   },
   "outputs": [
    {
     "data": {
      "text/plain": [
       "[{'article-title': 'United States Department of Agriculture',\n",
       "  'author': 'JI Hambleton',\n",
       "  'key': 'ref1',\n",
       "  'year': '1925'},\n",
       " {'article-title': 'The electronic scale honey bee colony as a management and research tool',\n",
       "  'author': 'SL Buchmann',\n",
       "  'first-page': '40',\n",
       "  'journal-title': 'Bee Sci',\n",
       "  'key': 'ref3',\n",
       "  'volume': '1',\n",
       "  'year': '1990'},\n",
       " {'article-title': 'Dynamics of weight change and temperature of <italic>Apis mellifera</italic> (Hymenoptera: Apidae) colonies in a wintering building with controlled temperature',\n",
       "  'author': 'E Stalidzans',\n",
       "  'first-page': '13',\n",
       "  'issue': '1',\n",
       "  'journal-title': 'J Econ Entomol',\n",
       "  'key': 'ref8',\n",
       "  'volume': '110',\n",
       "  'year': '2017'},\n",
       " {'article-title': 'Solution for automated bee colony weight monitoring',\n",
       "  'author': 'A Zacepins',\n",
       "  'first-page': '585',\n",
       "  'issue': '2',\n",
       "  'journal-title': 'Agron Res',\n",
       "  'key': 'ref12',\n",
       "  'volume': '15',\n",
       "  'year': '2017'},\n",
       " {'article-title': 'Protein synthesis in the honeybee (<italic>Apis mellifera</italic> L.) and trophallactic distribution of jelly among imagos in laboratory experiments',\n",
       "  'author': 'K Crailsheim',\n",
       "  'first-page': '303',\n",
       "  'journal-title': 'Zoologisches Jahrbuch der Physiologie',\n",
       "  'key': 'ref17',\n",
       "  'volume': '94',\n",
       "  'year': '1990'},\n",
       " {'article-title': 'Longitudinal effects of supplemental forage on the honey bee (<italic>Apis mellifera</italic>) microbiota and inter- and intra-colony variability',\n",
       "  'author': 'JA Rothman',\n",
       "  'journal-title': 'Microb Ecol',\n",
       "  'key': 'ref34',\n",
       "  'year': '2018'},\n",
       " {'article-title': 'Segmented: an R package to fit regression models with broken-line relationships',\n",
       "  'author': 'VMR Muggeo',\n",
       "  'first-page': '20',\n",
       "  'issue': '1',\n",
       "  'journal-title': 'R News',\n",
       "  'key': 'ref35',\n",
       "  'volume': '8',\n",
       "  'year': '2008'}]"
      ]
     },
     "execution_count": 32,
     "metadata": {},
     "output_type": "execute_result"
    }
   ],
   "source": [
    "refs_without_doi"
   ]
  },
  {
   "cell_type": "code",
   "execution_count": 28,
   "metadata": {},
   "outputs": [
    {
     "name": "stdout",
     "output_type": "stream",
     "text": [
      "  1/1: 10.1371/journal.pone.0197589 already present.\n",
      "data/cachemetadata.pickle saved.\n"
     ]
    }
   ],
   "source": [
    "store.query('10.1371/journal.pone.0197589')\n",
    "metadata = store.get('10.1371/journal.pone.0197589')"
   ]
  },
  {
   "cell_type": "code",
   "execution_count": 30,
   "metadata": {},
   "outputs": [],
   "source": [
    "refs_without_doi = [ref for ref in metadata.get('reference', []) \n",
    "                    if \"DOI\" not in ref]"
   ]
  },
  {
   "cell_type": "code",
   "execution_count": 31,
   "metadata": {},
   "outputs": [
    {
     "data": {
      "text/plain": [
       "[{'article-title': 'United States Department of Agriculture',\n",
       "  'author': 'JI Hambleton',\n",
       "  'key': 'ref1',\n",
       "  'year': '1925'},\n",
       " {'article-title': 'The electronic scale honey bee colony as a management and research tool',\n",
       "  'author': 'SL Buchmann',\n",
       "  'first-page': '40',\n",
       "  'journal-title': 'Bee Sci',\n",
       "  'key': 'ref3',\n",
       "  'volume': '1',\n",
       "  'year': '1990'},\n",
       " {'article-title': 'Dynamics of weight change and temperature of <italic>Apis mellifera</italic> (Hymenoptera: Apidae) colonies in a wintering building with controlled temperature',\n",
       "  'author': 'E Stalidzans',\n",
       "  'first-page': '13',\n",
       "  'issue': '1',\n",
       "  'journal-title': 'J Econ Entomol',\n",
       "  'key': 'ref8',\n",
       "  'volume': '110',\n",
       "  'year': '2017'},\n",
       " {'article-title': 'Solution for automated bee colony weight monitoring',\n",
       "  'author': 'A Zacepins',\n",
       "  'first-page': '585',\n",
       "  'issue': '2',\n",
       "  'journal-title': 'Agron Res',\n",
       "  'key': 'ref12',\n",
       "  'volume': '15',\n",
       "  'year': '2017'},\n",
       " {'article-title': 'Protein synthesis in the honeybee (<italic>Apis mellifera</italic> L.) and trophallactic distribution of jelly among imagos in laboratory experiments',\n",
       "  'author': 'K Crailsheim',\n",
       "  'first-page': '303',\n",
       "  'journal-title': 'Zoologisches Jahrbuch der Physiologie',\n",
       "  'key': 'ref17',\n",
       "  'volume': '94',\n",
       "  'year': '1990'},\n",
       " {'article-title': 'Longitudinal effects of supplemental forage on the honey bee (<italic>Apis mellifera</italic>) microbiota and inter- and intra-colony variability',\n",
       "  'author': 'JA Rothman',\n",
       "  'journal-title': 'Microb Ecol',\n",
       "  'key': 'ref34',\n",
       "  'year': '2018'},\n",
       " {'article-title': 'Segmented: an R package to fit regression models with broken-line relationships',\n",
       "  'author': 'VMR Muggeo',\n",
       "  'first-page': '20',\n",
       "  'issue': '1',\n",
       "  'journal-title': 'R News',\n",
       "  'key': 'ref35',\n",
       "  'volume': '8',\n",
       "  'year': '2008'}]"
      ]
     },
     "execution_count": 31,
     "metadata": {},
     "output_type": "execute_result"
    }
   ],
   "source": [
    "refs_without_doi"
   ]
  },
  {
   "cell_type": "code",
   "execution_count": null,
   "metadata": {},
   "outputs": [],
   "source": []
  }
 ],
 "metadata": {
  "kernelspec": {
   "display_name": "Python 3",
   "language": "python",
   "name": "python3"
  },
  "language_info": {
   "codemirror_mode": {
    "name": "ipython",
    "version": 3
   },
   "file_extension": ".py",
   "mimetype": "text/x-python",
   "name": "python",
   "nbconvert_exporter": "python",
   "pygments_lexer": "ipython3",
   "version": "3.5.2"
  },
  "toc": {
   "base_numbering": 1,
   "nav_menu": {},
   "number_sections": false,
   "sideBar": false,
   "skip_h1_title": false,
   "title_cell": "Table of Contents",
   "title_sidebar": "Contents",
   "toc_cell": false,
   "toc_position": {},
   "toc_section_display": false,
   "toc_window_display": false
  }
 },
 "nbformat": 4,
 "nbformat_minor": 2
}
