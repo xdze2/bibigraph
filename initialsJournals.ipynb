{
 "cells": [
  {
   "cell_type": "markdown",
   "metadata": {},
   "source": [
    "# Journal initials?"
   ]
  },
  {
   "cell_type": "code",
   "execution_count": 1,
   "metadata": {},
   "outputs": [],
   "source": [
    "import crossrefexp as exp"
   ]
  },
  {
   "cell_type": "code",
   "execution_count": 2,
   "metadata": {},
   "outputs": [
    {
     "name": "stdout",
     "output_type": "stream",
     "text": [
      "473 metadata loaded from `data/cachemetadata.pickle`\n"
     ]
    }
   ],
   "source": [
    "store = exp.MetaDataStore('data/cachemetadata.pickle')"
   ]
  },
  {
   "cell_type": "code",
   "execution_count": 68,
   "metadata": {},
   "outputs": [],
   "source": [
    "from collections import Counter\n",
    "\n",
    "journals_stats = Counter( ' '.join(metadata.get('container-title')).strip()\n",
    "                         for metadata in store.values()  )"
   ]
  },
  {
   "cell_type": "code",
   "execution_count": 70,
   "metadata": {},
   "outputs": [
    {
     "data": {
      "text/plain": [
       "[('Journal of Apicultural Research', 47),\n",
       " ('Journal of Insect Physiology', 30),\n",
       " ('Apidologie', 29),\n",
       " ('PLoS ONE', 23),\n",
       " ('Journal of Economic Entomology', 21),\n",
       " ('Behavioral Ecology and Sociobiology', 16),\n",
       " ('Animal Behaviour', 11),\n",
       " ('Physical Review Letters', 10),\n",
       " ('Physical Review', 10),\n",
       " ('Journal of Theoretical Biology', 9),\n",
       " ('Computers and Electronics in Agriculture', 9),\n",
       " ('Science', 9),\n",
       " ('Insectes Sociaux', 8),\n",
       " ('PLOS ONE', 8),\n",
       " ('Nature', 8),\n",
       " ('Annual Review of Entomology', 7),\n",
       " ('Physical Review A', 7),\n",
       " ('', 6),\n",
       " ('Bee World', 6),\n",
       " ('Proceedings of the Royal Society B: Biological Sciences', 6)]"
      ]
     },
     "execution_count": 70,
     "metadata": {},
     "output_type": "execute_result"
    }
   ],
   "source": [
    "journals_stats.most_common(20)"
   ]
  },
  {
   "cell_type": "code",
   "execution_count": 31,
   "metadata": {},
   "outputs": [],
   "source": [
    "metadata_list = list( store.values() )"
   ]
  },
  {
   "cell_type": "markdown",
   "metadata": {},
   "source": [
    "# Get the favicon\n",
    "\n",
    "using google S2 url:\n",
    "https://www.labnol.org/internet/get-favicon-image-of-websites-with-google/4404/"
   ]
  },
  {
   "cell_type": "code",
   "execution_count": 160,
   "metadata": {},
   "outputs": [],
   "source": [
    "doi_urls = {}\n",
    "\n",
    "for metadata in store.values():\n",
    "    \n",
    "    if 'URL' not in metadata:\n",
    "        continue\n",
    "        \n",
    "    # title = ' '.join(metadata.get('container-title')).strip()\n",
    "    \n",
    "    title = metadata.get('container-title', '')\n",
    "    if isinstance(title, list) and len(title)>0:\n",
    "        title = title[0]\n",
    "    else:\n",
    "        title = ''\n",
    "    \n",
    "    if title in doi_urls:\n",
    "        doi_urls[title].append( metadata.get('URL') )\n",
    "    else:\n",
    "        doi_urls[title] = [  metadata.get('URL') ]"
   ]
  },
  {
   "cell_type": "code",
   "execution_count": 161,
   "metadata": {},
   "outputs": [],
   "source": [
    "import requests\n",
    "from urllib.parse import urlsplit"
   ]
  },
  {
   "cell_type": "code",
   "execution_count": 162,
   "metadata": {},
   "outputs": [],
   "source": [
    "def get_jounral_baseurl( doi_url ):\n",
    "\n",
    "    response = requests.head(doi_url)\n",
    "\n",
    "    print( response )\n",
    "    response.headers['Location']\n",
    "    \n",
    "    redirect_url = response.headers['Location']\n",
    "    \n",
    "    base_url = \"{0.scheme}://{0.netloc}/\".format(urlsplit(redirect_url))\n",
    "    return base_url"
   ]
  },
  {
   "cell_type": "code",
   "execution_count": 163,
   "metadata": {},
   "outputs": [],
   "source": [
    "from IPython.display import display, HTML, Markdown"
   ]
  },
  {
   "cell_type": "code",
   "execution_count": 164,
   "metadata": {},
   "outputs": [
    {
     "name": "stdout",
     "output_type": "stream",
     "text": [
      "<Response [302]>\n",
      "Journal of Apicultural Research http://www.tandfonline.com/ http://dx.doi.org/10.1080/00218839.1967.11100176\n"
     ]
    },
    {
     "data": {
      "text/markdown": [
       "<img src=\"data:image/png;base64,iVBORw0KGgoAAAANSUhEUgAAABAAAAAQCAYAAAAf8/9hAAABs0lEQVR4AWL4//8/RRjO8Iucx+noO0O2qmlbUEnt5r3Juas+hsQD6KaG7dqCKPgx72Pe9GIY27btZBrbtm3btm0nO12D7tVXe63jqtqqU/iDw9K58sEruKkngH0DBljOE+T/qqx/Ln718RZOFasxyd3XRbWzlFMxRbgOTx9QWFzHtZlD+aqLb108sOAIAai6+NbHW7lUHaZkDFJt+wp1DG7R1d0b7Z88EOL08oXwjokcOvvUxYMjBFCamWP5KjKBjKOpZx2HEPj+Ieod26U+dpg6lK2CIwTQH0oECGT5eHj+IgSueJ5fPaPg6PZrz6DGHiGAISE7QPrIvIKVrSvCe2DNHSsehIDatOBna/+OEOgTQE6WAy1AAFiVcf6PhgCGxEvlA9QngLlAQCkLsNWhBZIDz/zg4ggmjHfYxoPGEMPZECW+zjwmFk6Ih194y7VHYGOPvEYlTAJlQwI4MEhgTOzZGiNalRpGgsOYFw5lEfTKybgfBtmuTNdI3MrOTAQmYf/DNcAwDeycVjROgZFt18gMso6V5Z8JpcEk2LPKpOAH0/4bKMCAYnuqm7cHOGHJTBRhAEJN9d/t5zCxAAAAAElFTkSuQmCC\">"
      ],
      "text/plain": [
       "<IPython.core.display.Markdown object>"
      ]
     },
     "metadata": {},
     "output_type": "display_data"
    },
    {
     "name": "stdout",
     "output_type": "stream",
     "text": [
      "<Response [302]>\n",
      "Journal of Insect Physiology http://linkinghub.elsevier.com/ http://dx.doi.org/10.1016/0022-1910(70)90127-7\n"
     ]
    },
    {
     "data": {
      "text/markdown": [
       "<img src=\"data:image/png;base64,iVBORw0KGgoAAAANSUhEUgAAABAAAAAQCAMAAAAoLQ9TAAAAA3NCSVQICAjb4U/gAAAAQlBMVEVHcEz/jgv2gh72gR/2gh/1gh73gR3/gRj1gh/1gR/6gR71gR/3gh71gh/2gR/3hBz1gR/3gh/2gh76ghr2gh/1giDre/h+AAAAFXRSTlMABHHm0WQwCsOsKZRYo7gc30qDF549n7rIAAAAAWJLR0QAiAUdSAAAAG5JREFUGJVdztkKxCAMQNEs1q0Zt9b//9UxMKCZ+yBywBhAIbp+vTcAYB83z/bRmsIqxJlwBeMEvVz/UL2FGsBAePOGKCLkDuCUUmn5fIL4lGxnYH8s7H83EFkIRfSs3s3oNeK+Ro3omJvTeG3yBQVeBXnMrEurAAAAAElFTkSuQmCC\">"
      ],
      "text/plain": [
       "<IPython.core.display.Markdown object>"
      ]
     },
     "metadata": {},
     "output_type": "display_data"
    },
    {
     "name": "stdout",
     "output_type": "stream",
     "text": [
      "<Response [302]>\n",
      "Apidologie http://www.edpsciences.org/ http://dx.doi.org/10.1051/apido:2004032\n"
     ]
    },
    {
     "data": {
      "text/markdown": [
       "<img src=\"data:image/png;base64,iVBORw0KGgoAAAANSUhEUgAAABAAAAAQCAIAAACQkWg2AAAAA3NCSVQICAjb4U/gAAABp0lEQVQokWP8//8/Aw7w/+dvRhZmBmYmZEEmXKp/33/6Jqft/79/aOI4Nfy8eOvH0fOMrCzEamBkZWFkZ8MUx67h/58/DIyMSHyEP1n+ffzyrnn6j1MXWBXlRTqKGLk4XqU1/Lp44//Pn8zCwgz//7+tmPh1yx4WKXHhzhJ2I03Gp85pDOyMAllRXzft+3nqOiM3B7OYoEBR3NctB/99+sYsyPdt+xGhttzvB059XrRV5vRyxjsMuryJgcwiAv+//3w/ZS4zt7Di20MQ1/88feVFSInM6WXMYkIMDAxPreN5Ij2YGJiZmCWEmUUFWRSlhZuKmbg5/336CnHu28pJfGnBENVQjzEzs3DaGP++fZ8rO+r7vhPcPo5/Hrx45pkhkBf9ddM+RiYmJn7eZ55pfEkh3/cd//vyHU+wM3P32f0/Tlz8tHAdw59/3J62vAn+fx+/+LJqK4uctNjcpk9Tlv++++DXmRv/GRnEFrayyksx/McLnnllfZy9DlkEZ8TB4o/x/8+fRMU01KM/fjL8RUlOBDRwOlsw8fOiWIkneUMt+f0HOQkCAHJg0d6m43A/AAAAAElFTkSuQmCC\">"
      ],
      "text/plain": [
       "<IPython.core.display.Markdown object>"
      ]
     },
     "metadata": {},
     "output_type": "display_data"
    },
    {
     "name": "stdout",
     "output_type": "stream",
     "text": [
      "<Response [302]>\n",
      "PLoS ONE http://dx.plos.org/ http://dx.doi.org/10.1371/journal.pone.0054819\n"
     ]
    },
    {
     "data": {
      "text/markdown": [
       "<img src=\"data:image/png;base64,iVBORw0KGgoAAAANSUhEUgAAABAAAAAQCAYAAAAf8/9hAAABs0lEQVR4AWL4//8/RRjO8Iucx+noO0O2qmlbUEnt5r3Juas+hsQD6KaG7dqCKPgx72Pe9GIY27btZBrbtm3btm0nO12D7tVXe63jqtqqU/iDw9K58sEruKkngH0DBljOE+T/qqx/Ln718RZOFasxyd3XRbWzlFMxRbgOTx9QWFzHtZlD+aqLb108sOAIAai6+NbHW7lUHaZkDFJt+wp1DG7R1d0b7Z88EOL08oXwjokcOvvUxYMjBFCamWP5KjKBjKOpZx2HEPj+Ieod26U+dpg6lK2CIwTQH0oECGT5eHj+IgSueJ5fPaPg6PZrz6DGHiGAISE7QPrIvIKVrSvCe2DNHSsehIDatOBna/+OEOgTQE6WAy1AAFiVcf6PhgCGxEvlA9QngLlAQCkLsNWhBZIDz/zg4ggmjHfYxoPGEMPZECW+zjwmFk6Ih194y7VHYGOPvEYlTAJlQwI4MEhgTOzZGiNalRpGgsOYFw5lEfTKybgfBtmuTNdI3MrOTAQmYf/DNcAwDeycVjROgZFt18gMso6V5Z8JpcEk2LPKpOAH0/4bKMCAYnuqm7cHOGHJTBRhAEJN9d/t5zCxAAAAAElFTkSuQmCC\">"
      ],
      "text/plain": [
       "<IPython.core.display.Markdown object>"
      ]
     },
     "metadata": {},
     "output_type": "display_data"
    },
    {
     "name": "stdout",
     "output_type": "stream",
     "text": [
      "<Response [302]>\n",
      "Journal of Economic Entomology http://academic.oup.com/ http://dx.doi.org/10.1093/jee/44.1.54\n"
     ]
    },
    {
     "data": {
      "text/markdown": [
       "<img src=\"data:image/png;base64,iVBORw0KGgoAAAANSUhEUgAAABAAAAAQCAMAAAAoLQ9TAAAAA3NCSVQICAjb4U/gAAAAJFBMVEUAIUf///9ido6/yNHv8fQSMVSPnq/V2uGAkKNAWXUwS2qvusaHsh5UAAAATUlEQVQYlZ2OQRKAMAgDGwil6v//qxZw9OBBcwF2gKS1nxJVV7lGUy4HhFuCDokyEhCxCCaoBngDhD1PRnwT9LL102allu0Mtt2CfdQOcZQA2Se5eGQAAAAASUVORK5CYII=\">"
      ],
      "text/plain": [
       "<IPython.core.display.Markdown object>"
      ]
     },
     "metadata": {},
     "output_type": "display_data"
    },
    {
     "name": "stdout",
     "output_type": "stream",
     "text": [
      "<Response [302]>\n",
      "Behavioral Ecology and Sociobiology http://link.springer.com/ http://dx.doi.org/10.1007/s002650050442\n"
     ]
    },
    {
     "data": {
      "text/markdown": [
       "<img src=\"data:image/png;base64,iVBORw0KGgoAAAANSUhEUgAAABAAAAAQCAYAAAAf8/9hAAAABHNCSVQICAgIfAhkiAAAAaFJREFUOI2Nkr1LXFEQxX/3+fzEKGgh+NUsSPTtEyJYCfaCoDGue3chZf4ETZHCxsYqJM0WFul0WREVRMRGFCQBIc26EUQUlRUCkQSCa55P77XYFfV9LDnV3DtzzpkZBoIwvWWigajM0TY8HlhTggj8fRlbobpqhLu7HyDaQOcpuJMcL617S40Q3UtcN4N7uwT8pnDzmbrKT9jJ63LdFNH1ZobepEaX3jr2tLMZbHlWfgQ7kUfpTRxnh6PlL0WRJ5U98V20OudgUfrdLbmKNTGPznhE5anH5PIhfNxBZOwtQvSTyyQRE2DFN4ptj0sUvzxWBb9AXc1HBEVSx0ArRsUrrPg2tfUL/HXePaNrdUFkLP5cAFVA63a6Y2s0du6RnW8BcYVzneZs+btvXNMYBO8SbfkVRB9KfQPxAvhJLj3kI0flHtl0f8gVAd2xOSy5E5Ymmtgn8vpDaB476V2aJ584eQgD7kDuomkEURWuoG8RHJJNj5Y1+h/4OvjzvmZKCd1ggCrDM5Qm3zTrpExfyjSmak2jWekAWgkVBvxzVQ5I3QM9ZoLgqJdeSAAAAABJRU5ErkJggg==\">"
      ],
      "text/plain": [
       "<IPython.core.display.Markdown object>"
      ]
     },
     "metadata": {},
     "output_type": "display_data"
    },
    {
     "name": "stdout",
     "output_type": "stream",
     "text": [
      "<Response [302]>\n",
      "Animal Behaviour http://linkinghub.elsevier.com/ http://dx.doi.org/10.1006/anbe.1999.1303\n"
     ]
    },
    {
     "data": {
      "text/markdown": [
       "<img src=\"data:image/png;base64,iVBORw0KGgoAAAANSUhEUgAAABAAAAAQCAMAAAAoLQ9TAAAAA3NCSVQICAjb4U/gAAAAQlBMVEVHcEz/jgv2gh72gR/2gh/1gh73gR3/gRj1gh/1gR/6gR71gR/3gh71gh/2gR/3hBz1gR/3gh/2gh76ghr2gh/1giDre/h+AAAAFXRSTlMABHHm0WQwCsOsKZRYo7gc30qDF549n7rIAAAAAWJLR0QAiAUdSAAAAG5JREFUGJVdztkKxCAMQNEs1q0Zt9b//9UxMKCZ+yBywBhAIbp+vTcAYB83z/bRmsIqxJlwBeMEvVz/UL2FGsBAePOGKCLkDuCUUmn5fIL4lGxnYH8s7H83EFkIRfSs3s3oNeK+Ro3omJvTeG3yBQVeBXnMrEurAAAAAElFTkSuQmCC\">"
      ],
      "text/plain": [
       "<IPython.core.display.Markdown object>"
      ]
     },
     "metadata": {},
     "output_type": "display_data"
    },
    {
     "name": "stdout",
     "output_type": "stream",
     "text": [
      "<Response [302]>\n",
      "Physical Review Letters https://link.aps.org/ http://dx.doi.org/10.1103/physrevlett.1.368\n"
     ]
    },
    {
     "data": {
      "text/markdown": [
       "<img src=\"data:image/png;base64,iVBORw0KGgoAAAANSUhEUgAAABAAAAAQCAIAAACQkWg2AAAAA3NCSVQICAjb4U/gAAABUElEQVQokWP8//8/AymAiSTVDAwMzA5+sfqRM5nYOISYv/5g4ODnZiOkw7HtPymA6e/H38j6XfIWMzAw3H/5kTdo+tRlZxhdehgYGERduyZNmC7iN4GBgYFh/+HrNx++gejevvcqg3M3hC3i0glh8AROY7Bs+////+vXz/7//8/kYKOhHjgVYvzyXSc7kuzL21bDLVy+7niiDkNtnClv0HQ2DiEGBgYGiDFcbj3////ns28TMmuQC+mH2LB/9557Lz5AFFy9ehNiDwPcN06pCyBug7gK7qT///9//Pzj////TB6T////zwiPOC2nhPLksCef2U6eP/fzy0sGBoaXH1gubO1kYGCwiG6U5xf3spaLj/ZC2AAHsQ3rJq09hytYsWiAgGVrj1nlLEcT3L73KsJJWMHRM9eyO9eriwprmOrcf/Q63VudgAZMQHLiI1kDAOq8OBpG+7rlAAAAAElFTkSuQmCC\">"
      ],
      "text/plain": [
       "<IPython.core.display.Markdown object>"
      ]
     },
     "metadata": {},
     "output_type": "display_data"
    },
    {
     "name": "stdout",
     "output_type": "stream",
     "text": [
      "<Response [302]>\n",
      "Physical Review https://link.aps.org/ http://dx.doi.org/10.1103/physrev.118.1534\n"
     ]
    },
    {
     "data": {
      "text/markdown": [
       "<img src=\"data:image/png;base64,iVBORw0KGgoAAAANSUhEUgAAABAAAAAQCAIAAACQkWg2AAAAA3NCSVQICAjb4U/gAAABUElEQVQokWP8//8/AymAiSTVDAwMzA5+sfqRM5nYOISYv/5g4ODnZiOkw7HtPymA6e/H38j6XfIWMzAw3H/5kTdo+tRlZxhdehgYGERduyZNmC7iN4GBgYFh/+HrNx++gejevvcqg3M3hC3i0glh8AROY7Bs+////+vXz/7//8/kYKOhHjgVYvzyXSc7kuzL21bDLVy+7niiDkNtnClv0HQ2DiEGBgYGiDFcbj3////ns28TMmuQC+mH2LB/9557Lz5AFFy9ehNiDwPcN06pCyBug7gK7qT///9//Pzj////TB6T////zwiPOC2nhPLksCef2U6eP/fzy0sGBoaXH1gubO1kYGCwiG6U5xf3spaLj/ZC2AAHsQ3rJq09hytYsWiAgGVrj1nlLEcT3L73KsJJWMHRM9eyO9eriwprmOrcf/Q63VudgAZMQHLiI1kDAOq8OBpG+7rlAAAAAElFTkSuQmCC\">"
      ],
      "text/plain": [
       "<IPython.core.display.Markdown object>"
      ]
     },
     "metadata": {},
     "output_type": "display_data"
    },
    {
     "name": "stdout",
     "output_type": "stream",
     "text": [
      "<Response [302]>\n",
      "Journal of Theoretical Biology http://linkinghub.elsevier.com/ http://dx.doi.org/10.1006/jtbi.2001.2506\n"
     ]
    },
    {
     "data": {
      "text/markdown": [
       "<img src=\"data:image/png;base64,iVBORw0KGgoAAAANSUhEUgAAABAAAAAQCAMAAAAoLQ9TAAAAA3NCSVQICAjb4U/gAAAAQlBMVEVHcEz/jgv2gh72gR/2gh/1gh73gR3/gRj1gh/1gR/6gR71gR/3gh71gh/2gR/3hBz1gR/3gh/2gh76ghr2gh/1giDre/h+AAAAFXRSTlMABHHm0WQwCsOsKZRYo7gc30qDF549n7rIAAAAAWJLR0QAiAUdSAAAAG5JREFUGJVdztkKxCAMQNEs1q0Zt9b//9UxMKCZ+yBywBhAIbp+vTcAYB83z/bRmsIqxJlwBeMEvVz/UL2FGsBAePOGKCLkDuCUUmn5fIL4lGxnYH8s7H83EFkIRfSs3s3oNeK+Ro3omJvTeG3yBQVeBXnMrEurAAAAAElFTkSuQmCC\">"
      ],
      "text/plain": [
       "<IPython.core.display.Markdown object>"
      ]
     },
     "metadata": {},
     "output_type": "display_data"
    }
   ],
   "source": [
    "for journal, count in journals_stats.most_common(10):\n",
    "    \n",
    "    doi_url = doi_urls[ journal ][0]\n",
    "    true_url = get_jounral_baseurl( doi_url )\n",
    "    \n",
    "    print( journal, true_url, doi_url )\n",
    "    \n",
    "    domain = true_url\n",
    "    url = 'http://www.google.com/s2/favicons' #?domain=www.labnol.org\n",
    "    params = {'domain':domain}\n",
    "\n",
    "    response = requests.get(url, params=params)\n",
    "    pngdata = base64.b64encode( response.content ).decode(\"ascii\")\n",
    "    display(Markdown('''<img src=\"data:image/png;base64,''' + pngdata + '''\">'''))"
   ]
  },
  {
   "cell_type": "markdown",
   "metadata": {},
   "source": [
    "# initials"
   ]
  },
  {
   "cell_type": "code",
   "execution_count": 165,
   "metadata": {},
   "outputs": [],
   "source": [
    "stop_words = ['and', 'of', 'the', 'in']"
   ]
  },
  {
   "cell_type": "code",
   "execution_count": 166,
   "metadata": {},
   "outputs": [],
   "source": [
    "initials = {}\n",
    "for name, count in journals_stats.most_common(90):\n",
    "    initial = [ word[0] for word in name.split() if word.lower() not in stop_words ]\n",
    "    acronym = ''.join(initial)\n",
    "    #print( acronym, name  )\n",
    "    \n",
    "    if acronym in initials:\n",
    "        initials[acronym].append( (name, count) )\n",
    "    else:\n",
    "        initials[acronym] = [  (name, count) ]"
   ]
  },
  {
   "cell_type": "code",
   "execution_count": 168,
   "metadata": {},
   "outputs": [
    {
     "name": "stdout",
     "output_type": "stream",
     "text": [
      "PO [('PLoS ONE', 23), ('PLOS ONE', 8)]\n",
      "JAE [('The Journal of Animal Ecology', 2), ('The Journal of Applied Ecology', 2), ('Journal of Applied Ecology', 1)]\n",
      "N [('Nature', 8), ('Naturwissenschaften', 3)]\n",
      "BE [('Behavioral Ecology', 2), ('Biosystems Engineering', 1)]\n",
      "EE [('Environmental Entomology', 3), ('Ecological Entomology', 2)]\n",
      "B [('Biometrics', 1), ('Biosensors', 1)]\n",
      "AB [('Animal Behaviour', 11), ('Adaptive Behavior', 3)]\n",
      "JIP [('Journal of Insect Physiology', 30), ('Journal of Invertebrate Pathology', 5)]\n",
      "S [('Science', 9), ('Sensors', 3), ('The Statistician', 1)]\n",
      "E [('Evolution', 2), ('Ecotoxicology', 2)]\n"
     ]
    }
   ],
   "source": [
    "# Similar initial\n",
    "\n",
    "for key, value in initials.items():    \n",
    "    if len(value)>1:\n",
    "        print( key, value )"
   ]
  },
  {
   "cell_type": "code",
   "execution_count": null,
   "metadata": {},
   "outputs": [],
   "source": []
  },
  {
   "cell_type": "code",
   "execution_count": null,
   "metadata": {},
   "outputs": [],
   "source": []
  }
 ],
 "metadata": {
  "kernelspec": {
   "display_name": "Python 3",
   "language": "python",
   "name": "python3"
  },
  "language_info": {
   "codemirror_mode": {
    "name": "ipython",
    "version": 3
   },
   "file_extension": ".py",
   "mimetype": "text/x-python",
   "name": "python",
   "nbconvert_exporter": "python",
   "pygments_lexer": "ipython3",
   "version": "3.5.2"
  }
 },
 "nbformat": 4,
 "nbformat_minor": 2
}
