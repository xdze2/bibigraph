{
 "cells": [
  {
   "cell_type": "code",
   "execution_count": 160,
   "metadata": {},
   "outputs": [],
   "source": [
    "import time"
   ]
  },
  {
   "cell_type": "code",
   "execution_count": 188,
   "metadata": {},
   "outputs": [
    {
     "name": "stdout",
     "output_type": "stream",
     "text": [
      "The autoreload extension is already loaded. To reload it, use:\n",
      "  %reload_ext autoreload\n"
     ]
    }
   ],
   "source": [
    "%load_ext autoreload\n",
    "%autoreload 2\n",
    "\n",
    "import crossrefexp as exp"
   ]
  },
  {
   "cell_type": "code",
   "execution_count": 191,
   "metadata": {},
   "outputs": [
    {
     "name": "stdout",
     "output_type": "stream",
     "text": [
      "2 metadata loaded from `data/cachefile.pickle`\n"
     ]
    }
   ],
   "source": [
    "mds = exp.MetaDataStore()"
   ]
  },
  {
   "cell_type": "code",
   "execution_count": 192,
   "metadata": {},
   "outputs": [
    {
     "ename": "KeyError",
     "evalue": "'doi'",
     "output_type": "error",
     "traceback": [
      "\u001b[0;31m---------------------------------------------------------------------------\u001b[0m",
      "\u001b[0;31mKeyError\u001b[0m                                  Traceback (most recent call last)",
      "\u001b[0;32m<ipython-input-192-efaefb9f5af9>\u001b[0m in \u001b[0;36m<module>\u001b[0;34m()\u001b[0m\n\u001b[0;32m----> 1\u001b[0;31m \u001b[0mmds\u001b[0m\u001b[0;34m.\u001b[0m\u001b[0mget\u001b[0m\u001b[0;34m(\u001b[0m \u001b[0;34m'10.1063/1.868630'\u001b[0m \u001b[0;34m)\u001b[0m\u001b[0;34m\u001b[0m\u001b[0m\n\u001b[0m",
      "\u001b[0;32m~/Projets/bibigraph/crossRef/crossrefexp.py\u001b[0m in \u001b[0;36mget\u001b[0;34m(self, doi)\u001b[0m\n\u001b[1;32m     28\u001b[0m     \u001b[0;32mdef\u001b[0m \u001b[0mget\u001b[0m\u001b[0;34m(\u001b[0m\u001b[0mself\u001b[0m\u001b[0;34m,\u001b[0m \u001b[0mdoi\u001b[0m\u001b[0;34m)\u001b[0m\u001b[0;34m:\u001b[0m\u001b[0;34m\u001b[0m\u001b[0m\n\u001b[1;32m     29\u001b[0m         \u001b[0;32mif\u001b[0m \u001b[0mdoi\u001b[0m \u001b[0;32min\u001b[0m \u001b[0mself\u001b[0m\u001b[0;34m:\u001b[0m\u001b[0;34m\u001b[0m\u001b[0m\n\u001b[0;32m---> 30\u001b[0;31m             \u001b[0;32mreturn\u001b[0m \u001b[0mself\u001b[0m\u001b[0;34m[\u001b[0m\u001b[0;34m'doi'\u001b[0m\u001b[0;34m]\u001b[0m\u001b[0;34m\u001b[0m\u001b[0m\n\u001b[0m\u001b[1;32m     31\u001b[0m         \u001b[0;32melse\u001b[0m\u001b[0;34m:\u001b[0m\u001b[0;34m\u001b[0m\u001b[0m\n\u001b[1;32m     32\u001b[0m             \u001b[0;32mreturn\u001b[0m \u001b[0mself\u001b[0m\u001b[0;34m.\u001b[0m\u001b[0m_query\u001b[0m\u001b[0;34m(\u001b[0m\u001b[0mdoi\u001b[0m\u001b[0;34m)\u001b[0m\u001b[0;34m\u001b[0m\u001b[0m\n",
      "\u001b[0;32m~/Projets/bibigraph/crossRef/crossrefexp.py\u001b[0m in \u001b[0;36m__getitem__\u001b[0;34m(self, key)\u001b[0m\n\u001b[1;32m     67\u001b[0m         \"\"\" Wrap the returned value in a MetaData object\n\u001b[1;32m     68\u001b[0m         \"\"\"\n\u001b[0;32m---> 69\u001b[0;31m         \u001b[0mvalue\u001b[0m \u001b[0;34m=\u001b[0m \u001b[0mdict\u001b[0m\u001b[0;34m.\u001b[0m\u001b[0m__getitem__\u001b[0m\u001b[0;34m(\u001b[0m\u001b[0mself\u001b[0m\u001b[0;34m,\u001b[0m \u001b[0mkey\u001b[0m\u001b[0;34m)\u001b[0m\u001b[0;34m\u001b[0m\u001b[0m\n\u001b[0m\u001b[1;32m     70\u001b[0m         \u001b[0;32mreturn\u001b[0m  \u001b[0mMetaData\u001b[0m\u001b[0;34m(\u001b[0m \u001b[0mvalue\u001b[0m \u001b[0;34m)\u001b[0m\u001b[0;34m\u001b[0m\u001b[0m\n\u001b[1;32m     71\u001b[0m \u001b[0;34m\u001b[0m\u001b[0m\n",
      "\u001b[0;31mKeyError\u001b[0m: 'doi'"
     ]
    }
   ],
   "source": [
    "mds.get( '10.1063/1.868630' )"
   ]
  },
  {
   "cell_type": "code",
   "execution_count": 184,
   "metadata": {},
   "outputs": [
    {
     "name": "stdout",
     "output_type": "stream",
     "text": [
      "`data/cachefile.pickle` not found. A new file will be created.\n"
     ]
    }
   ],
   "source": [
    "get_metadata = exp.initMetadataStore()"
   ]
  },
  {
   "cell_type": "code",
   "execution_count": 186,
   "metadata": {},
   "outputs": [
    {
     "name": "stdout",
     "output_type": "stream",
     "text": [
      "metadata retrieved from Crossref in 0.632 s.\n"
     ]
    },
    {
     "data": {
      "text/plain": [
       "{'DOI': '10.1063/1.868630',\n",
       " 'ISSN': ['1070-6631', '1089-7666'],\n",
       " 'URL': 'http://dx.doi.org/10.1063/1.868630',\n",
       " 'alternative-id': ['10.1063/1.868630'],\n",
       " 'author': [{'affiliation': [],\n",
       "   'family': 'Neitzel',\n",
       "   'given': 'G. P.',\n",
       "   'sequence': 'first'},\n",
       "  {'affiliation': [],\n",
       "   'family': 'Kirkconnell',\n",
       "   'given': 'C. S.',\n",
       "   'sequence': 'additional'},\n",
       "  {'affiliation': [],\n",
       "   'family': 'Little',\n",
       "   'given': 'L. J.',\n",
       "   'sequence': 'additional'}],\n",
       " 'container-title': ['Physics of Fluids'],\n",
       " 'content-domain': {'crossmark-restriction': False, 'domain': []},\n",
       " 'created': {'date-parts': [[2002, 7, 26]],\n",
       "  'date-time': '2002-07-26T12:09:39Z',\n",
       "  'timestamp': 1027685379000},\n",
       " 'deposited': {'date-parts': [[2016, 12, 27]],\n",
       "  'date-time': '2016-12-27T06:19:13Z',\n",
       "  'timestamp': 1482819553000},\n",
       " 'indexed': {'date-parts': [[2018, 5, 3]],\n",
       "  'date-time': '2018-05-03T03:42:36Z',\n",
       "  'timestamp': 1525318956126},\n",
       " 'is-referenced-by-count': 3,\n",
       " 'issn-type': [{'type': 'print', 'value': '1070-6631'},\n",
       "  {'type': 'electronic', 'value': '1089-7666'}],\n",
       " 'issue': '2',\n",
       " 'issued': {'date-parts': [[1995, 2]]},\n",
       " 'journal-issue': {'issue': '2',\n",
       "  'published-print': {'date-parts': [[1995, 2]]}},\n",
       " 'language': 'en',\n",
       " 'link': [{'URL': 'http://aip.scitation.org/doi/pdf/10.1063/1.868630',\n",
       "   'content-type': 'unspecified',\n",
       "   'content-version': 'vor',\n",
       "   'intended-application': 'similarity-checking'}],\n",
       " 'member': '317',\n",
       " 'original-title': [],\n",
       " 'page': '324-334',\n",
       " 'prefix': '10.1063',\n",
       " 'published-print': {'date-parts': [[1995, 2]]},\n",
       " 'publisher': 'AIP Publishing',\n",
       " 'reference': [{'DOI': '10.1115/1.3162575',\n",
       "   'doi-asserted-by': 'publisher',\n",
       "   'key': 'r1'},\n",
       "  {'DOI': '10.1063/1.863751', 'doi-asserted-by': 'publisher', 'key': 'r2'},\n",
       "  {'DOI': '10.1007/BF00230732', 'doi-asserted-by': 'publisher', 'key': 'r3'},\n",
       "  {'DOI': '10.1063/1.865108', 'doi-asserted-by': 'publisher', 'key': 'r5'},\n",
       "  {'DOI': '10.1017/S0022112065000241',\n",
       "   'doi-asserted-by': 'publisher',\n",
       "   'key': 'r6'},\n",
       "  {'DOI': '10.1017/S0022112082001876',\n",
       "   'doi-asserted-by': 'publisher',\n",
       "   'key': 'r7'},\n",
       "  {'DOI': '10.1063/1.1694646', 'doi-asserted-by': 'publisher', 'key': 'r8'},\n",
       "  {'DOI': '10.1017/S0022112084000732',\n",
       "   'doi-asserted-by': 'publisher',\n",
       "   'key': 'r9'},\n",
       "  {'DOI': '10.1016/0021-9991(83)90006-2',\n",
       "   'doi-asserted-by': 'publisher',\n",
       "   'key': 'r11'},\n",
       "  {'DOI': '10.1017/S0022112084001774',\n",
       "   'doi-asserted-by': 'publisher',\n",
       "   'key': 'r12'},\n",
       "  {'DOI': '10.1017/S0022112092000685',\n",
       "   'doi-asserted-by': 'publisher',\n",
       "   'key': 'r13'},\n",
       "  {'DOI': '10.1017/S0022112085000672',\n",
       "   'doi-asserted-by': 'publisher',\n",
       "   'key': 'r14'},\n",
       "  {'DOI': '10.1007/BF01586794', 'doi-asserted-by': 'publisher', 'key': 'r16'},\n",
       "  {'DOI': '10.1063/1.866291', 'doi-asserted-by': 'publisher', 'key': 'r17'},\n",
       "  {'DOI': '10.1016/0021-9991(84)90128-1',\n",
       "   'doi-asserted-by': 'publisher',\n",
       "   'key': 'r19'},\n",
       "  {'ISSN': 'http://id.crossref.org/issn/0022-1120',\n",
       "   'author': 'Liu D. C. S.',\n",
       "   'first-page': '77',\n",
       "   'issn-type': 'print',\n",
       "   'journal-title': 'J. Fluid Mech.',\n",
       "   'key': 'r22',\n",
       "   'volume': '599',\n",
       "   'year': '1977'},\n",
       "  {'DOI': '10.1017/S002211208100267X',\n",
       "   'doi-asserted-by': 'publisher',\n",
       "   'key': 'r23'}],\n",
       " 'reference-count': 17,\n",
       " 'references-count': 17,\n",
       " 'relation': {'cites': []},\n",
       " 'score': 1.0,\n",
       " 'short-container-title': ['Physics of Fluids'],\n",
       " 'short-title': [],\n",
       " 'source': 'Crossref',\n",
       " 'subtitle': [],\n",
       " 'title': ['Transient, nonaxisymmetric modes in the instability of unsteady circular Couette flow. Laboratory and numerical experiments'],\n",
       " 'type': 'journal-article',\n",
       " 'volume': '7'}"
      ]
     },
     "execution_count": 186,
     "metadata": {},
     "output_type": "execute_result"
    }
   ],
   "source": [
    "get_metadata('10.1063/1.868630')"
   ]
  },
  {
   "cell_type": "code",
   "execution_count": null,
   "metadata": {},
   "outputs": [],
   "source": [
    "getmetadata = initMetadataCache( cachePath )"
   ]
  },
  {
   "cell_type": "code",
   "execution_count": null,
   "metadata": {},
   "outputs": [],
   "source": [
    "getmetadata(doi).info"
   ]
  },
  {
   "cell_type": "code",
   "execution_count": 162,
   "metadata": {},
   "outputs": [
    {
     "name": "stdout",
     "output_type": "stream",
     "text": [
      "19 metadata loaded from `data/cachefile.pickle`\n"
     ]
    }
   ],
   "source": [
    "gr = exp.ReferenceGraph( '10.1063/1.868629', getmetadata )\n",
    "gr = exp.ReferenceGraph( '10.1063/1.868629', metadatastore )"
   ]
  },
  {
   "cell_type": "code",
   "execution_count": 163,
   "metadata": {},
   "outputs": [
    {
     "name": "stdout",
     "output_type": "stream",
     "text": [
      "(1995) Effect of film elasticity on the drift velocity of capillary–gravity waves\n",
      "   Jan Erik Weber et al. - Physics of Fluids\n",
      "   http://dx.doi.org/10.1063/1.868629\n"
     ]
    }
   ],
   "source": [
    "gr.print_node_info('10.1063/1.868629')"
   ]
  },
  {
   "cell_type": "code",
   "execution_count": 195,
   "metadata": {},
   "outputs": [
    {
     "name": "stdout",
     "output_type": "stream",
     "text": [
      "2 metadata loaded from `data/cachefile.pickle`\n",
      "metadata retrieved from Crossref in 0.610 s.\n"
     ]
    },
    {
     "ename": "PicklingError",
     "evalue": "Can't pickle <class 'crossrefexp.MetaData'>: it's not the same object as crossrefexp.MetaData",
     "output_type": "error",
     "traceback": [
      "\u001b[0;31m---------------------------------------------------------------------------\u001b[0m",
      "\u001b[0;31mPicklingError\u001b[0m                             Traceback (most recent call last)",
      "\u001b[0;32m<ipython-input-195-e3c1d12f2a01>\u001b[0m in \u001b[0;36m<module>\u001b[0;34m()\u001b[0m\n\u001b[1;32m      1\u001b[0m \u001b[0mgr\u001b[0m \u001b[0;34m=\u001b[0m \u001b[0mexp\u001b[0m\u001b[0;34m.\u001b[0m\u001b[0mReferenceGraph\u001b[0m\u001b[0;34m(\u001b[0m \u001b[0;34m'10.1063/1.868629'\u001b[0m \u001b[0;34m)\u001b[0m\u001b[0;34m\u001b[0m\u001b[0m\n\u001b[0;32m----> 2\u001b[0;31m \u001b[0mgr\u001b[0m\u001b[0;34m.\u001b[0m\u001b[0mgrow\u001b[0m\u001b[0;34m(\u001b[0m\u001b[0;36m2\u001b[0m\u001b[0;34m,\u001b[0m \u001b[0mget_metadata\u001b[0m\u001b[0;34m)\u001b[0m\u001b[0;34m\u001b[0m\u001b[0m\n\u001b[0m",
      "\u001b[0;32m~/Projets/bibigraph/crossRef/crossrefexp.py\u001b[0m in \u001b[0;36mgrow\u001b[0;34m(self, N, get_metadata)\u001b[0m\n\u001b[1;32m    254\u001b[0m         \"\"\"\n\u001b[1;32m    255\u001b[0m         \u001b[0;32mfor\u001b[0m \u001b[0mk\u001b[0m \u001b[0;32min\u001b[0m \u001b[0mrange\u001b[0m\u001b[0;34m(\u001b[0m\u001b[0mN\u001b[0m\u001b[0;34m)\u001b[0m\u001b[0;34m:\u001b[0m\u001b[0;34m\u001b[0m\u001b[0m\n\u001b[0;32m--> 256\u001b[0;31m             \u001b[0mself\u001b[0m\u001b[0;34m.\u001b[0m\u001b[0m_grow_one_gen\u001b[0m\u001b[0;34m(\u001b[0m\u001b[0mget_metadata\u001b[0m\u001b[0;34m)\u001b[0m\u001b[0;34m\u001b[0m\u001b[0m\n\u001b[0m\u001b[1;32m    257\u001b[0m \u001b[0;34m\u001b[0m\u001b[0m\n\u001b[1;32m    258\u001b[0m \u001b[0;34m\u001b[0m\u001b[0m\n",
      "\u001b[0;32m~/Projets/bibigraph/crossRef/crossrefexp.py\u001b[0m in \u001b[0;36m_grow_one_gen\u001b[0;34m(self, get_metadata)\u001b[0m\n\u001b[1;32m    267\u001b[0m             \u001b[0mprint\u001b[0m\u001b[0;34m(\u001b[0m\u001b[0;34m'{}/{} fetch %s'\u001b[0m\u001b[0;34m.\u001b[0m\u001b[0mformat\u001b[0m\u001b[0;34m(\u001b[0m \u001b[0mi\u001b[0m\u001b[0;34m,\u001b[0m \u001b[0mlen\u001b[0m\u001b[0;34m(\u001b[0m\u001b[0mlastgennodes\u001b[0m\u001b[0;34m)\u001b[0m\u001b[0;34m,\u001b[0m \u001b[0mdoi\u001b[0m \u001b[0;34m)\u001b[0m\u001b[0;34m,\u001b[0m \u001b[0mend\u001b[0m\u001b[0;34m=\u001b[0m\u001b[0;34m'\\r'\u001b[0m\u001b[0;34m)\u001b[0m\u001b[0;34m\u001b[0m\u001b[0m\n\u001b[1;32m    268\u001b[0m             \u001b[0mtime\u001b[0m\u001b[0;34m.\u001b[0m\u001b[0msleep\u001b[0m\u001b[0;34m(\u001b[0m\u001b[0;36m.7\u001b[0m\u001b[0;34m)\u001b[0m \u001b[0;31m# not here...\u001b[0m\u001b[0;34m\u001b[0m\u001b[0m\n\u001b[0;32m--> 269\u001b[0;31m             \u001b[0mmetadata\u001b[0m \u001b[0;34m=\u001b[0m \u001b[0mget_metadata\u001b[0m\u001b[0;34m(\u001b[0m \u001b[0mdoi\u001b[0m \u001b[0;34m)\u001b[0m\u001b[0;34m\u001b[0m\u001b[0m\n\u001b[0m\u001b[1;32m    270\u001b[0m             \u001b[0mdoi_list\u001b[0m \u001b[0;34m=\u001b[0m \u001b[0mmetadata\u001b[0m\u001b[0;34m.\u001b[0m\u001b[0mrefs_doi\u001b[0m\u001b[0;34m(\u001b[0m\u001b[0;34m)\u001b[0m\u001b[0;34m\u001b[0m\u001b[0m\n\u001b[1;32m    271\u001b[0m \u001b[0;34m\u001b[0m\u001b[0m\n",
      "\u001b[0;32m~/Projets/bibigraph/crossRef/crossrefexp.py\u001b[0m in \u001b[0;36mget_metadata\u001b[0;34m(doi)\u001b[0m\n\u001b[1;32m    118\u001b[0m                 \u001b[0mprint\u001b[0m\u001b[0;34m(\u001b[0m \u001b[0;34m'metadata retrieved from Crossref in %.3f s.'\u001b[0m \u001b[0;34m%\u001b[0m \u001b[0mresponse\u001b[0m\u001b[0;34m.\u001b[0m\u001b[0melapsed\u001b[0m\u001b[0;34m.\u001b[0m\u001b[0mtotal_seconds\u001b[0m\u001b[0;34m(\u001b[0m\u001b[0;34m)\u001b[0m \u001b[0;34m)\u001b[0m\u001b[0;34m\u001b[0m\u001b[0m\n\u001b[1;32m    119\u001b[0m                 \u001b[0mresponse\u001b[0m \u001b[0;34m=\u001b[0m \u001b[0mresponse\u001b[0m\u001b[0;34m.\u001b[0m\u001b[0mjson\u001b[0m\u001b[0;34m(\u001b[0m\u001b[0;34m)\u001b[0m\u001b[0;34m\u001b[0m\u001b[0m\n\u001b[0;32m--> 120\u001b[0;31m                 \u001b[0mmetadata\u001b[0m \u001b[0;34m=\u001b[0m \u001b[0mresponse\u001b[0m\u001b[0;34m[\u001b[0m\u001b[0;34m'message'\u001b[0m\u001b[0;34m]\u001b[0m\u001b[0;34m\u001b[0m\u001b[0m\n\u001b[0m\u001b[1;32m    121\u001b[0m \u001b[0;34m\u001b[0m\u001b[0m\n\u001b[1;32m    122\u001b[0m             \u001b[0mcache\u001b[0m\u001b[0;34m[\u001b[0m\u001b[0mdoi\u001b[0m\u001b[0;34m]\u001b[0m \u001b[0;34m=\u001b[0m \u001b[0mMetaData\u001b[0m\u001b[0;34m(\u001b[0m \u001b[0mmetadata\u001b[0m \u001b[0;34m)\u001b[0m\u001b[0;34m\u001b[0m\u001b[0m\n",
      "\u001b[0;31mPicklingError\u001b[0m: Can't pickle <class 'crossrefexp.MetaData'>: it's not the same object as crossrefexp.MetaData"
     ]
    }
   ],
   "source": [
    "gr = exp.ReferenceGraph( '10.1063/1.868629' )\n",
    "gr.grow(2, get_metadata)"
   ]
  },
  {
   "cell_type": "code",
   "execution_count": 165,
   "metadata": {},
   "outputs": [
    {
     "data": {
      "text/plain": [
       "71"
      ]
     },
     "execution_count": 165,
     "metadata": {},
     "output_type": "execute_result"
    }
   ],
   "source": [
    "len( gr )"
   ]
  },
  {
   "cell_type": "code",
   "execution_count": null,
   "metadata": {},
   "outputs": [],
   "source": [
    "# futur:\n",
    "gr = ReferenceGraph( doi )\n",
    "gr.grow( 3 ).keep_top(4).knowreduce()\n",
    "\n",
    "\n",
    "gr = build_reference_graph( doi, grow=3, keeptop=3, knowreduce=True, cachefile='hello.pickle' )\n",
    "\n",
    "\n",
    "# futur: get_metadata = initMetadataCache( cachePath )\n"
   ]
  },
  {
   "cell_type": "code",
   "execution_count": 166,
   "metadata": {},
   "outputs": [],
   "source": [
    "from graphviz import Digraph"
   ]
  },
  {
   "cell_type": "code",
   "execution_count": null,
   "metadata": {},
   "outputs": [],
   "source": []
  },
  {
   "cell_type": "code",
   "execution_count": 167,
   "metadata": {},
   "outputs": [
    {
     "data": {
      "text/plain": [
       "2"
      ]
     },
     "execution_count": 167,
     "metadata": {},
     "output_type": "execute_result"
    }
   ],
   "source": [
    "rg.last_gen()"
   ]
  },
  {
   "cell_type": "code",
   "execution_count": 147,
   "metadata": {},
   "outputs": [],
   "source": [
    "def getlabel(doi):\n",
    "    return crossref[doi].label()\n",
    "\n",
    "color_list = ['red', 'gold1', 'cyan3', 'darkorchid2', 'chartreuse2']\n",
    "def getcolor(doi):\n",
    "    return color_list[ rg[doi]['gen'] ]\n",
    "\n",
    "nodes, links = rg.upward_graph(4)"
   ]
  },
  {
   "cell_type": "code",
   "execution_count": 148,
   "metadata": {},
   "outputs": [
    {
     "data": {
      "image/svg+xml": [
       "<?xml version=\"1.0\" encoding=\"UTF-8\" standalone=\"no\"?>\n",
       "<!DOCTYPE svg PUBLIC \"-//W3C//DTD SVG 1.1//EN\"\n",
       " \"http://www.w3.org/Graphics/SVG/1.1/DTD/svg11.dtd\">\n",
       "<!-- Generated by graphviz version 2.38.0 (20140413.2041)\n",
       " -->\n",
       "<!-- Title: %3 Pages: 1 -->\n",
       "<svg width=\"641pt\" height=\"350pt\"\n",
       " viewBox=\"0.00 0.00 641.15 350.00\" xmlns=\"http://www.w3.org/2000/svg\" xmlns:xlink=\"http://www.w3.org/1999/xlink\">\n",
       "<g id=\"graph0\" class=\"graph\" transform=\"scale(1 1) rotate(0) translate(4 346)\">\n",
       "<title>%3</title>\n",
       "<polygon fill=\"white\" stroke=\"none\" points=\"-4,4 -4,-346 637.153,-346 637.153,4 -4,4\"/>\n",
       "<!-- 10.1017/S0022112068000911 -->\n",
       "<g id=\"node1\" class=\"node\"><title>10.1017/S0022112068000911</title>\n",
       "<ellipse fill=\"#ffd700\" stroke=\"#ffd700\" cx=\"275.829\" cy=\"-324\" rx=\"63.0888\" ry=\"18\"/>\n",
       "<text text-anchor=\"middle\" x=\"275.829\" y=\"-320.3\" font-family=\"Times,serif\" font-size=\"14.00\">Gottifredi1968</text>\n",
       "</g>\n",
       "<!-- 10.1017/S0022112082000421 -->\n",
       "<g id=\"node2\" class=\"node\"><title>10.1017/S0022112082000421</title>\n",
       "<ellipse fill=\"#ffd700\" stroke=\"#ffd700\" cx=\"434.018\" cy=\"-232\" rx=\"48.1917\" ry=\"18\"/>\n",
       "<text text-anchor=\"middle\" x=\"434.018\" y=\"-228.3\" font-family=\"Times,serif\" font-size=\"14.00\">Craik1982</text>\n",
       "</g>\n",
       "<!-- 10.1017/S0022112068000911&#45;&gt;10.1017/S0022112082000421 -->\n",
       "<g id=\"edge3\" class=\"edge\"><title>10.1017/S0022112068000911&#45;&gt;10.1017/S0022112082000421</title>\n",
       "<path fill=\"none\" stroke=\"black\" d=\"M309.345,-308.657C319.053,-303.699 329.579,-297.939 338.873,-292 355.953,-281.086 357.941,-275.144 374.873,-264 381.505,-259.635 388.78,-255.302 395.87,-251.299\"/>\n",
       "<polygon fill=\"black\" stroke=\"black\" points=\"397.629,-254.326 404.691,-246.428 394.245,-248.198 397.629,-254.326\"/>\n",
       "</g>\n",
       "<!-- 10.1029/91JC01876 -->\n",
       "<g id=\"node3\" class=\"node\"><title>10.1029/91JC01876</title>\n",
       "<ellipse fill=\"#ffd700\" stroke=\"#ffd700\" cx=\"434.018\" cy=\"-324\" rx=\"59.2899\" ry=\"18\"/>\n",
       "<text text-anchor=\"middle\" x=\"434.018\" y=\"-320.3\" font-family=\"Times,serif\" font-size=\"14.00\">Creamer1992</text>\n",
       "</g>\n",
       "<!-- 10.1017/S0022112068000911&#45;&gt;10.1029/91JC01876 -->\n",
       "<g id=\"edge2\" class=\"edge\"><title>10.1017/S0022112068000911&#45;&gt;10.1029/91JC01876</title>\n",
       "<path fill=\"none\" stroke=\"black\" d=\"M339.008,-324C347.414,-324 356.078,-324 364.586,-324\"/>\n",
       "<polygon fill=\"black\" stroke=\"black\" points=\"364.86,-327.5 374.86,-324 364.86,-320.5 364.86,-327.5\"/>\n",
       "</g>\n",
       "<!-- 10.1063/1.868629 -->\n",
       "<g id=\"node4\" class=\"node\"><title>10.1063/1.868629</title>\n",
       "<ellipse fill=\"red\" stroke=\"red\" cx=\"581.158\" cy=\"-186\" rx=\"51.9908\" ry=\"18\"/>\n",
       "<text text-anchor=\"middle\" x=\"581.158\" y=\"-182.3\" font-family=\"Times,serif\" font-size=\"14.00\">Weber1995</text>\n",
       "</g>\n",
       "<!-- 10.1017/S0022112068000911&#45;&gt;10.1063/1.868629 -->\n",
       "<g id=\"edge1\" class=\"edge\"><title>10.1017/S0022112068000911&#45;&gt;10.1063/1.868629</title>\n",
       "<path fill=\"none\" stroke=\"black\" d=\"M321.556,-311.606C380.321,-295.161 477.892,-267.244 493.163,-259 516.869,-246.202 540.053,-226.269 556.519,-210.463\"/>\n",
       "<polygon fill=\"black\" stroke=\"black\" points=\"559.35,-212.588 564.035,-203.085 554.447,-207.593 559.35,-212.588\"/>\n",
       "</g>\n",
       "<!-- 10.1017/S0022112082000421&#45;&gt;10.1063/1.868629 -->\n",
       "<g id=\"edge4\" class=\"edge\"><title>10.1017/S0022112082000421&#45;&gt;10.1063/1.868629</title>\n",
       "<path fill=\"none\" stroke=\"black\" d=\"M471.268,-220.511C489.885,-214.611 512.798,-207.349 532.795,-201.011\"/>\n",
       "<polygon fill=\"black\" stroke=\"black\" points=\"533.87,-204.342 542.345,-197.984 531.755,-197.669 533.87,-204.342\"/>\n",
       "</g>\n",
       "<!-- 10.1029/91JC01876&#45;&gt;10.1063/1.868629 -->\n",
       "<g id=\"edge5\" class=\"edge\"><title>10.1029/91JC01876&#45;&gt;10.1063/1.868629</title>\n",
       "<path fill=\"none\" stroke=\"black\" d=\"M467.501,-308.952C476.268,-304.155 485.453,-298.407 493.163,-292 521.414,-268.525 547.211,-234.843 563.251,-211.785\"/>\n",
       "<polygon fill=\"black\" stroke=\"black\" points=\"566.153,-213.742 568.905,-203.511 560.373,-209.792 566.153,-213.742\"/>\n",
       "</g>\n",
       "<!-- 10.1017/S0022112070000071 -->\n",
       "<g id=\"node5\" class=\"node\"><title>10.1017/S0022112070000071</title>\n",
       "<ellipse fill=\"#00cdcd\" stroke=\"#00cdcd\" cx=\"88.3922\" cy=\"-102\" rx=\"46.2923\" ry=\"18\"/>\n",
       "<text text-anchor=\"middle\" x=\"88.3922\" y=\"-98.3\" font-family=\"Times,serif\" font-size=\"14.00\">Dore1970</text>\n",
       "</g>\n",
       "<!-- 10.1017/S0022112070000071&#45;&gt;10.1017/S0022112082000421 -->\n",
       "<g id=\"edge8\" class=\"edge\"><title>10.1017/S0022112070000071&#45;&gt;10.1017/S0022112082000421</title>\n",
       "<path fill=\"none\" stroke=\"black\" d=\"M122.029,-114.347C184.431,-137.955 320.631,-189.482 390.226,-215.811\"/>\n",
       "<polygon fill=\"black\" stroke=\"black\" points=\"388.998,-219.089 399.59,-219.354 391.475,-212.541 388.998,-219.089\"/>\n",
       "</g>\n",
       "<!-- 10.1080/03091927808242638 -->\n",
       "<g id=\"node6\" class=\"node\"><title>10.1080/03091927808242638</title>\n",
       "<ellipse fill=\"#ffd700\" stroke=\"#ffd700\" cx=\"434.018\" cy=\"-102\" rx=\"46.2923\" ry=\"18\"/>\n",
       "<text text-anchor=\"middle\" x=\"434.018\" y=\"-98.3\" font-family=\"Times,serif\" font-size=\"14.00\">Dore1978</text>\n",
       "</g>\n",
       "<!-- 10.1017/S0022112070000071&#45;&gt;10.1080/03091927808242638 -->\n",
       "<g id=\"edge7\" class=\"edge\"><title>10.1017/S0022112070000071&#45;&gt;10.1080/03091927808242638</title>\n",
       "<path fill=\"none\" stroke=\"black\" d=\"M126.577,-91.6701C150.889,-85.4627 183.461,-78.1707 212.784,-75 268.499,-68.9757 283.379,-67.1996 338.873,-75 355.724,-77.3686 373.788,-82.0116 389.541,-86.7888\"/>\n",
       "<polygon fill=\"black\" stroke=\"black\" points=\"388.934,-90.2667 399.523,-89.9249 391.032,-83.5885 388.934,-90.2667\"/>\n",
       "</g>\n",
       "<!-- 10.1029/JC075i036p07611 -->\n",
       "<g id=\"node7\" class=\"node\"><title>10.1029/JC075i036p07611</title>\n",
       "<ellipse fill=\"#ffd700\" stroke=\"#ffd700\" cx=\"275.829\" cy=\"-102\" rx=\"55.7903\" ry=\"18\"/>\n",
       "<text text-anchor=\"middle\" x=\"275.829\" y=\"-98.3\" font-family=\"Times,serif\" font-size=\"14.00\">Ünlüata1970</text>\n",
       "</g>\n",
       "<!-- 10.1017/S0022112070000071&#45;&gt;10.1029/JC075i036p07611 -->\n",
       "<g id=\"edge6\" class=\"edge\"><title>10.1017/S0022112070000071&#45;&gt;10.1029/JC075i036p07611</title>\n",
       "<path fill=\"none\" stroke=\"black\" d=\"M134.755,-102C157.278,-102 184.898,-102 209.641,-102\"/>\n",
       "<polygon fill=\"black\" stroke=\"black\" points=\"209.683,-105.5 219.683,-102 209.683,-98.5001 209.683,-105.5\"/>\n",
       "</g>\n",
       "<!-- 10.1080/03091927808242638&#45;&gt;10.1063/1.868629 -->\n",
       "<g id=\"edge9\" class=\"edge\"><title>10.1080/03091927808242638&#45;&gt;10.1063/1.868629</title>\n",
       "<path fill=\"none\" stroke=\"black\" d=\"M461.76,-116.458C471.668,-121.883 482.969,-128.151 493.163,-134 510.513,-143.956 529.611,-155.324 545.481,-164.887\"/>\n",
       "<polygon fill=\"black\" stroke=\"black\" points=\"544.046,-168.11 554.415,-170.285 547.666,-162.118 544.046,-168.11\"/>\n",
       "</g>\n",
       "<!-- 10.1029/JC075i036p07611&#45;&gt;10.1063/1.868629 -->\n",
       "<g id=\"edge10\" class=\"edge\"><title>10.1029/JC075i036p07611&#45;&gt;10.1063/1.868629</title>\n",
       "<path fill=\"none\" stroke=\"black\" d=\"M318.687,-113.592C373.841,-128.865 470.755,-155.703 529.838,-172.065\"/>\n",
       "<polygon fill=\"black\" stroke=\"black\" points=\"529.125,-175.499 539.696,-174.795 530.993,-168.753 529.125,-175.499\"/>\n",
       "</g>\n",
       "<!-- 10.1029/JC075i036p07611&#45;&gt;10.1080/03091927808242638 -->\n",
       "<g id=\"edge11\" class=\"edge\"><title>10.1029/JC075i036p07611&#45;&gt;10.1080/03091927808242638</title>\n",
       "<path fill=\"none\" stroke=\"black\" d=\"M331.895,-102C346.738,-102 362.8,-102 377.659,-102\"/>\n",
       "<polygon fill=\"black\" stroke=\"black\" points=\"377.724,-105.5 387.724,-102 377.723,-98.5001 377.724,-105.5\"/>\n",
       "</g>\n",
       "<!-- 10.1098/rsta.1953.0006 -->\n",
       "<g id=\"node8\" class=\"node\"><title>10.1098/rsta.1953.0006</title>\n",
       "<ellipse fill=\"#ffd700\" stroke=\"#ffd700\" cx=\"88.3922\" cy=\"-18\" rx=\"88.2844\" ry=\"18\"/>\n",
       "<text text-anchor=\"middle\" x=\"88.3922\" y=\"-14.3\" font-family=\"Times,serif\" font-size=\"14.00\">Longuet&#45;Higgins1953</text>\n",
       "</g>\n",
       "<!-- 10.1098/rsta.1953.0006&#45;&gt;10.1063/1.868629 -->\n",
       "<g id=\"edge12\" class=\"edge\"><title>10.1098/rsta.1953.0006&#45;&gt;10.1063/1.868629</title>\n",
       "<path fill=\"none\" stroke=\"black\" d=\"M168.35,-10.266C255.112,-5.78953 395.15,-10.8051 493.163,-75 525.633,-96.267 551.25,-133.761 566.049,-159.229\"/>\n",
       "<polygon fill=\"black\" stroke=\"black\" points=\"563.043,-161.025 571.005,-168.016 569.141,-157.586 563.043,-161.025\"/>\n",
       "</g>\n",
       "<!-- 10.1098/rsta.1953.0006&#45;&gt;10.1080/03091927808242638 -->\n",
       "<g id=\"edge14\" class=\"edge\"><title>10.1098/rsta.1953.0006&#45;&gt;10.1080/03091927808242638</title>\n",
       "<path fill=\"none\" stroke=\"black\" d=\"M160.875,-28.3397C211.182,-36.4425 279.806,-49.1649 338.873,-66 357.02,-71.1723 376.584,-78.3749 393.151,-84.9795\"/>\n",
       "<polygon fill=\"black\" stroke=\"black\" points=\"391.943,-88.2665 402.525,-88.7793 394.572,-81.7791 391.943,-88.2665\"/>\n",
       "</g>\n",
       "<!-- 10.1098/rsta.1953.0006&#45;&gt;10.1029/JC075i036p07611 -->\n",
       "<g id=\"edge13\" class=\"edge\"><title>10.1098/rsta.1953.0006&#45;&gt;10.1029/JC075i036p07611</title>\n",
       "<path fill=\"none\" stroke=\"black\" d=\"M125.586,-34.3955C156.572,-48.4316 201.178,-68.6373 233.547,-83.3001\"/>\n",
       "<polygon fill=\"black\" stroke=\"black\" points=\"232.197,-86.5309 242.751,-87.4691 235.086,-80.1546 232.197,-86.5309\"/>\n",
       "</g>\n",
       "<!-- 10.1017/S002211206000061X -->\n",
       "<g id=\"node9\" class=\"node\"><title>10.1017/S002211206000061X</title>\n",
       "<ellipse fill=\"#00cdcd\" stroke=\"#00cdcd\" cx=\"88.3922\" cy=\"-209\" rx=\"88.2844\" ry=\"18\"/>\n",
       "<text text-anchor=\"middle\" x=\"88.3922\" y=\"-205.3\" font-family=\"Times,serif\" font-size=\"14.00\">Longuet&#45;Higgins1960</text>\n",
       "</g>\n",
       "<!-- 10.1017/S002211206000061X&#45;&gt;10.1017/S0022112082000421 -->\n",
       "<g id=\"edge18\" class=\"edge\"><title>10.1017/S002211206000061X&#45;&gt;10.1017/S0022112082000421</title>\n",
       "<path fill=\"none\" stroke=\"black\" d=\"M121.075,-225.805C145.399,-237.712 180.228,-252.654 212.784,-259 267.789,-269.721 283.379,-266.8 338.873,-259 355.448,-256.67 373.196,-252.14 388.764,-247.446\"/>\n",
       "<polygon fill=\"black\" stroke=\"black\" points=\"390.144,-250.682 398.646,-244.359 388.057,-244 390.144,-250.682\"/>\n",
       "</g>\n",
       "<!-- 10.1017/S002211206000061X&#45;&gt;10.1080/03091927808242638 -->\n",
       "<g id=\"edge17\" class=\"edge\"><title>10.1017/S002211206000061X&#45;&gt;10.1080/03091927808242638</title>\n",
       "<path fill=\"none\" stroke=\"black\" d=\"M137.534,-194.009C203.944,-173.33 322.796,-136.322 387.688,-116.115\"/>\n",
       "<polygon fill=\"black\" stroke=\"black\" points=\"388.733,-119.455 397.24,-113.141 386.652,-112.772 388.733,-119.455\"/>\n",
       "</g>\n",
       "<!-- 10.1017/S002211206000061X&#45;&gt;10.1029/JC075i036p07611 -->\n",
       "<g id=\"edge15\" class=\"edge\"><title>10.1017/S002211206000061X&#45;&gt;10.1029/JC075i036p07611</title>\n",
       "<path fill=\"none\" stroke=\"black\" d=\"M118.775,-192.046C151.306,-173.275 203.761,-143.007 238.758,-122.814\"/>\n",
       "<polygon fill=\"black\" stroke=\"black\" points=\"240.783,-125.686 247.695,-117.657 237.284,-119.623 240.783,-125.686\"/>\n",
       "</g>\n",
       "<!-- 10.1017/S0022112083002311 -->\n",
       "<g id=\"node10\" class=\"node\"><title>10.1017/S0022112083002311</title>\n",
       "<ellipse fill=\"#ffd700\" stroke=\"#ffd700\" cx=\"275.829\" cy=\"-232\" rx=\"51.9908\" ry=\"18\"/>\n",
       "<text text-anchor=\"middle\" x=\"275.829\" y=\"-228.3\" font-family=\"Times,serif\" font-size=\"14.00\">Weber1983</text>\n",
       "</g>\n",
       "<!-- 10.1017/S002211206000061X&#45;&gt;10.1017/S0022112083002311 -->\n",
       "<g id=\"edge16\" class=\"edge\"><title>10.1017/S002211206000061X&#45;&gt;10.1017/S0022112083002311</title>\n",
       "<path fill=\"none\" stroke=\"black\" d=\"M164.282,-218.289C181.679,-220.447 199.947,-222.712 216.509,-224.766\"/>\n",
       "<polygon fill=\"black\" stroke=\"black\" points=\"216.223,-228.258 226.577,-226.015 217.084,-221.311 216.223,-228.258\"/>\n",
       "</g>\n",
       "<!-- 10.1017/S0022112083002311&#45;&gt;10.1063/1.868629 -->\n",
       "<g id=\"edge19\" class=\"edge\"><title>10.1017/S0022112083002311&#45;&gt;10.1063/1.868629</title>\n",
       "<path fill=\"none\" stroke=\"black\" d=\"M314.648,-219.906C332.706,-214.565 354.726,-208.677 374.873,-205 422.914,-196.233 478.057,-191.414 519.087,-188.825\"/>\n",
       "<polygon fill=\"black\" stroke=\"black\" points=\"519.43,-192.311 529.201,-188.214 519.008,-185.323 519.43,-192.311\"/>\n",
       "</g>\n",
       "</g>\n",
       "</svg>\n"
      ],
      "text/plain": [
       "<graphviz.dot.Digraph at 0x7fcae4986dd8>"
      ]
     },
     "execution_count": 148,
     "metadata": {},
     "output_type": "execute_result"
    }
   ],
   "source": [
    "exp.built_graphviz( nodes, links, getlabel, getcolor )"
   ]
  },
  {
   "cell_type": "code",
   "execution_count": 11,
   "metadata": {},
   "outputs": [],
   "source": [
    "## draft"
   ]
  },
  {
   "cell_type": "code",
   "execution_count": null,
   "metadata": {},
   "outputs": [],
   "source": [
    "    def printstats(self):\n",
    "        print( 'nbre nodes: {}\\nlast gen: {}'.format(self.len, self.lastGen() ) )\n",
    "        \n",
    "    \n",
    "    def degree(self, node):\n",
    "        return len( self.nodes[node].get('refs', []) ) + len( self.nodes[node].get('citedBy', []) )\n",
    "        \n",
    "        \n",
    "    def nodesVisitedTwice(self, N = 3):\n",
    "        \"\"\" List of nodes visited at least twice (N times)\n",
    "            i.e. nodes with an out_degree >= N\n",
    "        \"\"\"\n",
    "        isVisitedTwice = lambda node: len(node.get('citedBy', []))>=N\n",
    "        return [ doi for doi, node in self.nodes.items() if isVisitedTwice(node) ]\n",
    "\n",
    "        \n",
    "    def nodesToDraw(self, N = 3 ):\n",
    "        \"\"\" Keep the nodes only cited more than N times\n",
    "            and rebuild the upward graph\n",
    "        \"\"\"\n",
    "        nodesToCheck = self.nodesVisitedTwice(N=N)\n",
    "        nodesToDraw = []\n",
    "        linksToDraw = []\n",
    "        while nodesToCheck:\n",
    "            doi = nodesToCheck.pop()\n",
    "            nodesToDraw.append(doi)\n",
    "\n",
    "            for citing in self.nodes[doi]['citedBy']:\n",
    "\n",
    "                linksToDraw.append( (doi, citing) )\n",
    "                if citing not in nodesToDraw and citing not in nodesToCheck:\n",
    "                    nodesToCheck.append( citing )\n",
    "\n",
    "        return nodesToDraw, linksToDraw\n",
    "        \n",
    "        \n",
    "    def builtGraphviz(self, N = 3 ):\n",
    "        \"\"\" Use Graphviz to draw the graph\n",
    "            return a graphviz object\n",
    "            \n",
    "            the color is the generation number\n",
    "        \"\"\"\n",
    "        nodesToDraw, linksToDraw = self.nodesToDraw(N = N )\n",
    "        \n",
    "        colorGen = ['red', 'gold1', 'cyan3', 'darkorchid2', 'chartreuse2']\n",
    "        # see https://graphviz.gitlab.io/_pages/doc/info/colors.html\n",
    "\n",
    "        DG = Digraph(comment='hello', format='svg', engine='dot' , graph_attr={'size':'10' })#})'root':doi} )\n",
    "        DG.graph_attr['rankdir'] = 'LR'\n",
    "\n",
    "        for doi in nodesToDraw:\n",
    "            info =  self.nodes[doi]\n",
    "            DG.node(parsedoi(doi), color=colorGen[info['gen']], style='filled', label= buildlabel(doi))\n",
    "\n",
    "        for source, target in linksToDraw:\n",
    "            DG.edge(parsedoi(source), parsedoi(target))  \n",
    "\n",
    "        return DG\n",
    "        \n",
    "        \n",
    "    def mostCited(self):\n",
    "        \"\"\" Shows the most cited articles in the graph\n",
    "        \"\"\"\n",
    "        citedByCount = Counter( { doi:len(info['citedBy']) for doi, info in self.nodes.items() } )\n",
    "        \n",
    "        for doi, count in citedByCount.most_common(4):\n",
    "            printInfo( doi )\n",
    "            print('')\n",
    "    "
   ]
  }
 ],
 "metadata": {
  "kernelspec": {
   "display_name": "Python 3",
   "language": "python",
   "name": "python3"
  },
  "language_info": {
   "codemirror_mode": {
    "name": "ipython",
    "version": 3
   },
   "file_extension": ".py",
   "mimetype": "text/x-python",
   "name": "python",
   "nbconvert_exporter": "python",
   "pygments_lexer": "ipython3",
   "version": "3.5.2"
  },
  "toc": {
   "base_numbering": 1,
   "nav_menu": {},
   "number_sections": false,
   "sideBar": false,
   "skip_h1_title": false,
   "title_cell": "Table of Contents",
   "title_sidebar": "Contents",
   "toc_cell": false,
   "toc_position": {},
   "toc_section_display": false,
   "toc_window_display": false
  }
 },
 "nbformat": 4,
 "nbformat_minor": 2
}
