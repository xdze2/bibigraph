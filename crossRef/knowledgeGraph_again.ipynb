{
 "cells": [
  {
   "cell_type": "markdown",
   "metadata": {},
   "source": [
    "### Knowledge reduction\n",
    "\n",
    "- ne pas afficher les references, si au moins une des references l'utilise\n",
    "- supprime un lien si un chemin plus long existe\n",
    "\n"
   ]
  },
  {
   "cell_type": "code",
   "execution_count": 5,
   "metadata": {},
   "outputs": [
    {
     "name": "stdout",
     "output_type": "stream",
     "text": [
      "The autoreload extension is already loaded. To reload it, use:\n",
      "  %reload_ext autoreload\n"
     ]
    }
   ],
   "source": [
    "%load_ext autoreload\n",
    "%autoreload 2\n",
    "\n",
    "import explorerefs as exp"
   ]
  },
  {
   "cell_type": "code",
   "execution_count": 23,
   "metadata": {},
   "outputs": [],
   "source": [
    "doi = '10.1063/1.868629'"
   ]
  },
  {
   "cell_type": "code",
   "execution_count": 24,
   "metadata": {},
   "outputs": [
    {
     "name": "stdout",
     "output_type": "stream",
     "text": [
      "[10.1063/1.868629] Effect of film elasticity on the drift velocity \n",
      " of capillary–gravity waves\n",
      "Jan Erik Weber; O/yvind Saetra - Physics of Fluids - 1995\n",
      "nbr de refs:  20 - with doi: 18\n"
     ]
    }
   ],
   "source": [
    "# doi = exp.getOneRandomDoi()\n",
    "exp.printInfo(doi)"
   ]
  },
  {
   "cell_type": "markdown",
   "metadata": {},
   "source": [
    "## Create the graph"
   ]
  },
  {
   "cell_type": "code",
   "execution_count": 30,
   "metadata": {},
   "outputs": [
    {
     "name": "stdout",
     "output_type": "stream",
     "text": [
      "224 articles loaded from cache\n"
     ]
    }
   ],
   "source": [
    "from IPython.display import Image, display, SVG"
   ]
  },
  {
   "cell_type": "code",
   "execution_count": 25,
   "metadata": {},
   "outputs": [
    {
     "data": {
      "text/plain": [
       "{'10.1063/1.868629': {'citedBy': [], 'gen': 0}}"
      ]
     },
     "execution_count": 25,
     "metadata": {},
     "output_type": "execute_result"
    }
   ],
   "source": [
    "refgraph = exp.Referencesgraph(doi)\n",
    "refgraph.nodes"
   ]
  },
  {
   "cell_type": "code",
   "execution_count": 27,
   "metadata": {},
   "outputs": [
    {
     "name": "stdout",
     "output_type": "stream",
     "text": [
      "- done -          \n",
      "nbre nodes: 71\n",
      "last gen: 2\n"
     ]
    }
   ],
   "source": [
    "refgraph.grow()\n",
    "\n",
    "refgraph.printstats()"
   ]
  },
  {
   "cell_type": "code",
   "execution_count": 28,
   "metadata": {},
   "outputs": [
    {
     "data": {
      "text/plain": [
       "[71, 70, 13, 4, 1, 0, 0, 0, 0]"
      ]
     },
     "execution_count": 28,
     "metadata": {},
     "output_type": "execute_result"
    }
   ],
   "source": [
    "nRemaining = [ len( refgraph.nodesVisitedTwice(N=N) ) for N in range( 9 ) ]\n",
    "nRemaining"
   ]
  },
  {
   "cell_type": "code",
   "execution_count": 31,
   "metadata": {},
   "outputs": [
    {
     "data": {
      "image/svg+xml": [
       "<svg height=\"352pt\" viewBox=\"0.00 0.00 641.15 352.24\" width=\"641pt\" xmlns=\"http://www.w3.org/2000/svg\" xmlns:xlink=\"http://www.w3.org/1999/xlink\">\n",
       "<g class=\"graph\" id=\"graph0\" transform=\"scale(1 1) rotate(0) translate(4 348.242)\">\n",
       "<title>%3</title>\n",
       "<polygon fill=\"white\" points=\"-4,4 -4,-348.242 637.153,-348.242 637.153,4 -4,4\" stroke=\"none\"/>\n",
       "<!-- 10.1017/S0022112070000071 -->\n",
       "<g class=\"node\" id=\"node1\"><title>10.1017/S0022112070000071</title>\n",
       "<ellipse cx=\"88.3922\" cy=\"-232\" fill=\"#00cdcd\" rx=\"46.2923\" ry=\"18\" stroke=\"#00cdcd\"/>\n",
       "<text font-family=\"Times,serif\" font-size=\"14.00\" text-anchor=\"middle\" x=\"88.3922\" y=\"-228.3\">Dore1970</text>\n",
       "</g>\n",
       "<!-- 10.1017/S0022112082000421 -->\n",
       "<g class=\"node\" id=\"node2\"><title>10.1017/S0022112082000421</title>\n",
       "<ellipse cx=\"434.018\" cy=\"-118\" fill=\"#ffd700\" rx=\"48.1917\" ry=\"18\" stroke=\"#ffd700\"/>\n",
       "<text font-family=\"Times,serif\" font-size=\"14.00\" text-anchor=\"middle\" x=\"434.018\" y=\"-114.3\">Craik1982</text>\n",
       "</g>\n",
       "<!-- 10.1017/S0022112070000071&#45;&gt;10.1017/S0022112082000421 -->\n",
       "<g class=\"edge\" id=\"edge3\"><title>10.1017/S0022112070000071-&gt;10.1017/S0022112082000421</title>\n",
       "<path d=\"M124.232,-220.442C186.843,-199.67 318.32,-156.052 387.788,-133.005\" fill=\"none\" stroke=\"black\"/>\n",
       "<polygon fill=\"black\" points=\"389.183,-136.23 397.572,-129.759 386.979,-129.586 389.183,-136.23\" stroke=\"black\"/>\n",
       "</g>\n",
       "<!-- 10.1029/JC075i036p07611 -->\n",
       "<g class=\"node\" id=\"node4\"><title>10.1029/JC075i036p07611</title>\n",
       "<ellipse cx=\"275.829\" cy=\"-278\" fill=\"#ffd700\" rx=\"55.7903\" ry=\"18\" stroke=\"#ffd700\"/>\n",
       "<text font-family=\"Times,serif\" font-size=\"14.00\" text-anchor=\"middle\" x=\"275.829\" y=\"-274.3\">Ünlüata1970</text>\n",
       "</g>\n",
       "<!-- 10.1017/S0022112070000071&#45;&gt;10.1029/JC075i036p07611 -->\n",
       "<g class=\"edge\" id=\"edge2\"><title>10.1017/S0022112070000071-&gt;10.1029/JC075i036p07611</title>\n",
       "<path d=\"M127.815,-241.531C154.788,-248.222 191.226,-257.261 221.077,-264.666\" fill=\"none\" stroke=\"black\"/>\n",
       "<polygon fill=\"black\" points=\"220.377,-268.098 230.925,-267.109 222.062,-261.304 220.377,-268.098\" stroke=\"black\"/>\n",
       "</g>\n",
       "<!-- 10.1080/03091927808242638 -->\n",
       "<g class=\"node\" id=\"node5\"><title>10.1080/03091927808242638</title>\n",
       "<ellipse cx=\"434.018\" cy=\"-232\" fill=\"#ffd700\" rx=\"46.2923\" ry=\"18\" stroke=\"#ffd700\"/>\n",
       "<text font-family=\"Times,serif\" font-size=\"14.00\" text-anchor=\"middle\" x=\"434.018\" y=\"-228.3\">Dore1978</text>\n",
       "</g>\n",
       "<!-- 10.1017/S0022112070000071&#45;&gt;10.1080/03091927808242638 -->\n",
       "<g class=\"edge\" id=\"edge1\"><title>10.1017/S0022112070000071-&gt;10.1080/03091927808242638</title>\n",
       "<path d=\"M134.669,-232C197.246,-232 310.078,-232 377.612,-232\" fill=\"none\" stroke=\"black\"/>\n",
       "<polygon fill=\"black\" points=\"377.641,-235.5 387.641,-232 377.641,-228.5 377.641,-235.5\" stroke=\"black\"/>\n",
       "</g>\n",
       "<!-- 10.1063/1.868629 -->\n",
       "<g class=\"node\" id=\"node3\"><title>10.1063/1.868629</title>\n",
       "<ellipse cx=\"581.158\" cy=\"-164\" fill=\"red\" rx=\"51.9908\" ry=\"18\" stroke=\"red\"/>\n",
       "<text font-family=\"Times,serif\" font-size=\"14.00\" text-anchor=\"middle\" x=\"581.158\" y=\"-160.3\">Weber1995</text>\n",
       "</g>\n",
       "<!-- 10.1017/S0022112082000421&#45;&gt;10.1063/1.868629 -->\n",
       "<g class=\"edge\" id=\"edge4\"><title>10.1017/S0022112082000421-&gt;10.1063/1.868629</title>\n",
       "<path d=\"M471.268,-129.489C489.885,-135.389 512.798,-142.651 532.795,-148.989\" fill=\"none\" stroke=\"black\"/>\n",
       "<polygon fill=\"black\" points=\"531.755,-152.331 542.345,-152.016 533.87,-145.658 531.755,-152.331\" stroke=\"black\"/>\n",
       "</g>\n",
       "<!-- 10.1029/JC075i036p07611&#45;&gt;10.1063/1.868629 -->\n",
       "<g class=\"edge\" id=\"edge5\"><title>10.1029/JC075i036p07611-&gt;10.1063/1.868629</title>\n",
       "<path d=\"M329.037,-283.673C374.704,-286.319 441.604,-284.447 493.163,-259 523.968,-243.796 549.127,-212.634 564.324,-190.138\" fill=\"none\" stroke=\"black\"/>\n",
       "<polygon fill=\"black\" points=\"567.3,-191.982 569.839,-181.696 561.44,-188.154 567.3,-191.982\" stroke=\"black\"/>\n",
       "</g>\n",
       "<!-- 10.1029/JC075i036p07611&#45;&gt;10.1080/03091927808242638 -->\n",
       "<g class=\"edge\" id=\"edge6\"><title>10.1029/JC075i036p07611-&gt;10.1080/03091927808242638</title>\n",
       "<path d=\"M317.866,-265.914C339.106,-259.658 365.108,-252 387.026,-245.545\" fill=\"none\" stroke=\"black\"/>\n",
       "<polygon fill=\"black\" points=\"388.173,-248.856 396.777,-242.673 386.196,-242.141 388.173,-248.856\" stroke=\"black\"/>\n",
       "</g>\n",
       "<!-- 10.1080/03091927808242638&#45;&gt;10.1063/1.868629 -->\n",
       "<g class=\"edge\" id=\"edge7\"><title>10.1080/03091927808242638-&gt;10.1063/1.868629</title>\n",
       "<path d=\"M464.389,-218.239C486.254,-207.995 516.344,-193.898 540.367,-182.642\" fill=\"none\" stroke=\"black\"/>\n",
       "<polygon fill=\"black\" points=\"542.009,-185.738 549.58,-178.326 539.039,-179.4 542.009,-185.738\" stroke=\"black\"/>\n",
       "</g>\n",
       "<!-- 10.1098/rsta.1953.0006 -->\n",
       "<g class=\"node\" id=\"node6\"><title>10.1098/rsta.1953.0006</title>\n",
       "<ellipse cx=\"88.3922\" cy=\"-324\" fill=\"#ffd700\" rx=\"88.2844\" ry=\"18\" stroke=\"#ffd700\"/>\n",
       "<text font-family=\"Times,serif\" font-size=\"14.00\" text-anchor=\"middle\" x=\"88.3922\" y=\"-320.3\">Longuet-Higgins1953</text>\n",
       "</g>\n",
       "<!-- 10.1098/rsta.1953.0006&#45;&gt;10.1063/1.868629 -->\n",
       "<g class=\"edge\" id=\"edge8\"><title>10.1098/rsta.1953.0006-&gt;10.1063/1.868629</title>\n",
       "<path d=\"M154.493,-336.08C240.374,-348.239 392.4,-356.271 493.163,-285 527.363,-260.81 553.101,-218.817 567.401,-191.217\" fill=\"none\" stroke=\"black\"/>\n",
       "<polygon fill=\"black\" points=\"570.616,-192.615 571.977,-182.108 564.361,-189.473 570.616,-192.615\" stroke=\"black\"/>\n",
       "</g>\n",
       "<!-- 10.1098/rsta.1953.0006&#45;&gt;10.1029/JC075i036p07611 -->\n",
       "<g class=\"edge\" id=\"edge10\"><title>10.1098/rsta.1953.0006-&gt;10.1029/JC075i036p07611</title>\n",
       "<path d=\"M145.281,-310.136C169.355,-304.164 197.385,-297.211 221.202,-291.303\" fill=\"none\" stroke=\"black\"/>\n",
       "<polygon fill=\"black\" points=\"222.265,-294.645 231.128,-288.841 220.579,-287.851 222.265,-294.645\" stroke=\"black\"/>\n",
       "</g>\n",
       "<!-- 10.1098/rsta.1953.0006&#45;&gt;10.1080/03091927808242638 -->\n",
       "<g class=\"edge\" id=\"edge9\"><title>10.1098/rsta.1953.0006-&gt;10.1080/03091927808242638</title>\n",
       "<path d=\"M172.628,-329.476C222.424,-329.904 286.079,-325.343 338.873,-305 366.153,-294.489 392.01,-273.329 409.698,-256.485\" fill=\"none\" stroke=\"black\"/>\n",
       "<polygon fill=\"black\" points=\"412.537,-258.604 417.226,-249.103 407.636,-253.606 412.537,-258.604\" stroke=\"black\"/>\n",
       "</g>\n",
       "<!-- 10.1017/S0022112068000911 -->\n",
       "<g class=\"node\" id=\"node7\"><title>10.1017/S0022112068000911</title>\n",
       "<ellipse cx=\"275.829\" cy=\"-18\" fill=\"#ffd700\" rx=\"63.0888\" ry=\"18\" stroke=\"#ffd700\"/>\n",
       "<text font-family=\"Times,serif\" font-size=\"14.00\" text-anchor=\"middle\" x=\"275.829\" y=\"-14.3\">Gottifredi1968</text>\n",
       "</g>\n",
       "<!-- 10.1017/S0022112068000911&#45;&gt;10.1017/S0022112082000421 -->\n",
       "<g class=\"edge\" id=\"edge12\"><title>10.1017/S0022112068000911-&gt;10.1017/S0022112082000421</title>\n",
       "<path d=\"M311.383,-32.9374C320.737,-37.7333 330.564,-43.5084 338.873,-50 357.982,-64.9293 355.459,-76.4699 374.873,-91 379.611,-94.546 384.889,-97.7837 390.279,-100.688\" fill=\"none\" stroke=\"black\"/>\n",
       "<polygon fill=\"black\" points=\"388.871,-103.898 399.379,-105.258 392.013,-97.6423 388.871,-103.898\" stroke=\"black\"/>\n",
       "</g>\n",
       "<!-- 10.1017/S0022112068000911&#45;&gt;10.1063/1.868629 -->\n",
       "<g class=\"edge\" id=\"edge11\"><title>10.1017/S0022112068000911-&gt;10.1063/1.868629</title>\n",
       "<path d=\"M333.196,-10.3271C379.334,-6.86796 444.662,-8.65388 493.163,-37 531.514,-59.4142 556.737,-106.259 569.713,-136.362\" fill=\"none\" stroke=\"black\"/>\n",
       "<polygon fill=\"black\" points=\"566.589,-137.966 573.645,-145.869 573.057,-135.291 566.589,-137.966\" stroke=\"black\"/>\n",
       "</g>\n",
       "<!-- 10.1029/91JC01876 -->\n",
       "<g class=\"node\" id=\"node8\"><title>10.1029/91JC01876</title>\n",
       "<ellipse cx=\"434.018\" cy=\"-64\" fill=\"#ffd700\" rx=\"59.2899\" ry=\"18\" stroke=\"#ffd700\"/>\n",
       "<text font-family=\"Times,serif\" font-size=\"14.00\" text-anchor=\"middle\" x=\"434.018\" y=\"-60.3\">Creamer1992</text>\n",
       "</g>\n",
       "<!-- 10.1017/S0022112068000911&#45;&gt;10.1029/91JC01876 -->\n",
       "<g class=\"edge\" id=\"edge13\"><title>10.1017/S0022112068000911-&gt;10.1029/91JC01876</title>\n",
       "<path d=\"M320.336,-30.8136C339.177,-36.3626 361.384,-42.9029 381.081,-48.704\" fill=\"none\" stroke=\"black\"/>\n",
       "<polygon fill=\"black\" points=\"380.24,-52.1048 390.822,-51.5726 382.218,-45.3899 380.24,-52.1048\" stroke=\"black\"/>\n",
       "</g>\n",
       "<!-- 10.1029/91JC01876&#45;&gt;10.1063/1.868629 -->\n",
       "<g class=\"edge\" id=\"edge14\"><title>10.1029/91JC01876-&gt;10.1063/1.868629</title>\n",
       "<path d=\"M469.94,-78.3961C477.79,-82.126 485.931,-86.4011 493.163,-91 515.61,-105.275 538.56,-124.78 555.249,-140.038\" fill=\"none\" stroke=\"black\"/>\n",
       "<polygon fill=\"black\" points=\"553.197,-142.909 562.909,-147.145 557.959,-137.777 553.197,-142.909\" stroke=\"black\"/>\n",
       "</g>\n",
       "<!-- 10.1017/S002211206000061X -->\n",
       "<g class=\"node\" id=\"node9\"><title>10.1017/S002211206000061X</title>\n",
       "<ellipse cx=\"88.3922\" cy=\"-144\" fill=\"#00cdcd\" rx=\"88.2844\" ry=\"18\" stroke=\"#00cdcd\"/>\n",
       "<text font-family=\"Times,serif\" font-size=\"14.00\" text-anchor=\"middle\" x=\"88.3922\" y=\"-140.3\">Longuet-Higgins1960</text>\n",
       "</g>\n",
       "<!-- 10.1017/S002211206000061X&#45;&gt;10.1017/S0022112082000421 -->\n",
       "<g class=\"edge\" id=\"edge18\"><title>10.1017/S002211206000061X-&gt;10.1017/S0022112082000421</title>\n",
       "<path d=\"M115.482,-126.653C139.575,-111.748 176.948,-91.3742 212.784,-83 267.354,-70.2481 283.719,-73.0794 338.873,-83 357.667,-86.3805 377.609,-93.2732 394.278,-100.055\" fill=\"none\" stroke=\"black\"/>\n",
       "<polygon fill=\"black\" points=\"393.106,-103.359 403.681,-104.008 395.819,-96.9057 393.106,-103.359\" stroke=\"black\"/>\n",
       "</g>\n",
       "<!-- 10.1017/S002211206000061X&#45;&gt;10.1029/JC075i036p07611 -->\n",
       "<g class=\"edge\" id=\"edge17\"><title>10.1017/S002211206000061X-&gt;10.1029/JC075i036p07611</title>\n",
       "<path d=\"M114.777,-161.415C132.296,-173.507 156.073,-190.067 176.784,-205 199.726,-221.542 225.354,-240.646 244.653,-255.16\" fill=\"none\" stroke=\"black\"/>\n",
       "<polygon fill=\"black\" points=\"242.683,-258.058 252.776,-261.28 246.895,-252.467 242.683,-258.058\" stroke=\"black\"/>\n",
       "</g>\n",
       "<!-- 10.1017/S002211206000061X&#45;&gt;10.1080/03091927808242638 -->\n",
       "<g class=\"edge\" id=\"edge15\"><title>10.1017/S002211206000061X-&gt;10.1080/03091927808242638</title>\n",
       "<path d=\"M144.221,-158.041C210.769,-175.084 321.909,-203.546 385.151,-219.742\" fill=\"none\" stroke=\"black\"/>\n",
       "<polygon fill=\"black\" points=\"384.32,-223.142 394.875,-222.232 386.056,-216.36 384.32,-223.142\" stroke=\"black\"/>\n",
       "</g>\n",
       "<!-- 10.1017/S0022112083002311 -->\n",
       "<g class=\"node\" id=\"node10\"><title>10.1017/S0022112083002311</title>\n",
       "<ellipse cx=\"275.829\" cy=\"-110\" fill=\"#ffd700\" rx=\"51.9908\" ry=\"18\" stroke=\"#ffd700\"/>\n",
       "<text font-family=\"Times,serif\" font-size=\"14.00\" text-anchor=\"middle\" x=\"275.829\" y=\"-106.3\">Weber1983</text>\n",
       "</g>\n",
       "<!-- 10.1017/S002211206000061X&#45;&gt;10.1017/S0022112083002311 -->\n",
       "<g class=\"edge\" id=\"edge16\"><title>10.1017/S002211206000061X-&gt;10.1017/S0022112083002311</title>\n",
       "<path d=\"M154.77,-132.013C175.911,-128.137 199.135,-123.878 219.477,-120.149\" fill=\"none\" stroke=\"black\"/>\n",
       "<polygon fill=\"black\" points=\"220.312,-123.554 229.517,-118.308 219.05,-116.669 220.312,-123.554\" stroke=\"black\"/>\n",
       "</g>\n",
       "<!-- 10.1017/S0022112083002311&#45;&gt;10.1063/1.868629 -->\n",
       "<g class=\"edge\" id=\"edge19\"><title>10.1017/S0022112083002311-&gt;10.1063/1.868629</title>\n",
       "<path d=\"M309.352,-123.93C328.156,-131.392 352.461,-140.045 374.873,-145 422.555,-155.542 477.723,-160.244 518.852,-162.336\" fill=\"none\" stroke=\"black\"/>\n",
       "<polygon fill=\"black\" points=\"518.84,-165.84 528.993,-162.814 519.169,-158.847 518.84,-165.84\" stroke=\"black\"/>\n",
       "</g>\n",
       "</g>\n",
       "</svg>"
      ],
      "text/plain": [
       "<IPython.core.display.SVG object>"
      ]
     },
     "metadata": {},
     "output_type": "display_data"
    }
   ],
   "source": [
    "DG = refgraph.builtGraphviz( N = 3 )\n",
    "plt = SVG(DG.render())\n",
    "display(plt)"
   ]
  },
  {
   "cell_type": "code",
   "execution_count": 39,
   "metadata": {},
   "outputs": [],
   "source": [
    "import networkx as nx\n",
    "# https://networkx.github.io/documentation/networkx-1.9/reference/generated/networkx.algorithms.simple_paths.all_simple_paths.html"
   ]
  },
  {
   "cell_type": "code",
   "execution_count": 34,
   "metadata": {},
   "outputs": [],
   "source": [
    "nodesToDraw, linksToDraw = refgraph.nodesToDraw(N = 3 )"
   ]
  },
  {
   "cell_type": "code",
   "execution_count": 46,
   "metadata": {},
   "outputs": [],
   "source": [
    "linksByKeys = [ (exp.buildlabel(source), exp.buildlabel(target)) for source, target in linksToDraw]"
   ]
  },
  {
   "cell_type": "code",
   "execution_count": 55,
   "metadata": {},
   "outputs": [],
   "source": [
    "key2doi = { exp.buildlabel(doi):doi for doi in nodesToDraw }"
   ]
  },
  {
   "cell_type": "code",
   "execution_count": 50,
   "metadata": {},
   "outputs": [],
   "source": [
    "G = nx.DiGraph()\n",
    "\n",
    "for source, target in linksByKeys:\n",
    "    G.add_edge(source, target) \n",
    "\n",
    "#nx.drawing.draw(G)"
   ]
  },
  {
   "cell_type": "code",
   "execution_count": 57,
   "metadata": {},
   "outputs": [
    {
     "name": "stdout",
     "output_type": "stream",
     "text": [
      "Dore1970 Dore1978 2\n",
      "Ünlüata1970 Weber1995 2\n",
      "Longuet-Higgins1953 Weber1995 4\n",
      "Longuet-Higgins1953 Dore1978 2\n",
      "Gottifredi1968 Weber1995 3\n",
      "Longuet-Higgins1960 Dore1978 2\n"
     ]
    }
   ],
   "source": [
    "remainingLinks = []\n",
    "for source, target in linksByKeys:\n",
    "    \n",
    "    allpaths = list( nx.all_simple_paths( G, source, target ) )\n",
    "\n",
    "    if len(allpaths)>1:\n",
    "        print( source, target, len(allpaths) )\n",
    "    else:\n",
    "        remainingLinks.append( (key2doi[source],key2doi[target])   )"
   ]
  },
  {
   "cell_type": "code",
   "execution_count": 67,
   "metadata": {},
   "outputs": [],
   "source": [
    "from graphviz import Digraph\n",
    "\n",
    "def parsedoi(doi):\n",
    "    # bug graphviz\n",
    "    doi = doi.replace(':', '')\n",
    "    return doi\n",
    "\n",
    "\n",
    "def builtGraphviz( self, nodesToDraw, linksToDraw ):\n",
    "    \"\"\" Use Graphviz to draw the graph\n",
    "        return a graphviz object\n",
    "\n",
    "        the color is the generation number\n",
    "    \"\"\"\n",
    "    # nodesToDraw, linksToDraw = self.nodesToDraw(N = N )\n",
    "\n",
    "    colorGen = ['red', 'gold1', 'cyan3', 'darkorchid2', 'chartreuse2']\n",
    "    # see https://graphviz.gitlab.io/_pages/doc/info/colors.html\n",
    "\n",
    "    DG = Digraph(comment='hello', format='svg', engine='dot' , graph_attr={'size':'10' })#})'root':doi} )\n",
    "    DG.graph_attr['rankdir'] = 'LR'\n",
    "\n",
    "    for doi in nodesToDraw:\n",
    "        info =  self.nodes[doi]\n",
    "        DG.node(parsedoi(doi), color=colorGen[info['gen']], style='filled', label= exp.buildlabel(doi))\n",
    "\n",
    "    for source, target in linksToDraw:\n",
    "        DG.edge(parsedoi(source), parsedoi(target))  \n",
    "\n",
    "    return DG"
   ]
  },
  {
   "cell_type": "code",
   "execution_count": 68,
   "metadata": {},
   "outputs": [
    {
     "data": {
      "image/svg+xml": [
       "<?xml version=\"1.0\" encoding=\"UTF-8\" standalone=\"no\"?>\n",
       "<!DOCTYPE svg PUBLIC \"-//W3C//DTD SVG 1.1//EN\"\n",
       " \"http://www.w3.org/Graphics/SVG/1.1/DTD/svg11.dtd\">\n",
       "<!-- Generated by graphviz version 2.38.0 (20140413.2041)\n",
       " -->\n",
       "<!-- Title: %3 Pages: 1 -->\n",
       "<svg width=\"627pt\" height=\"206pt\"\n",
       " viewBox=\"0.00 0.00 626.85 206.00\" xmlns=\"http://www.w3.org/2000/svg\" xmlns:xlink=\"http://www.w3.org/1999/xlink\">\n",
       "<g id=\"graph0\" class=\"graph\" transform=\"scale(1 1) rotate(0) translate(4 202)\">\n",
       "<title>%3</title>\n",
       "<polygon fill=\"white\" stroke=\"none\" points=\"-4,4 -4,-202 622.855,-202 622.855,4 -4,4\"/>\n",
       "<!-- 10.1017/S0022112070000071 -->\n",
       "<g id=\"node1\" class=\"node\"><title>10.1017/S0022112070000071</title>\n",
       "<ellipse fill=\"#00cdcd\" stroke=\"#00cdcd\" cx=\"88.3922\" cy=\"-126\" rx=\"46.2923\" ry=\"18\"/>\n",
       "<text text-anchor=\"middle\" x=\"88.3922\" y=\"-122.3\" font-family=\"Times,serif\" font-size=\"14.00\">Dore1970</text>\n",
       "</g>\n",
       "<!-- 10.1017/S0022112082000421 -->\n",
       "<g id=\"node2\" class=\"node\"><title>10.1017/S0022112082000421</title>\n",
       "<ellipse fill=\"#ffd700\" stroke=\"#ffd700\" cx=\"268.679\" cy=\"-127\" rx=\"48.1917\" ry=\"18\"/>\n",
       "<text text-anchor=\"middle\" x=\"268.679\" y=\"-123.3\" font-family=\"Times,serif\" font-size=\"14.00\">Craik1982</text>\n",
       "</g>\n",
       "<!-- 10.1017/S0022112070000071&#45;&gt;10.1017/S0022112082000421 -->\n",
       "<g id=\"edge2\" class=\"edge\"><title>10.1017/S0022112070000071&#45;&gt;10.1017/S0022112082000421</title>\n",
       "<path fill=\"none\" stroke=\"black\" d=\"M134.843,-126.255C157.772,-126.384 185.825,-126.541 210.233,-126.678\"/>\n",
       "<polygon fill=\"black\" stroke=\"black\" points=\"210.425,-130.179 220.445,-126.735 210.464,-123.179 210.425,-130.179\"/>\n",
       "</g>\n",
       "<!-- 10.1029/JC075i036p07611 -->\n",
       "<g id=\"node4\" class=\"node\"><title>10.1029/JC075i036p07611</title>\n",
       "<ellipse fill=\"#ffd700\" stroke=\"#ffd700\" cx=\"268.679\" cy=\"-32\" rx=\"55.7903\" ry=\"18\"/>\n",
       "<text text-anchor=\"middle\" x=\"268.679\" y=\"-28.3\" font-family=\"Times,serif\" font-size=\"14.00\">Ünlüata1970</text>\n",
       "</g>\n",
       "<!-- 10.1017/S0022112070000071&#45;&gt;10.1029/JC075i036p07611 -->\n",
       "<g id=\"edge1\" class=\"edge\"><title>10.1017/S0022112070000071&#45;&gt;10.1029/JC075i036p07611</title>\n",
       "<path fill=\"none\" stroke=\"black\" d=\"M128.765,-116.866C144.191,-112.517 161.757,-106.585 176.784,-99 199.946,-87.3095 223.452,-69.8001 240.757,-55.6125\"/>\n",
       "<polygon fill=\"black\" stroke=\"black\" points=\"243.295,-58.0525 248.725,-48.9546 238.807,-52.6808 243.295,-58.0525\"/>\n",
       "</g>\n",
       "<!-- 10.1063/1.868629 -->\n",
       "<g id=\"node3\" class=\"node\"><title>10.1063/1.868629</title>\n",
       "<ellipse fill=\"red\" stroke=\"red\" cx=\"566.859\" cy=\"-108\" rx=\"51.9908\" ry=\"18\"/>\n",
       "<text text-anchor=\"middle\" x=\"566.859\" y=\"-104.3\" font-family=\"Times,serif\" font-size=\"14.00\">Weber1995</text>\n",
       "</g>\n",
       "<!-- 10.1017/S0022112082000421&#45;&gt;10.1063/1.868629 -->\n",
       "<g id=\"edge3\" class=\"edge\"><title>10.1017/S0022112082000421&#45;&gt;10.1063/1.868629</title>\n",
       "<path fill=\"none\" stroke=\"black\" d=\"M316.283,-124.01C367.353,-120.734 449.448,-115.468 505.43,-111.877\"/>\n",
       "<polygon fill=\"black\" stroke=\"black\" points=\"505.811,-115.359 515.566,-111.226 505.362,-108.374 505.811,-115.359\"/>\n",
       "</g>\n",
       "<!-- 10.1080/03091927808242638 -->\n",
       "<g id=\"node5\" class=\"node\"><title>10.1080/03091927808242638</title>\n",
       "<ellipse fill=\"#ffd700\" stroke=\"#ffd700\" cx=\"419.719\" cy=\"-31\" rx=\"46.2923\" ry=\"18\"/>\n",
       "<text text-anchor=\"middle\" x=\"419.719\" y=\"-27.3\" font-family=\"Times,serif\" font-size=\"14.00\">Dore1978</text>\n",
       "</g>\n",
       "<!-- 10.1029/JC075i036p07611&#45;&gt;10.1080/03091927808242638 -->\n",
       "<g id=\"edge4\" class=\"edge\"><title>10.1029/JC075i036p07611&#45;&gt;10.1080/03091927808242638</title>\n",
       "<path fill=\"none\" stroke=\"black\" d=\"M324.753,-31.6305C337.191,-31.547 350.406,-31.4584 362.876,-31.3747\"/>\n",
       "<polygon fill=\"black\" stroke=\"black\" points=\"363.165,-34.8729 373.142,-31.3058 363.118,-27.8731 363.165,-34.8729\"/>\n",
       "</g>\n",
       "<!-- 10.1080/03091927808242638&#45;&gt;10.1063/1.868629 -->\n",
       "<g id=\"edge5\" class=\"edge\"><title>10.1080/03091927808242638&#45;&gt;10.1063/1.868629</title>\n",
       "<path fill=\"none\" stroke=\"black\" d=\"M450.84,-44.3821C459.925,-48.5805 469.872,-53.3393 478.864,-58 496.318,-67.0465 515.289,-77.8335 531.048,-87.0685\"/>\n",
       "<polygon fill=\"black\" stroke=\"black\" points=\"529.528,-90.2356 539.92,-92.3017 533.085,-84.2064 529.528,-90.2356\"/>\n",
       "</g>\n",
       "<!-- 10.1098/rsta.1953.0006 -->\n",
       "<g id=\"node6\" class=\"node\"><title>10.1098/rsta.1953.0006</title>\n",
       "<ellipse fill=\"#ffd700\" stroke=\"#ffd700\" cx=\"88.3922\" cy=\"-18\" rx=\"88.2844\" ry=\"18\"/>\n",
       "<text text-anchor=\"middle\" x=\"88.3922\" y=\"-14.3\" font-family=\"Times,serif\" font-size=\"14.00\">Longuet&#45;Higgins1953</text>\n",
       "</g>\n",
       "<!-- 10.1098/rsta.1953.0006&#45;&gt;10.1029/JC075i036p07611 -->\n",
       "<g id=\"edge6\" class=\"edge\"><title>10.1098/rsta.1953.0006&#45;&gt;10.1029/JC075i036p07611</title>\n",
       "<path fill=\"none\" stroke=\"black\" d=\"M171.23,-24.4264C182.26,-25.2925 193.44,-26.1704 204.089,-27.0066\"/>\n",
       "<polygon fill=\"black\" stroke=\"black\" points=\"203.87,-30.5001 214.114,-27.7938 204.418,-23.5216 203.87,-30.5001\"/>\n",
       "</g>\n",
       "<!-- 10.1017/S0022112068000911 -->\n",
       "<g id=\"node7\" class=\"node\"><title>10.1017/S0022112068000911</title>\n",
       "<ellipse fill=\"#ffd700\" stroke=\"#ffd700\" cx=\"88.3922\" cy=\"-180\" rx=\"63.0888\" ry=\"18\"/>\n",
       "<text text-anchor=\"middle\" x=\"88.3922\" y=\"-176.3\" font-family=\"Times,serif\" font-size=\"14.00\">Gottifredi1968</text>\n",
       "</g>\n",
       "<!-- 10.1017/S0022112068000911&#45;&gt;10.1017/S0022112082000421 -->\n",
       "<g id=\"edge7\" class=\"edge\"><title>10.1017/S0022112068000911&#45;&gt;10.1017/S0022112082000421</title>\n",
       "<path fill=\"none\" stroke=\"black\" d=\"M133.006,-167.035C159.632,-159.12 193.666,-149.002 220.858,-140.919\"/>\n",
       "<polygon fill=\"black\" stroke=\"black\" points=\"221.952,-144.245 230.54,-138.04 219.957,-137.535 221.952,-144.245\"/>\n",
       "</g>\n",
       "<!-- 10.1029/91JC01876 -->\n",
       "<g id=\"node8\" class=\"node\"><title>10.1029/91JC01876</title>\n",
       "<ellipse fill=\"#ffd700\" stroke=\"#ffd700\" cx=\"419.719\" cy=\"-179\" rx=\"59.2899\" ry=\"18\"/>\n",
       "<text text-anchor=\"middle\" x=\"419.719\" y=\"-175.3\" font-family=\"Times,serif\" font-size=\"14.00\">Creamer1992</text>\n",
       "</g>\n",
       "<!-- 10.1017/S0022112068000911&#45;&gt;10.1029/91JC01876 -->\n",
       "<g id=\"edge8\" class=\"edge\"><title>10.1017/S0022112068000911&#45;&gt;10.1029/91JC01876</title>\n",
       "<path fill=\"none\" stroke=\"black\" d=\"M151.723,-179.811C208.367,-179.639 291.778,-179.385 350.257,-179.208\"/>\n",
       "<polygon fill=\"black\" stroke=\"black\" points=\"350.521,-182.707 360.51,-179.177 350.499,-175.707 350.521,-182.707\"/>\n",
       "</g>\n",
       "<!-- 10.1029/91JC01876&#45;&gt;10.1063/1.868629 -->\n",
       "<g id=\"edge9\" class=\"edge\"><title>10.1029/91JC01876&#45;&gt;10.1063/1.868629</title>\n",
       "<path fill=\"none\" stroke=\"black\" d=\"M451.855,-163.769C473.768,-153.049 503.261,-138.622 526.759,-127.127\"/>\n",
       "<polygon fill=\"black\" stroke=\"black\" points=\"528.323,-130.258 535.768,-122.72 525.247,-123.97 528.323,-130.258\"/>\n",
       "</g>\n",
       "<!-- 10.1017/S002211206000061X -->\n",
       "<g id=\"node9\" class=\"node\"><title>10.1017/S002211206000061X</title>\n",
       "<ellipse fill=\"#00cdcd\" stroke=\"#00cdcd\" cx=\"88.3922\" cy=\"-72\" rx=\"88.2844\" ry=\"18\"/>\n",
       "<text text-anchor=\"middle\" x=\"88.3922\" y=\"-68.3\" font-family=\"Times,serif\" font-size=\"14.00\">Longuet&#45;Higgins1960</text>\n",
       "</g>\n",
       "<!-- 10.1017/S002211206000061X&#45;&gt;10.1017/S0022112082000421 -->\n",
       "<g id=\"edge12\" class=\"edge\"><title>10.1017/S002211206000061X&#45;&gt;10.1017/S0022112082000421</title>\n",
       "<path fill=\"none\" stroke=\"black\" d=\"M138.11,-87.029C163.959,-95.0033 195.562,-104.752 221.085,-112.626\"/>\n",
       "<polygon fill=\"black\" stroke=\"black\" points=\"220.313,-116.051 230.9,-115.654 222.376,-109.362 220.313,-116.051\"/>\n",
       "</g>\n",
       "<!-- 10.1017/S002211206000061X&#45;&gt;10.1029/JC075i036p07611 -->\n",
       "<g id=\"edge11\" class=\"edge\"><title>10.1017/S002211206000061X&#45;&gt;10.1029/JC075i036p07611</title>\n",
       "<path fill=\"none\" stroke=\"black\" d=\"M148.759,-58.6806C169.297,-54.0728 192.216,-48.9306 212.411,-44.3998\"/>\n",
       "<polygon fill=\"black\" stroke=\"black\" points=\"213.398,-47.7655 222.389,-42.1612 211.866,-40.9353 213.398,-47.7655\"/>\n",
       "</g>\n",
       "<!-- 10.1017/S0022112083002311 -->\n",
       "<g id=\"node10\" class=\"node\"><title>10.1017/S0022112083002311</title>\n",
       "<ellipse fill=\"#ffd700\" stroke=\"#ffd700\" cx=\"419.719\" cy=\"-85\" rx=\"51.9908\" ry=\"18\"/>\n",
       "<text text-anchor=\"middle\" x=\"419.719\" y=\"-81.3\" font-family=\"Times,serif\" font-size=\"14.00\">Weber1983</text>\n",
       "</g>\n",
       "<!-- 10.1017/S002211206000061X&#45;&gt;10.1017/S0022112083002311 -->\n",
       "<g id=\"edge10\" class=\"edge\"><title>10.1017/S002211206000061X&#45;&gt;10.1017/S0022112083002311</title>\n",
       "<path fill=\"none\" stroke=\"black\" d=\"M175.489,-75.3986C232.722,-77.6579 306.495,-80.57 357.715,-82.5919\"/>\n",
       "<polygon fill=\"black\" stroke=\"black\" points=\"357.837,-86.0993 367.967,-82.9966 358.113,-79.1048 357.837,-86.0993\"/>\n",
       "</g>\n",
       "<!-- 10.1017/S0022112083002311&#45;&gt;10.1063/1.868629 -->\n",
       "<g id=\"edge13\" class=\"edge\"><title>10.1017/S0022112083002311&#45;&gt;10.1063/1.868629</title>\n",
       "<path fill=\"none\" stroke=\"black\" d=\"M467.441,-92.4039C480.778,-94.5174 495.455,-96.8431 509.311,-99.0389\"/>\n",
       "<polygon fill=\"black\" stroke=\"black\" points=\"508.8,-102.502 519.225,-100.61 509.896,-95.5878 508.8,-102.502\"/>\n",
       "</g>\n",
       "</g>\n",
       "</svg>\n"
      ],
      "text/plain": [
       "<graphviz.dot.Digraph at 0x7f38051dcdd8>"
      ]
     },
     "execution_count": 68,
     "metadata": {},
     "output_type": "execute_result"
    }
   ],
   "source": [
    "builtGraphviz( refgraph, nodesToDraw, remainingLinks )"
   ]
  },
  {
   "cell_type": "code",
   "execution_count": null,
   "metadata": {},
   "outputs": [],
   "source": []
  }
 ],
 "metadata": {
  "kernelspec": {
   "display_name": "Python 3",
   "language": "python",
   "name": "python3"
  },
  "language_info": {
   "codemirror_mode": {
    "name": "ipython",
    "version": 3
   },
   "file_extension": ".py",
   "mimetype": "text/x-python",
   "name": "python",
   "nbconvert_exporter": "python",
   "pygments_lexer": "ipython3",
   "version": "3.5.2"
  },
  "toc": {
   "base_numbering": 1,
   "nav_menu": {},
   "number_sections": false,
   "sideBar": false,
   "skip_h1_title": false,
   "title_cell": "Table of Contents",
   "title_sidebar": "Contents",
   "toc_cell": false,
   "toc_position": {},
   "toc_section_display": false,
   "toc_window_display": false
  }
 },
 "nbformat": 4,
 "nbformat_minor": 2
}
