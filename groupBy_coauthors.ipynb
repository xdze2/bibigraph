{
 "cells": [
  {
   "cell_type": "markdown",
   "metadata": {},
   "source": [
    "# group articles by authors"
   ]
  },
  {
   "cell_type": "code",
   "execution_count": 38,
   "metadata": {},
   "outputs": [],
   "source": [
    "import pandas as pd\n",
    "from beakerx import *"
   ]
  },
  {
   "cell_type": "code",
   "execution_count": 39,
   "metadata": {},
   "outputs": [],
   "source": [
    "import bibigraph as big"
   ]
  },
  {
   "cell_type": "code",
   "execution_count": 40,
   "metadata": {},
   "outputs": [
    {
     "name": "stdout",
     "output_type": "stream",
     "text": [
      "The autoreload extension is already loaded. To reload it, use:\n",
      "  %reload_ext autoreload\n"
     ]
    }
   ],
   "source": [
    "%load_ext autoreload\n",
    "%autoreload 2"
   ]
  },
  {
   "cell_type": "code",
   "execution_count": 41,
   "metadata": {},
   "outputs": [
    {
     "name": "stdout",
     "output_type": "stream",
     "text": [
      "930 articles added\n"
     ]
    }
   ],
   "source": [
    "biblio = big.Bibliography()\n",
    "\n",
    "datafile = 'data/citing_Nye1953_journals.bib'\n",
    "biblio.load( datafile )"
   ]
  },
  {
   "cell_type": "code",
   "execution_count": 42,
   "metadata": {},
   "outputs": [
    {
     "data": {
      "text/plain": [
       "A unified framework for polycr... (2018) International Journal of Plasticity"
      ]
     },
     "execution_count": 42,
     "metadata": {},
     "output_type": "execute_result"
    }
   ],
   "source": [
    "biblio.articles[4]"
   ]
  },
  {
   "cell_type": "code",
   "execution_count": 43,
   "metadata": {},
   "outputs": [],
   "source": [
    "import networkx as nx"
   ]
  },
  {
   "cell_type": "code",
   "execution_count": 44,
   "metadata": {},
   "outputs": [],
   "source": [
    "# Build a distance matrix between each article\n",
    "# the distance function is the number of authors in both article\n",
    "# - create a networkx Graph -\n",
    "\n",
    "distanceByCoauthors = nx.Graph()\n",
    "for i, articleA in enumerate( biblio.articles ):\n",
    "    for j in range( i+1, len(biblio.articles) ):\n",
    "        articleB = biblio.articles[j]\n",
    "\n",
    "        authorsA = set( articleA.authors )\n",
    "        authorsB = set( articleB.authors )\n",
    "\n",
    "        nCommun = len( authorsA & authorsB ) # intersection\n",
    "        if nCommun>1:\n",
    "            ebunch = (articleA.key, articleB.key, {'weight': nCommun})\n",
    "            distanceByCoauthors.add_edges_from([ebunch ])\n",
    "            \n",
    "cc = nx.connected_components(distanceByCoauthors)\n",
    "groupByAuthors = [c for c in sorted(cc, key=len, reverse=True)]"
   ]
  },
  {
   "cell_type": "code",
   "execution_count": 45,
   "metadata": {},
   "outputs": [
    {
     "name": "stdout",
     "output_type": "stream",
     "text": [
      "Nombre de groupes: 109\n",
      "Nombre de publications dans les 10 plus grands groupes:\n",
      "[45, 44, 35, 22, 20, 9, 8, 8, 8, 8]\n",
      "Nombre de duo: 50\n",
      "Nombre de publications en grps: 487\n"
     ]
    }
   ],
   "source": [
    "print('Nombre de groupes: %i' % len(groupByAuthors))\n",
    "print('Nombre de publications dans les 10 plus grands groupes:')\n",
    "print( [len(c) for c in groupByAuthors[:10]] )\n",
    "print( 'Nombre de duo: %i' % len( [c for c in groupByAuthors if len(c)==2] ) )\n",
    "print( 'Nombre de publications en grps: %i' % sum( [len(c) for c in groupByAuthors] ) )"
   ]
  },
  {
   "cell_type": "code",
   "execution_count": 51,
   "metadata": {},
   "outputs": [],
   "source": [
    "def articleToDict( article ):\n",
    "\n",
    "    dico = {}\n",
    "    dico['title'] = article.title\n",
    "    dico['nbrCitation'] = article.nbrCitation\n",
    "    dico['journal'] = article.journal\n",
    "    dico['year'] = article.year\n",
    "    dico['authors'] = '; '.join(article.authors)\n",
    "    return dico"
   ]
  },
  {
   "cell_type": "code",
   "execution_count": 52,
   "metadata": {},
   "outputs": [
    {
     "data": {
      "application/vnd.jupyter.widget-view+json": {
       "model_id": "9a89635beb284ba69b4fc153bc1cf0a6",
       "version_major": 2,
       "version_minor": 0
      }
     },
     "metadata": {},
     "output_type": "display_data"
    }
   ],
   "source": [
    "groupId = 0\n",
    "dfGrp = pd.DataFrame.from_records( [articleToDict(biblio.getArticleFromKey(key)) for key in groupByAuthors[groupId]] )\n",
    "dfGrp"
   ]
  },
  {
   "cell_type": "markdown",
   "metadata": {},
   "source": [
    "### Authors and affiliation"
   ]
  },
  {
   "cell_type": "code",
   "execution_count": 57,
   "metadata": {},
   "outputs": [
    {
     "name": "stdout",
     "output_type": "stream",
     "text": [
      "Feng, X.; Huang, Y.; Hwang, K.C.; Shi, Z.; Xiao, J.\n",
      "Huang, Y.; Hwang, K.C.; Shi, M.X.\n",
      "Huang, Y.; Hwang, K.C.; Shi, M.X.\n",
      "Chen, J.Y.; Guo, T.F.; Huang, Y.; Hwang, K.C.; Zhang, L.\n",
      "Huang, Y.; Hwang, K.C.; Wu, P.D.; Yun, G.\n",
      "Gao, H.; Han, C.-S.; Huang, Y.; Hwang, K.C.; Liu, B.; Ravichandran, G.; Wang, H.; Wu, P.D.\n",
      "Gao, H.; Huang, Y.; Hwang, K.C.; Nix, W.D.; Qiu, X.\n",
      "Huang, Y.; Li, M.; Xue, Z.\n",
      "Huang, Y.; Hwang, K.-C.; Zhang, F.\n",
      "Chen, J.Y.; Huang, Y.; Hwang, K.C.; Zhang, L.\n",
      "Chen, J.Y.; Huang, Y.; Hwang, K.C.; Xia, Z.C.\n",
      "Feng, X.; Huang, Y.; Hwang, K.-C.; Qin, J.; Qu, S.; Xiao, J.\n",
      "Huang, Y.; Hwang, K.C.; Li, M.; Xue, Z.\n",
      "Huang, Y.; Hwang, K.C.; Li, M.; Liu, B.; Liu, C.; Qiu, X.\n",
      "Chen, J.Y.; Huang, Y.; Hutchinson, J.W.; Hwang, K.C.; Wei, Y.\n",
      "Gao, H.; Huang, Y.\n",
      "Gao, H.; Huang, Y.; Hwang, K.C.; Jiang, H.\n",
      "Guo, T.F.; Huang, Y.; Hwang, K.-C.; Zhang, L.\n",
      "Huang, Y.; Kolednik, O.; Siegmund, T.; Srinivasan, K.\n",
      "Feng, X.; Huang, Y.; Hwang, K.C.; Pharr, G.M.\n",
      "Huang, Y.; Hwang, K.C.; Jiang, H.; Liu, C.; Qu, S.; Wu, P.D.\n",
      "Huang, Y.; Hwang, K.C.; Qu, S.; Siegmund, T.; Wu, P.D.; Zhang, F.\n",
      "Huang, Y.; Hwang, K.C.; Jiang, H.; Li, M.; Shi, M.\n",
      "Gao, H.; Huang, B.; Huang, Y.; Hwang, K.C.; Shi, Z.F.; Tan, H.; Wu, P.D.; Zhang, T.Y.\n",
      "Feng, G.; Huang, Y.; Hwang, K.C.; Nix, W.D.; Pharr, G.M.; Zhang, F.\n",
      "Gao, H.; Han, C.-S.; Huang, Y.; Nix, W.D.\n",
      "Gao, H.; Huang, Y.; Shi, M.X.\n",
      "Huang, Y.; Hwang, K.C.; Liu, C.; Qu, S.; Zhang, F.\n",
      "Huang, Y.; Hwang, K.C.; Pharr, G.M.; Qu, S.\n",
      "Gao, H.; Huang, Y.; Hwang, K.C.; Qiu, X.; Wei, Y.\n",
      "Gao, H.; Huang, Y.; Nix, W.D.\n",
      "Gao, H.; Huang, Y.; Hwang, K.C.; Shi, M.X.\n",
      "Chen, J.Y.; Cuo, T.F.; Huang, Y.; Hwang, K.C.\n",
      "Gao, H.; Huang, Y.\n",
      "Gao, H.; Huang, Y.; Hutchinson, J.W.; Nix, W.D.\n",
      "Huang, Y.; Hwang, K.C.; Qin, J.; Xiao, J.\n",
      "Huang, Y.; Hwang, K.C.; Liu, C.; Wu, P.D.; Yun, G.\n",
      "Huang, Y.; Hwang, K.C.; Pharr, G.M.; Qin, J.; Song, J.\n",
      "Huang, Y.; Hwang, K.-C.; Shi, Z.\n",
      "Huang, Y.; Hwang, K.C.; Jiang, H.; Nix, W.D.; Qu, S.; Zhang, F.\n",
      "Gao, H.; Huang, Y.; Hwang, K.C.; Song, J.\n",
      "Gao, H.; Huang, Y.; Hwang, K.C.; Li, M.; Qu, S.\n",
      "Huang, Y.; Hwang, K.C.; Li, M.; Nix, W.D.; Qu, S.; Saha, R.; Zhang, F.\n",
      "Huang, Y.; Saif, M.T.A.; Xue, Z.\n"
     ]
    }
   ],
   "source": [
    "groupId = 1\n",
    "for a in groupByAuthors[groupId]: \n",
    "    article =  biblio.getArticleFromKey(a)\n",
    "    print('; '.join( sorted(article.authors ) ))"
   ]
  },
  {
   "cell_type": "code",
   "execution_count": 59,
   "metadata": {},
   "outputs": [
    {
     "name": "stdout",
     "output_type": "stream",
     "text": [
      "Hochrainer, T.; Zaiser, M.; Gumbsch, P.\n",
      "[('76131 Karlsruhe', 'Germany'), ('Edinburgh EH93JL', 'United Kingdom'), ('79108 Freiburg', 'Germany')]\n",
      "Sandfeld, S.; Hochrainer, T.; Zaiser, M.; Gumbsch, P.\n",
      "[('76131 Karlsruhe', 'Germany'), ('FL 32310', 'United States'), ('Edinburgh EH93JL', 'United Kingdom'), ('79108 Freiburg', 'Germany')]\n",
      "Wu, R.; Zaiser, M.; Sandfeld, S.\n",
      "[('Fürth', 'Germany'), ('Freiberg', 'Germany')]\n",
      "Schulz, K.; Dickel, D.; Schmitt, S.; Sandfeld, S.; Weygand, D.; Gumbsch, P.\n",
      "[('76131 Karlsruhe', 'Germany'), ('90762 Fürth', 'Germany'), ('79108 Freiburg', 'Germany')]\n",
      "Monavari, M.; Sandfeld, S.; Zaiser, M.\n",
      "[('Fürth', 'Germany')]\n",
      "Sandfeld, S.; Hochrainer, T.; Gumbsch, P.; Zaiser, M.\n",
      "[('76131 Karlsruhe', 'Germany'), ('79108 Freiburg', 'Germany'), ('EH9 3JL', 'United Kingdom')]\n",
      "Schulz, K.; Sudmanns, M.; Gumbsch, P.\n",
      "[('Karlsruhe', 'Germany'), ('Freiburg', 'Germany')]\n",
      "Sandfeld, S.; Monavari, M.; Zaiser, M.\n",
      "[('90762 Fürth', 'Germany')]\n"
     ]
    }
   ],
   "source": [
    "groupId = 6\n",
    "for a in groupByAuthors[groupId]:\n",
    "    print('; '.join( biblio.getArticleFromKey(a).authors ))\n",
    "    print( [ parseAffiliation( aff ) for aff in  biblio.getArticleFromKey(a).affiliation ] )"
   ]
  },
  {
   "cell_type": "code",
   "execution_count": 191,
   "metadata": {},
   "outputs": [
    {
     "data": {
      "text/plain": [
       "159"
      ]
     },
     "execution_count": 191,
     "metadata": {},
     "output_type": "execute_result"
    }
   ],
   "source": [
    "distanceByCoauthors.number_of_nodes()"
   ]
  },
  {
   "cell_type": "code",
   "execution_count": 56,
   "metadata": {},
   "outputs": [],
   "source": [
    "def parseAffiliation( aff ):\n",
    "    ''' take the affiliation string (already splited)\n",
    "    '''\n",
    "    aff = aff.split(',')\n",
    "    country = aff[-1].strip()\n",
    "    city = aff[-2].strip()\n",
    "    \n",
    "    return city, country"
   ]
  },
  {
   "cell_type": "code",
   "execution_count": null,
   "metadata": {},
   "outputs": [],
   "source": []
  }
 ],
 "metadata": {
  "kernelspec": {
   "display_name": "Python 3",
   "language": "python",
   "name": "python3"
  },
  "language_info": {
   "codemirror_mode": {
    "name": "ipython",
    "version": 3
   },
   "file_extension": ".py",
   "mimetype": "text/x-python",
   "name": "python",
   "nbconvert_exporter": "python",
   "pygments_lexer": "ipython3",
   "version": "3.5.2"
  },
  "toc": {
   "base_numbering": 1,
   "nav_menu": {},
   "number_sections": false,
   "sideBar": false,
   "skip_h1_title": false,
   "title_cell": "Table of Contents",
   "title_sidebar": "Contents",
   "toc_cell": false,
   "toc_position": {},
   "toc_section_display": false,
   "toc_window_display": false
  },
  "widgets": {
   "application/vnd.jupyter.widget-state+json": {
    "state": {
     "1d107886e35f46988bfd60b226fb8a0c": {
      "model_module": "beakerx",
      "model_module_version": "*",
      "model_name": "TableDisplayModel",
      "state": {
       "layout": "IPY_MODEL_fe66177489c14c9a9782d5cc2d2fd1af",
       "model": {
        "alignmentForColumn": {},
        "alignmentForType": {},
        "cellHighlighters": [],
        "columnNames": [
         "journal",
         "nbrCitation",
         "title",
         "year"
        ],
        "columnOrder": [],
        "columnsFrozen": {},
        "columnsFrozenRight": {},
        "columnsVisible": {},
        "contextMenuItems": [],
        "contextMenuTags": {},
        "fontColor": [],
        "hasDoubleClickAction": false,
        "headersVertical": false,
        "rendererForColumn": {},
        "rendererForType": {},
        "stringFormatForColumn": {},
        "stringFormatForType": {},
        "subtype": "ListOfMaps",
        "tooManyRows": false,
        "tooltips": [],
        "type": "TableDisplay",
        "types": [
         "string",
         "integer",
         "string",
         "integer"
        ],
        "values": [
         [
          "SIAM Journal on Applied Mathematics",
          "6",
          "Homogenization of a row of dislocation dipoles from discrete dislocation dynamics",
          "2016"
         ],
         [
          "Communications in Mathematical Sciences",
          "0",
          "A continuum model for distributions of dislocations incorporating short-range interactions",
          "2018"
         ],
         [
          "Philosophical Magazine",
          "11",
          "Continuum model for dislocation dynamics in a slip plane",
          "2010"
         ],
         [
          "International Journal of Plasticity",
          "15",
          "A continuum model for dislocation dynamics incorporating Frank-Read sources and Hall-Petch relation in two dimensions",
          "2014"
         ],
         [
          "Journal of the Mechanics and Physics of Solids",
          "8",
          "A continuum model for dislocation dynamics in three dimensions using the dislocation density potential functions and its application to micro-pillars",
          "2015"
         ],
         [
          "Journal of the Mechanics and Physics of Solids",
          "14",
          "Continuum framework for dislocation structure, energy and dynamics of dislocation arrays and low angle grain boundaries",
          "2014"
         ],
         [
          "Metallurgical and Materials Transactions A: Physical Metallurgy and Materials Science",
          "1",
          "Bauschinger Effect and Back Stress in Gradient Cu-Ge Alloy",
          "2017"
         ],
         [
          "Journal of the Mechanics and Physics of Solids",
          "2",
          "Continuum dynamics of the formation, migration and dissociation of self-locked dislocation structures on parallel slip planes",
          "2016"
         ]
        ]
       }
      }
     },
     "6260441f02504f64a4b8a7e48f670456": {
      "model_module": "beakerx",
      "model_module_version": "*",
      "model_name": "TableDisplayModel",
      "state": {
       "layout": "IPY_MODEL_9bbdc2e6105b453ab64c1503cb99fac4",
       "model": {
        "alignmentForColumn": {},
        "alignmentForType": {},
        "cellHighlighters": [],
        "columnNames": [
         "journal",
         "nbrCitation",
         "title",
         "year"
        ],
        "columnOrder": [],
        "columnsFrozen": {},
        "columnsFrozenRight": {},
        "columnsVisible": {},
        "contextMenuItems": [],
        "contextMenuTags": {},
        "fontColor": [],
        "hasDoubleClickAction": false,
        "headersVertical": false,
        "rendererForColumn": {},
        "rendererForType": {},
        "stringFormatForColumn": {},
        "stringFormatForType": {},
        "subtype": "ListOfMaps",
        "tooManyRows": false,
        "tooltips": [],
        "type": "TableDisplay",
        "types": [
         "string",
         "integer",
         "string",
         "integer"
        ],
        "values": [
         [
          "Physical Review B - Condensed Matter and Materials Physics",
          "7",
          "Disclinations in C60 molecular layers on WO2/ W(110) surfaces",
          "2014"
         ],
         [
          "European Journal of Mineralogy",
          "0",
          "Continuous description of grain boundaries using crystal defect fields: The example of a {3 1 0}/[0 0 1] tilt boundary in MgO",
          "2017"
         ],
         [
          "Acta Materialia",
          "18",
          "On particle size effects: An internal length mean field approach using field dislocation mechanics",
          "2010"
         ],
         [
          "Modelling and Simulation in Materials Science and Engineering",
          "7",
          "A numerical spectral approach to solve the dislocation density transport equation",
          "2015"
         ],
         [
          "International Journal of Plasticity",
          "14",
          "Continuous description of the atomic structure of grain boundaries using dislocation and generalized-disclination density fields",
          "2016"
         ],
         [
          "International Journal of Solids and Structures",
          "48",
          "An elasto-plastic theory of dislocation and disclination fields",
          "2011"
         ],
         [
          "International Journal of Solids and Structures",
          "16",
          "Grain boundary and triple junction energies in crystalline media: A disclination based approach",
          "2011"
         ],
         [
          "International Journal of Plasticity",
          "27",
          "Disclination mediated plasticity in shear-coupled boundary migration",
          "2014"
         ],
         [
          "International Journal of Plasticity",
          "5",
          "A higher order elasto-viscoplastic model using fast Fourier transforms: Effects of lattice curvatures on mechanical response of nanocrystalline metals",
          "2016"
         ],
         [
          "Journal of the Mechanics and Physics of Solids",
          "15",
          "Continuity constraints at interfaces and their consequences on the work hardening of metalmatrix composites",
          "2011"
         ],
         [
          "Scripta Materialia",
          "8",
          "Modeling of large strain hardening during grain refinement",
          "2012"
         ],
         [
          "International Journal of Solids and Structures",
          "11",
          "Tangential continuity of elastic/plastic curvature and strain at interfaces",
          "2012"
         ],
         [
          "European Journal of Mechanics, A/Solids",
          "12",
          "Effects of heterogeneous elasticity coupled to plasticity on stresses and lattice rotations in bicrystals: A Field Dislocation Mechanics viewpoint",
          "2013"
         ],
         [
          "Scripta Materialia",
          "6",
          "Geometrically necessary dislocations in a c-axis oriented cylindrical bar of basal-slipping hexagonal crystals deformed in torsion",
          "2004"
         ],
         [
          "Journal of Glaciology",
          "11",
          "Dynamic recrystallisation of ice aggregates during co-axial viscoplastic deformation: A numerical approach",
          "2016"
         ],
         [
          "Physical Review Letters",
          "25",
          "Effects of size on the dynamics of dislocations in ice single crystals",
          "2007"
         ],
         [
          "Acta Materialia",
          "8",
          "Rearrangement of dislocation structures in the aging of ice single crystals",
          "2008"
         ],
         [
          "Journal of Applied Physics",
          "3",
          "A field theory of piezoelectric media containing dislocations",
          "2014"
         ],
         [
          "Acta Materialia",
          "25",
          "Directionality of yield point in strain-aged steels: The role of polar dislocations",
          "2008"
         ],
         [
          "Journal of the Mechanics and Physics of Solids",
          "2",
          "Nonlocal elasticity tensors in dislocation and disclination cores",
          "2017"
         ],
         [
          "Computational Materials Science",
          "3",
          "Numerical analysis of the indentation size effect using a strain gradient crystal plasticity model",
          "2014"
         ],
         [
          "Computer Methods in Applied Mechanics and Engineering",
          "2",
          "Field Dislocation Mechanics for heterogeneous elastic materials: A numerical spectral approach",
          "2017"
         ],
         [
          "Journal of the Mechanics and Physics of Solids",
          "20",
          "Continuity in the plastic strain rate and its influence on texture evolution",
          "2010"
         ],
         [
          "Modelling and Simulation in Materials Science and Engineering",
          "2",
          "Modelling the transport of geometrically necessary dislocations on slip systems: Application to single- and multi-crystals of ice",
          "2017"
         ],
         [
          "Acta Materialia",
          "38",
          "Evolution of texture and microstructure during hot torsion of a magnesium alloy",
          "2013"
         ],
         [
          "Computational Materials Science",
          "10",
          "A new mean field micromechanical approach to capture grain size effects",
          "2009"
         ],
         [
          "International Journal of Solids and Structures",
          "3",
          "Effects of grain-to-grain interactions on shear strain localization in Al–Cu–Li rolled sheets",
          "2016"
         ],
         [
          "Modelling and Simulation in Materials Science and Engineering",
          "30",
          "Dislocation transport using an explicit Galerkin/least-squares formulation",
          "2006"
         ],
         [
          "Acta Materialia",
          "13",
          "Role of discrete intragranular slip on lattice rotations in polycrystalline Ni: Experimental and micromechanical studies",
          "2010"
         ],
         [
          "Journal of Microscopy",
          "38",
          "The weighted Burgers vector: A new quantity for constraining dislocation densities and types using electron backscatter diffraction on 2D sections through crystalline materials",
          "2009"
         ],
         [
          "Journal of Glaciology",
          "16",
          "Creep and plasticity of glacier ice: A material science perspective",
          "2011"
         ],
         [
          "Journal of the Mechanics and Physics of Solids",
          "12",
          "Lattice incompatibility and strain-aging in single crystals",
          "2009"
         ],
         [
          "International Journal of Solids and Structures",
          "8",
          "A mesoscopic theory of dislocation and disclination fields for grain boundary-mediated crystal plasticity",
          "2015"
         ],
         [
          "Earth and Planetary Science Letters",
          "17",
          "Lattice distortion in ice crystals from the Vostok core (Antarctica) revealed by hard X-ray diffraction; implication in the deformation of ice at low stresses",
          "2003"
         ],
         [
          "Philosophical Magazine",
          "7",
          "Numerical implementation of static Field Dislocation Mechanics theory for periodic media",
          "2014"
         ],
         [
          "Journal of Applied Crystallography",
          "5",
          "Three-dimensional rocking curve imaging to measure the effective distortion in the neighbourhood of a defect within a crystal: An ice example",
          "2013"
         ],
         [
          "International Journal of Solids and Structures",
          "17",
          "Intra-granular plastic slip heterogeneities: Discrete vs. Mean Field approaches",
          "2008"
         ],
         [
          "International Journal of Solids and Structures",
          "32",
          "Disclination densities from EBSD orientation mapping",
          "2013"
         ],
         [
          "International Journal of Plasticity",
          "3",
          "Building compact dislocation cores in an elasto-plastic model of dislocation fields",
          "2016"
         ],
         [
          "Acta Materialia",
          "9",
          "Characterizing short-range vs. long-range spatial correlations in dislocation distributions",
          "2010"
         ],
         [
          "Acta Materialia",
          "25",
          "Spatial correlation in grain misorientation distribution",
          "2009"
         ],
         [
          "Journal of Structural Geology",
          "29",
          "Multiscale modeling of ice deformation behavior",
          "2014"
         ],
         [
          "Physical Review B - Condensed Matter and Materials Physics",
          "38",
          "Dislocation transport and intermittency in the plasticity of crystalline solids",
          "2009"
         ],
         [
          "Acta Materialia",
          "10",
          "Size effects on the hardening of channel-type microstructures: A field dislocation mechanics-based approach",
          "2012"
         ],
         [
          "Earth and Planetary Science Letters",
          "3",
          "Non-basal dislocations should be accounted for in simulating ice mass flow",
          "2017"
         ]
        ]
       }
      }
     },
     "872480ba095840f0b9775cb23a4fe88f": {
      "model_module": "@jupyter-widgets/base",
      "model_module_version": "*",
      "model_name": "LayoutModel",
      "state": {
       "_model_module_version": "*",
       "_view_module_version": "*"
      }
     },
     "9a89635beb284ba69b4fc153bc1cf0a6": {
      "model_module": "beakerx",
      "model_module_version": "*",
      "model_name": "TableDisplayModel",
      "state": {
       "layout": "IPY_MODEL_c60524165a134d13a58f4ebf04cf89b4",
       "model": {
        "alignmentForColumn": {},
        "alignmentForType": {},
        "cellHighlighters": [],
        "columnNames": [
         "authors",
         "journal",
         "nbrCitation",
         "title",
         "year"
        ],
        "columnOrder": [],
        "columnsFrozen": {},
        "columnsFrozenRight": {},
        "columnsVisible": {},
        "contextMenuItems": [],
        "contextMenuTags": {},
        "fontColor": [],
        "hasDoubleClickAction": false,
        "headersVertical": false,
        "rendererForColumn": {},
        "rendererForType": {},
        "stringFormatForColumn": {},
        "stringFormatForType": {},
        "subtype": "ListOfMaps",
        "tooManyRows": false,
        "tooltips": [],
        "type": "TableDisplay",
        "types": [
         "string",
         "string",
         "integer",
         "string",
         "integer"
        ],
        "values": [
         [
          "Bozhko, S.I.; Taupin, V.; Lebyodkin, M.; Fressengeas, C.; Levchenko, E.A.; Radikan, K.; Lübben, O.; Semenov, V.N.; Shvets, I.V.",
          "Physical Review B - Condensed Matter and Materials Physics",
          "7",
          "Disclinations in C60 molecular layers on WO2/ W(110) surfaces",
          "2014"
         ],
         [
          "Sun, X.-Y.; Cordier, P.; Taupin, V.; Fressengeas, C.; Karki, B.B.",
          "European Journal of Mineralogy",
          "0",
          "Continuous description of grain boundaries using crystal defect fields: The example of a {3 1 0}/[0 0 1] tilt boundary in MgO",
          "2017"
         ],
         [
          "Taupin, V.; Berbenni, S.; Fressengeas, C.; Bouaziz, O.",
          "Acta Materialia",
          "18",
          "On particle size effects: An internal length mean field approach using field dislocation mechanics",
          "2010"
         ],
         [
          "Djaka, K.S.; Taupin, V.; Berbenni, S.; Fressengeas, C.",
          "Modelling and Simulation in Materials Science and Engineering",
          "7",
          "A numerical spectral approach to solve the dislocation density transport equation",
          "2015"
         ],
         [
          "Sun, X.-Y.; Taupin, V.; Fressengeas, C.; Cordier, P.",
          "International Journal of Plasticity",
          "14",
          "Continuous description of the atomic structure of grain boundaries using dislocation and generalized-disclination density fields",
          "2016"
         ],
         [
          "Fressengeas, C.; Taupin, V.; Capolungo, L.",
          "International Journal of Solids and Structures",
          "48",
          "An elasto-plastic theory of dislocation and disclination fields",
          "2011"
         ],
         [
          "Upadhyay, M.; Capolungo, L.; Taupin, V.; Fressengeas, C.",
          "International Journal of Solids and Structures",
          "16",
          "Grain boundary and triple junction energies in crystalline media: A disclination based approach",
          "2011"
         ],
         [
          "Taupin, V.; Capolungo, L.; Fressengeas, C.",
          "International Journal of Plasticity",
          "27",
          "Disclination mediated plasticity in shear-coupled boundary migration",
          "2014"
         ],
         [
          "Upadhyay, M.V.; Capolungo, L.; Taupin, V.; Fressengeas, C.; Lebensohn, R.A.",
          "International Journal of Plasticity",
          "5",
          "A higher order elasto-viscoplastic model using fast Fourier transforms: Effects of lattice curvatures on mechanical response of nanocrystalline metals",
          "2016"
         ],
         [
          "Richeton, T.; Wang, G.F.; Fressengeas, C.",
          "Journal of the Mechanics and Physics of Solids",
          "15",
          "Continuity constraints at interfaces and their consequences on the work hardening of metalmatrix composites",
          "2011"
         ],
         [
          "Gu, C.F.; Tóth, L.S.; Beausir, B.",
          "Scripta Materialia",
          "8",
          "Modeling of large strain hardening during grain refinement",
          "2012"
         ],
         [
          "Fressengeas, C.; Taupin, V.; Upadhyay, M.; Capolungo, L.",
          "International Journal of Solids and Structures",
          "11",
          "Tangential continuity of elastic/plastic curvature and strain at interfaces",
          "2012"
         ],
         [
          "Richeton, T.; Berbenni, S.",
          "European Journal of Mechanics, A/Solids",
          "12",
          "Effects of heterogeneous elasticity coupled to plasticity on stresses and lattice rotations in bicrystals: A Field Dislocation Mechanics viewpoint",
          "2013"
         ],
         [
          "Martínez-Esnaola, J.M.; Montagnat, M.; Duval, P.; Gil Sevillano, J.",
          "Scripta Materialia",
          "6",
          "Geometrically necessary dislocations in a c-axis oriented cylindrical bar of basal-slipping hexagonal crystals deformed in torsion",
          "2004"
         ],
         [
          "Llorens, M.-G.; Griera, A.; Bons, P.D.; Roessiger, J.; Lebensohn, R.; Evans, L.; Weikusat, I.",
          "Journal of Glaciology",
          "11",
          "Dynamic recrystallisation of ice aggregates during co-axial viscoplastic deformation: A numerical approach",
          "2016"
         ],
         [
          "Taupin, V.; Varadhan, S.; Chevy, J.; Fressengeas, C.; Beaudoin, A.J.; Montagnat, M.; Duval, P.",
          "Physical Review Letters",
          "25",
          "Effects of size on the dynamics of dislocations in ice single crystals",
          "2007"
         ],
         [
          "Taupin, V.; Richeton, T.; Chevy, J.; Fressengeas, C.; Weiss, J.; Louchet, F.; Miguel, M.C.",
          "Acta Materialia",
          "8",
          "Rearrangement of dislocation structures in the aging of ice single crystals",
          "2008"
         ],
         [
          "Taupin, V.; Fressengeas, C.; Ventura, P.; Lebyodkin, M.; Gornakov, V.",
          "Journal of Applied Physics",
          "3",
          "A field theory of piezoelectric media containing dislocations",
          "2014"
         ],
         [
          "Taupin, V.; Varadhan, S.; Fressengeas, C.; Beaudoin, A.J.",
          "Acta Materialia",
          "25",
          "Directionality of yield point in strain-aged steels: The role of polar dislocations",
          "2008"
         ],
         [
          "Taupin, V.; Gbemou, K.; Fressengeas, C.; Capolungo, L.",
          "Journal of the Mechanics and Physics of Solids",
          "2",
          "Nonlocal elasticity tensors in dislocation and disclination cores",
          "2017"
         ],
         [
          "González, D.; Alkorta, J.; Martínez-Esnaola, J.M.; Gil Sevillano, J.",
          "Computational Materials Science",
          "3",
          "Numerical analysis of the indentation size effect using a strain gradient crystal plasticity model",
          "2014"
         ],
         [
          "Djaka, K.S.; Villani, A.; Taupin, V.; Capolungo, L.; Berbenni, S.",
          "Computer Methods in Applied Mechanics and Engineering",
          "2",
          "Field Dislocation Mechanics for heterogeneous elastic materials: A numerical spectral approach",
          "2017"
         ],
         [
          "Mach, J.C.; Beaudoin, A.J.; Acharya, A.",
          "Journal of the Mechanics and Physics of Solids",
          "20",
          "Continuity in the plastic strain rate and its influence on texture evolution",
          "2010"
         ],
         [
          "Richeton, T.; Le, L.T.; Chauve, T.; Bernacki, M.; Berbenni, S.; Montagnat, M.",
          "Modelling and Simulation in Materials Science and Engineering",
          "2",
          "Modelling the transport of geometrically necessary dislocations on slip systems: Application to single- and multi-crystals of ice",
          "2017"
         ],
         [
          "Biswas, S.; Beausir, B.; Toth, L.S.; Suwas, S.",
          "Acta Materialia",
          "38",
          "Evolution of texture and microstructure during hot torsion of a magnesium alloy",
          "2013"
         ],
         [
          "Pipard, J.-M.; Nicaise, N.; Berbenni, S.; Bouaziz, O.; Berveiller, M.",
          "Computational Materials Science",
          "10",
          "A new mean field micromechanical approach to capture grain size effects",
          "2009"
         ],
         [
          "Taupin, V.; Chevy, J.; Fressengeas, C.",
          "International Journal of Solids and Structures",
          "3",
          "Effects of grain-to-grain interactions on shear strain localization in Al–Cu–Li rolled sheets",
          "2016"
         ],
         [
          "Varadhan, S.N.; Beaudoin, A.J.; Acharya, A.; Fressengeas, C.",
          "Modelling and Simulation in Materials Science and Engineering",
          "30",
          "Dislocation transport using an explicit Galerkin/least-squares formulation",
          "2006"
         ],
         [
          "Perrin, C.; Berbenni, S.; Vehoff, H.; Berveiller, M.",
          "Acta Materialia",
          "13",
          "Role of discrete intragranular slip on lattice rotations in polycrystalline Ni: Experimental and micromechanical studies",
          "2010"
         ],
         [
          "Wheeler, J.; Mariani, E.; Piazolo, S.; Prior, D.J.; Trimby, P.; Drury, M.R.",
          "Journal of Microscopy",
          "38",
          "The weighted Burgers vector: A new quantity for constraining dislocation densities and types using electron backscatter diffraction on 2D sections through crystalline materials",
          "2009"
         ],
         [
          "Duval, P.; Montagnat, M.; Grennerat, F.; Weiss, J.; Meyssonnier, J.; Philip, A.",
          "Journal of Glaciology",
          "16",
          "Creep and plasticity of glacier ice: A material science perspective",
          "2011"
         ],
         [
          "Varadhan, S.; Beaudoin, A.J.; Fressengeas, C.",
          "Journal of the Mechanics and Physics of Solids",
          "12",
          "Lattice incompatibility and strain-aging in single crystals",
          "2009"
         ],
         [
          "Taupin, V.; Capolungo, L.; Fressengeas, C.; Upadhyay, M.; Beausir, B.",
          "International Journal of Solids and Structures",
          "8",
          "A mesoscopic theory of dislocation and disclination fields for grain boundary-mediated crystal plasticity",
          "2015"
         ],
         [
          "Montagnat, M.; Duval, P.; Bastie, P.; Hamelin, B.; Lipenkov, V.Y.",
          "Earth and Planetary Science Letters",
          "17",
          "Lattice distortion in ice crystals from the Vostok core (Antarctica) revealed by hard X-ray diffraction; implication in the deformation of ice at low stresses",
          "2003"
         ],
         [
          "Brenner, R.; Beaudoin, A.J.; Suquet, P.; Acharya, A.",
          "Philosophical Magazine",
          "7",
          "Numerical implementation of static Field Dislocation Mechanics theory for periodic media",
          "2014"
         ],
         [
          "Philip, A.; Meyssonnier, J.; Kluender, R.T.; Baruchel, J.",
          "Journal of Applied Crystallography",
          "5",
          "Three-dimensional rocking curve imaging to measure the effective distortion in the neighbourhood of a defect within a crystal: An ice example",
          "2013"
         ],
         [
          "Berbenni, S.; Berveiller, M.; Richeton, T.",
          "International Journal of Solids and Structures",
          "17",
          "Intra-granular plastic slip heterogeneities: Discrete vs. Mean Field approaches",
          "2008"
         ],
         [
          "Beausir, B.; Fressengeas, C.",
          "International Journal of Solids and Structures",
          "32",
          "Disclination densities from EBSD orientation mapping",
          "2013"
         ],
         [
          "Gbemou, K.; Taupin, V.; Raulot, J.M.; Fressengeas, C.",
          "International Journal of Plasticity",
          "3",
          "Building compact dislocation cores in an elasto-plastic model of dislocation fields",
          "2016"
         ],
         [
          "Chevy, J.; Fressengeas, C.; Lebyodkin, M.; Taupin, V.; Bastie, P.; Duval, P.",
          "Acta Materialia",
          "9",
          "Characterizing short-range vs. long-range spatial correlations in dislocation distributions",
          "2010"
         ],
         [
          "Beausir, B.; Fressengeas, C.; Gurao, N.P.; Tóth, L.S.; Suwas, S.",
          "Acta Materialia",
          "25",
          "Spatial correlation in grain misorientation distribution",
          "2009"
         ],
         [
          "Montagnat, M.; Castelnau, O.; Bons, P.D.; Faria, S.H.; Gagliardini, O.; Gillet-Chaulet, F.; Grennerat, F.; Griera, A.; Lebensohn, R.A.; Moulinec, H.; Roessiger, J.; Suquet, P.",
          "Journal of Structural Geology",
          "29",
          "Multiscale modeling of ice deformation behavior",
          "2014"
         ],
         [
          "Fressengeas, C.; Beaudoin, A.J.; Entemeyer, D.; Lebedkina, T.; Lebyodkin, M.; Taupin, V.",
          "Physical Review B - Condensed Matter and Materials Physics",
          "38",
          "Dislocation transport and intermittency in the plasticity of crystalline solids",
          "2009"
         ],
         [
          "Taupin, V.; Berbenni, S.; Fressengeas, C.",
          "Acta Materialia",
          "10",
          "Size effects on the hardening of channel-type microstructures: A field dislocation mechanics-based approach",
          "2012"
         ],
         [
          "Chauve, T.; Montagnat, M.; Piazolo, S.; Journaux, B.; Wheeler, J.; Barou, F.; Mainprice, D.; Tommasi, A.",
          "Earth and Planetary Science Letters",
          "3",
          "Non-basal dislocations should be accounted for in simulating ice mass flow",
          "2017"
         ]
        ]
       }
      }
     },
     "9bbdc2e6105b453ab64c1503cb99fac4": {
      "model_module": "@jupyter-widgets/base",
      "model_module_version": "*",
      "model_name": "LayoutModel",
      "state": {
       "_model_module_version": "*",
       "_view_module_version": "*"
      }
     },
     "c26c44d31bc34a8fb15d9de620edfaf4": {
      "model_module": "beakerx",
      "model_module_version": "*",
      "model_name": "TableDisplayModel",
      "state": {
       "layout": "IPY_MODEL_872480ba095840f0b9775cb23a4fe88f",
       "model": {
        "alignmentForColumn": {},
        "alignmentForType": {},
        "cellHighlighters": [],
        "columnNames": [
         "journal",
         "nbrCitation",
         "title",
         "year"
        ],
        "columnOrder": [],
        "columnsFrozen": {},
        "columnsFrozenRight": {},
        "columnsVisible": {},
        "contextMenuItems": [],
        "contextMenuTags": {},
        "fontColor": [],
        "hasDoubleClickAction": false,
        "headersVertical": false,
        "rendererForColumn": {},
        "rendererForType": {},
        "stringFormatForColumn": {},
        "stringFormatForType": {},
        "subtype": "ListOfMaps",
        "tooManyRows": false,
        "tooltips": [],
        "type": "TableDisplay",
        "types": [
         "string",
         "integer",
         "string",
         "integer"
        ],
        "values": [
         [
          "SIAM Journal on Applied Mathematics",
          "6",
          "Homogenization of a row of dislocation dipoles from discrete dislocation dynamics",
          "2016"
         ],
         [
          "Communications in Mathematical Sciences",
          "0",
          "A continuum model for distributions of dislocations incorporating short-range interactions",
          "2018"
         ],
         [
          "Philosophical Magazine",
          "11",
          "Continuum model for dislocation dynamics in a slip plane",
          "2010"
         ],
         [
          "International Journal of Plasticity",
          "15",
          "A continuum model for dislocation dynamics incorporating Frank-Read sources and Hall-Petch relation in two dimensions",
          "2014"
         ],
         [
          "Journal of the Mechanics and Physics of Solids",
          "8",
          "A continuum model for dislocation dynamics in three dimensions using the dislocation density potential functions and its application to micro-pillars",
          "2015"
         ],
         [
          "Journal of the Mechanics and Physics of Solids",
          "14",
          "Continuum framework for dislocation structure, energy and dynamics of dislocation arrays and low angle grain boundaries",
          "2014"
         ],
         [
          "Metallurgical and Materials Transactions A: Physical Metallurgy and Materials Science",
          "1",
          "Bauschinger Effect and Back Stress in Gradient Cu-Ge Alloy",
          "2017"
         ],
         [
          "Journal of the Mechanics and Physics of Solids",
          "2",
          "Continuum dynamics of the formation, migration and dissociation of self-locked dislocation structures on parallel slip planes",
          "2016"
         ]
        ]
       }
      }
     },
     "c60524165a134d13a58f4ebf04cf89b4": {
      "model_module": "@jupyter-widgets/base",
      "model_module_version": "*",
      "model_name": "LayoutModel",
      "state": {
       "_model_module_version": "*",
       "_view_module_version": "*"
      }
     },
     "fe66177489c14c9a9782d5cc2d2fd1af": {
      "model_module": "@jupyter-widgets/base",
      "model_module_version": "*",
      "model_name": "LayoutModel",
      "state": {
       "_model_module_version": "*",
       "_view_module_version": "*"
      }
     }
    },
    "version_major": 2,
    "version_minor": 0
   }
  }
 },
 "nbformat": 4,
 "nbformat_minor": 2
}
