{
 "cells": [
  {
   "cell_type": "code",
   "execution_count": 1,
   "metadata": {},
   "outputs": [],
   "source": [
    "import bibigraph as big"
   ]
  },
  {
   "cell_type": "code",
   "execution_count": 2,
   "metadata": {},
   "outputs": [],
   "source": [
    "%load_ext autoreload\n",
    "%autoreload 2"
   ]
  },
  {
   "cell_type": "code",
   "execution_count": 3,
   "metadata": {},
   "outputs": [
    {
     "name": "stdout",
     "output_type": "stream",
     "text": [
      "236 articles added\n"
     ]
    }
   ],
   "source": [
    "biblio = big.Bibliography()\n",
    "\n",
    "datafile = 'data/scopus_with_affiliation.bib'\n",
    "biblio.load( datafile )"
   ]
  },
  {
   "cell_type": "code",
   "execution_count": 4,
   "metadata": {},
   "outputs": [
    {
     "data": {
      "text/plain": [
       "Experimental procedure and sim... (2018) Mechanics of Materials"
      ]
     },
     "execution_count": 4,
     "metadata": {},
     "output_type": "execute_result"
    }
   ],
   "source": [
    "biblio.articles[3]"
   ]
  },
  {
   "cell_type": "code",
   "execution_count": 6,
   "metadata": {},
   "outputs": [],
   "source": [
    "import networkx as nx"
   ]
  },
  {
   "cell_type": "code",
   "execution_count": 9,
   "metadata": {},
   "outputs": [],
   "source": [
    "# Build a distance matrix between each article\n",
    "# the distance function is the number of authors in both article\n",
    "# - create a networkx Graph -\n",
    "\n",
    "distanceByCoauthors = nx.Graph()\n",
    "for i, articleA in enumerate( biblio.articles ):\n",
    "    for j in range( i+1, len(biblio.articles) ):\n",
    "        articleB = biblio.articles[j]\n",
    "\n",
    "        authorsA = set( articleA.authors )\n",
    "        authorsB = set( articleB.authors )\n",
    "\n",
    "        nCommun = len( authorsA & authorsB ) # intersection\n",
    "        if nCommun>1:\n",
    "            ebunch = (articleA.key, articleB.key, {'weight': nCommun})\n",
    "            distanceByCoauthors.add_edges_from([ebunch ])\n",
    "            \n",
    "cc = nx.connected_components(distanceByCoauthors)\n",
    "groupByAuthors = [c for c in sorted(cc, key=len, reverse=True)]"
   ]
  },
  {
   "cell_type": "code",
   "execution_count": 10,
   "metadata": {},
   "outputs": [
    {
     "data": {
      "text/plain": [
       "[{'Archie2017302',\n",
       "  'Baron2016185',\n",
       "  'Deng2015124',\n",
       "  'Diehl2016429',\n",
       "  'Diehl2017311',\n",
       "  'Diehl2017848',\n",
       "  'Diehl2017872',\n",
       "  'Grilli2018104',\n",
       "  'Lai2015290',\n",
       "  'Lai2016173',\n",
       "  'Lai201867',\n",
       "  'Li2017323',\n",
       "  'Ponge201740',\n",
       "  'Raabe20151127',\n",
       "  'Schemmann2015386',\n",
       "  'Tan2016200',\n",
       "  'Tarzimoghadam2015291',\n",
       "  'Tasan2015391',\n",
       "  'Welsch2016188',\n",
       "  'Yan2015399',\n",
       "  'Yao2017258',\n",
       "  'Zhang2016111'},\n",
       " {'AlabdAlhafez2016187',\n",
       "  'AlabdAlhafez2017',\n",
       "  'AlabdAlhafez2018',\n",
       "  'Alhafez2015',\n",
       "  'Alhafez2016',\n",
       "  'Alhafez201740',\n",
       "  'Gao201577',\n",
       "  'Gao2016688',\n",
       "  'Gunkelmann2017181',\n",
       "  'Kositski2015370',\n",
       "  'Kositski2018125',\n",
       "  'Ruestes2017',\n",
       "  'Steinberger20162065'},\n",
       " {'Monavari2016575', 'Sandfeld2015', 'Wu201642', 'Wu2017142', 'Wu2017389'},\n",
       " {'Fu2015643', 'Fu201577831', 'Huang2017', 'Huang2017215', 'Huang2017609'},\n",
       " {'Wang2017', 'Wang2017143', 'Wang2018', 'Zhan2018392'},\n",
       " {'Voyiadjis2016315', 'Voyiadjis2017', 'Yaghoobi201664', 'Yaghoobi201710'},\n",
       " {'Feng2017193', 'Liu2017236', 'Xie201710', 'Xu2017174'},\n",
       " {'Weaver2016463', 'Weaver2017368', 'Weaver20185296'},\n",
       " {'Leitner2017', 'Leitner201869'},\n",
       " {'Zhang2018109', 'Zhang2018799'},\n",
       " {'Li2017', 'Li201796'},\n",
       " {'Wu2016337', 'Yang2016213'},\n",
       " {'Briffod20161741', 'Briffod201872'},\n",
       " {'Kasvayee201627', 'Kasvayee2017265'},\n",
       " {'Fernandez-Zelaia2017535', 'Fernandez-Zelaia201892'},\n",
       " {'Ast20163786', 'Ast2017198'},\n",
       " {'Aghababaei2016', 'Aghababaei2018'},\n",
       " {'Hémery2017285', 'Hémery2018277'},\n",
       " {'Gagel2016399', 'Weygand2015369'}]"
      ]
     },
     "execution_count": 10,
     "metadata": {},
     "output_type": "execute_result"
    }
   ],
   "source": [
    "groupByAuthors"
   ]
  },
  {
   "cell_type": "code",
   "execution_count": 197,
   "metadata": {},
   "outputs": [],
   "source": [
    "a = groupByAuthors[0].pop()"
   ]
  },
  {
   "cell_type": "code",
   "execution_count": 42,
   "metadata": {},
   "outputs": [
    {
     "name": "stdout",
     "output_type": "stream",
     "text": [
      "0 (2017) Nanocutting: A comparative molecular-dynamics study of Fcc, Bcc, and Hcp metals\n",
      "0 (2018) Shear relaxation behind the shock front in 110 molybdenum – From the atomic scale to continuous dislocation fields\n",
      "2 (2016) A Universal Approach Towards Computational Characterization of Dislocation Microstructure\n",
      "0 (2016) Nanocutting: A comparative molecular-dynamics study of Fcc, Bcc, and Hcp metals\n",
      "0 (2018) Size of the Plastic Zone Produced by Nanoscratching\n",
      "2 (2017) Nanoscratching of iron: A novel approach to characterize dislocation microstructures\n",
      "3 (2017) Atomistic studies of nanoindentation—A review of recent advances\n",
      "4 (2017) Influence of Tip Geometry on Nanoscratching\n",
      "17 (2015) Nanoindentation of hcp metals: A comparative simulation study of the evolution of dislocation networks\n",
      "6 (2015) Depinning-controlled plastic deformation during nanoindentation of BCC iron thin films and nanoparticles\n",
      "5 (2016) Scratching of nanocrystalline metals: A molecular dynamics study of Fe\n",
      "4 (2016) Scratching of hcp metals: A molecular-dynamics study\n",
      "14 (2015) Nanoscratching of iron: A molecular dynamics study of the influence of surface orientation and scratching direction\n"
     ]
    }
   ],
   "source": [
    "groupId = 1\n",
    "for a in groupByAuthors[groupId]: \n",
    "    article =  biblio.getArticleFromKey(a)\n",
    "    print( '%i (%i) %s'%(article.nbrCitation, article.year, article.title) )"
   ]
  },
  {
   "cell_type": "code",
   "execution_count": 28,
   "metadata": {},
   "outputs": [
    {
     "name": "stdout",
     "output_type": "stream",
     "text": [
      "Alhafez, I.A.; Gao, Y.; Urbassek, H.M.\n",
      "Kositski, R.; Mordehai, D.; Sandfeld, S.; Steinberger, D.\n",
      "Gatti, R.; Sandfeld, S.; Steinberger, D.\n",
      "Alhafez, I.A.; Gao, Y.; Urbassek, H.M.\n",
      "Alabd Alhafez, I.; Ruestes, C.J.; Urbassek, H.M.\n",
      "Alabd Alhafez, I.; Gunkelmann, N.; Sandfeld, S.; Steinberger, D.; Urbassek, H.M.\n",
      "Alhafez, I.A.; Ruestes, C.J.; Urbassek, H.M.\n",
      "Alabd Alhafez, I.; Brodyanski, A.; Kopnarski, M.; Urbassek, H.M.\n",
      "Alhafez, I.A.; Gao, Y.; Ruestes, C.J.; Urbassek, H.M.\n",
      "Kositski, R.; Mordehai, D.\n",
      "Gao, Y.; Urbassek, H.M.\n",
      "Alabd Alhafez, I.; Urbassek, H.M.\n",
      "Brodyanski, A.; Gao, Y.; Kopnarski, M.; Urbassek, H.M.\n"
     ]
    }
   ],
   "source": [
    "groupId = 1\n",
    "for a in groupByAuthors[groupId]: \n",
    "    article =  biblio.getArticleFromKey(a)\n",
    "    print('; '.join( sorted(article.authors ) ))"
   ]
  },
  {
   "cell_type": "code",
   "execution_count": 25,
   "metadata": {},
   "outputs": [
    {
     "name": "stdout",
     "output_type": "stream",
     "text": [
      "Diehl, M.; Wicke, M.; Shanthraj, P.; Roters, F.; Brueckner-Foit, A.; Raabe, D.\n",
      "[('Düsseldorf', 'Germany'), ('Kassel', 'Germany')]\n",
      "Zhang, H.; Diehl, M.; Roters, F.; Raabe, D.\n",
      "[('Düsseldorf', 'Germany'), ('Shanghai', 'China')]\n",
      "Raabe, D.; Tasan, C.C.; Springer, H.; Bausch, M.\n",
      "[('Düsseldorf', 'Germany')]\n",
      "Tan, X.-D.; Xu, Y.-B.; Ponge, D.; Yang, X.-L.; Hu, Z.-P.; Peng, F.; Ju, X.-W.; Wu, D.; Raabe, D.\n",
      "[('Shenyang', 'China'), ('Düsseldorf', 'Germany'), ('Beijing', 'China')]\n",
      "Lai, M.J.; Tasan, C.C.; Raabe, D.\n",
      "[('Düsseldorf', 'Germany')]\n",
      "Deng, Y.; Tasan, C.C.; Pradeep, K.G.; Springer, H.; Kostka, A.; Raabe, D.\n",
      "[('Düsseldorf', 'Germany'), ('Trondheim', 'Norway'), ('Aachen', 'Germany')]\n",
      "Tarzimoghadam, Z.; Sandlöbes, S.; Pradeep, K.G.; Raabe, D.\n",
      "[('Düsseldorf', 'Germany')]\n",
      "Welsch, E.; Ponge, D.; Hafez Haghighat, S.M.; Sandlöbes, S.; Choi, P.; Herbig, M.; Zaefferer, S.; Raabe, D.\n",
      "[('Düsseldorf', 'Germany'), ('Aachen', 'Germany'), ('Daejeon', 'South Korea')]\n",
      "Lai, M.J.; Li, T.; Raabe, D.\n",
      "[('Düsseldorf', 'Germany'), ('Bochum', 'Germany')]\n",
      "Baron, C.; Springer, H.; Raabe, D.\n",
      "[('Düsseldorf', 'Germany')]\n",
      "Li, Z.; Tasan, C.C.; Pradeep, K.G.; Raabe, D.\n",
      "[('Düsseldorf', 'Germany'), ('MA', 'United States'), ('Aachen', 'Germany')]\n",
      "Lai, M.J.; Tasan, C.C.; Raabe, D.\n",
      "[('Düsseldorf', 'Germany')]\n",
      "Tasan, C.C.; Diehl, M.; Yan, D.; Bechtold, M.; Roters, F.; Schemmann, L.; Zheng, C.; Peranio, N.; Ponge, D.; Koyama, M.; Tsuzaki, K.; Raabe, D.\n",
      "[('Düsseldorf', 'Germany'), ('Salzgitter', 'Germany'), ('Duisburg', 'Germany'), ('Shenyang', 'China'), ('Tübingen', 'Germany'), ('Fukuoka', 'Japan')]\n",
      "Archie, F.; Li, X.; Zaefferer, S.\n",
      "[('Düsseldorf', 'Germany'), ('EMPA Swiss Federal Laboratories for Materials Science & Technology', 'Switzerland')]\n",
      "Ponge, D.; Diehl, M.; Archie, F.; Zaefferer, S.; Roters, F.; Raabe, D.\n",
      "[('Düsseldorf', 'Germany')]\n"
     ]
    }
   ],
   "source": [
    "groupId = 0\n",
    "for a in groupByAuthors[groupId]:\n",
    "    print('; '.join( biblio.getArticleFromKey(a).authors ))\n",
    "    print( [ parseAffiliation( aff ) for aff in  biblio.getArticleFromKey(a).affiliation ] )"
   ]
  },
  {
   "cell_type": "code",
   "execution_count": 191,
   "metadata": {},
   "outputs": [
    {
     "data": {
      "text/plain": [
       "159"
      ]
     },
     "execution_count": 191,
     "metadata": {},
     "output_type": "execute_result"
    }
   ],
   "source": [
    "distanceByCoauthors.number_of_nodes()"
   ]
  },
  {
   "cell_type": "code",
   "execution_count": 24,
   "metadata": {},
   "outputs": [],
   "source": [
    "def parseAffiliation( aff ):\n",
    "    ''' take the affiliation string (already splited)\n",
    "    '''\n",
    "    aff = aff.split(',')\n",
    "    country = aff[-1].strip()\n",
    "    city = aff[-2].strip()\n",
    "    \n",
    "    return city, country"
   ]
  },
  {
   "cell_type": "code",
   "execution_count": null,
   "metadata": {},
   "outputs": [],
   "source": []
  }
 ],
 "metadata": {
  "kernelspec": {
   "display_name": "Python 3",
   "language": "python",
   "name": "python3"
  },
  "language_info": {
   "codemirror_mode": {
    "name": "ipython",
    "version": 3
   },
   "file_extension": ".py",
   "mimetype": "text/x-python",
   "name": "python",
   "nbconvert_exporter": "python",
   "pygments_lexer": "ipython3",
   "version": "3.5.2"
  }
 },
 "nbformat": 4,
 "nbformat_minor": 2
}
